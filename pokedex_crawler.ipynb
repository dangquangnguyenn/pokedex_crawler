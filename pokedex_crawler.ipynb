{
 "cells": [
  {
   "cell_type": "markdown",
   "metadata": {
    "id": "Du6rimrD4gbN"
   },
   "source": [
    "<h1><b>ĐỒ ÁN CUỐI KỲ NMKHDL</b></h1>\n",
    "<h2><b>POKEDEX</b></h2>\n",
    "\n",
    "Họ tên: Nguyễn Đăng Quang\n",
    "\n",
    "MSSV: 18120527\n",
    "\n"
   ]
  },
  {
   "cell_type": "markdown",
   "metadata": {},
   "source": [
    "# Giới thiệu sơ lược\n",
    "##### Có thể bạn chưa biết, Pocket Monsters viết tắt là Pokemon, một series game cũng như anime đình đám, series game Pokemon phát triển bởi GameFreak hiện vẫn đang làm mưa làm gió trên các hệ máy Nitendo và trên thị trường game toàn cầu. Nhân dịp gen9 (Scarlet & Violet) của game vừa ra mắt, chúng ta sẽ điểm lại các pokemon từ những thế hệ trước và thông số cũng như đặc tính của chúng thông qua Pokedex. Ở đây, chúng ta sẽ sử dụng \"https://pokemondb.net/pokedex/all\" là trang web chứa dữ liệu Pokedex, hay nói cách khác là danh sách của toàn bộ Pokemon ĐÃ xuất hiện xuyên suốt series game này. Let's go!"
   ]
  },
  {
   "cell_type": "markdown",
   "metadata": {},
   "source": [
    "# Install và import\n",
    "- bs4 (Beautiful Soup): Một thư viện Python dùng để phân tích các tài liệu HTML và XML. Nó tạo ra một cây phân tích cú pháp cho các trang được phân tích cú pháp có thể được sử dụng để trích xuất dữ liệu từ HTML, rất hữu ích cho web scrapping.\n",
    "- requests: Cho phép gửi các yêu cầu HTTP bằng Python."
   ]
  },
  {
   "cell_type": "code",
   "execution_count": null,
   "metadata": {
    "id": "7ZL9mrLkc3Dp"
   },
   "outputs": [],
   "source": [
    "%pip install bs4\n",
    "%pip install requests\n",
    "%pip install plotly"
   ]
  },
  {
   "cell_type": "code",
   "execution_count": null,
   "metadata": {},
   "outputs": [],
   "source": [
    "!cd"
   ]
  },
  {
   "cell_type": "code",
   "execution_count": null,
   "metadata": {
    "id": "Nah1kqOV74Wk"
   },
   "outputs": [],
   "source": [
    "import bs4\n",
    "import requests\n",
    "import pandas as pd\n",
    "import matplotlib.pyplot as plt\n",
    "import seaborn as sns\n",
    "import numpy as np\n",
    "\n",
    "# plotly packages\n",
    "import plotly.express as px\n",
    "import plotly.graph_objects as go\n",
    "from plotly.subplots import make_subplots"
   ]
  },
  {
   "cell_type": "markdown",
   "metadata": {},
   "source": [
    "# Thu thập và xử lý dữ liệu\n",
    "### 1. Lấy danh sách các id riêng biệt của từng Pokemon\n",
    "- **Lưu ý:** \n",
    "\n",
    "      - Có thể các Pokemon có rất nhiều dạng (vùng miền, mega evolution, mega X/mega Y, nguyên thủy (primal form), tấn công/phòng thủ,...), hình dạng Pokemon thay đổi nhưng id thì vẫn giữ nguyên, vì vậy sẽ xuất hiện trường hợp một id lặp lại nhiều lần, chúng ta chỉ xét hình dạng cơ bản của chúng nên chỉ cần lấy 1 id cho mỗi Pokemon thôi. "
   ]
  },
  {
   "cell_type": "code",
   "execution_count": null,
   "metadata": {},
   "outputs": [],
   "source": [
    "url = 'https://pokemondb.net/pokedex/all'\n",
    "\n",
    "source = requests.get(url).text\n",
    "soup = bs4.BeautifulSoup(source,'html.parser')\n",
    "\n",
    "# Thu thập id của toàn bộ pokemon\n",
    "pokemon_id = soup.findAll('span', {'class': 'infocard-cell-data'})\n",
    "\n",
    "id = []\n",
    "\n",
    "for i in range(len(pokemon_id)):\n",
    "    id.append(pokemon_id[i].text)\n",
    "    id[i] = int(id[i])\n",
    "\n",
    "id = list(set(id))      # Sắp xếp và xóa các id bị trùng"
   ]
  },
  {
   "cell_type": "markdown",
   "metadata": {},
   "source": [
    "### 2. Danh sách các url của từng Pokemon\n",
    "- Chúng ta có thể dùng id hoặc tên của Pokemon để làm subdirectory của url tương ứng với Pokemon đó. \n",
    "\n",
    "##### Ví dụ: Pokemon có tên là Bulbasaur, id là 001:\n",
    "\n",
    "https://pokemondb.net/pokedex/bulbasaur\n",
    "\n",
    "https://pokemondb.net/pokedex/001 hay https://pokemondb.net/pokedex/1"
   ]
  },
  {
   "cell_type": "code",
   "execution_count": null,
   "metadata": {},
   "outputs": [],
   "source": [
    "# Lấy danh sách urls cho web scrapping\n",
    "urls = []\n",
    "n = len(id)\n",
    "\n",
    "for i in range(n):\n",
    "    urls.append('https://pokemondb.net/pokedex/' + str(id[i]))"
   ]
  },
  {
   "cell_type": "markdown",
   "metadata": {},
   "source": [
    "### 3. Thu thập dữ liệu\n",
    "#### 3.1. Thông tin\n",
    "- Lưu ý: ID của Pokemon sẽ được thêm vào sau cùng sau đó đặt ID làm cột index, ở đây chúng ta chỉ xét các thuộc tính như: tên, hệ, loài,...\n",
    "- Sẽ có thêm các cơ sở dữ liệu riêng để mô tả tác dụng của các đặc tính cũng như đặc tính ẩn và tương khắc hệ của chúng\n",
    "- Các thông tin của một Pokemon sẽ bao gồm:\n",
    "\n",
    "            - name: Tên\n",
    "\n",
    "            - types_list: Hệ của Pokemon, mỗi con sẽ mang 1 hệ hoặc song hệ\n",
    "\n",
    "            - species: Loài\n",
    "\n",
    "            - height: Chiều cao\n",
    "\n",
    "            - weight: Cân nặng\n",
    "\n",
    "            - ability: Đặc tính\n",
    "\n",
    "            - hid_ability (hidden ability): Đặc tính ẩn\n",
    "\n",
    "            - catch_rate: Tỉ lệ bắt trúng bằng Poke Ball, bị ảnh hưởng bởi rất nhiều yếu tố:\n",
    "                    * HP hiện tại\n",
    "                    * Loại bóng (Poke Ball, Great Ball', Ultra Ball,...), Master Ball có tỷ lệ thu phục là 100% với tất cả Pokemon\n",
    "                    * Trạng thái hiện tại (Choáng, phỏng, nhiễm độc, ngủ, tê liệt,...)\n",
    "        \n",
    "            - base_fs (base friendship): Chỉ số thân thiện cơ bản, một số Pokemon có chỉ số thân thiện là 0, bọn này có vẻ không ưa con người cho lắm\n",
    "\n",
    "            - base_exp: Số lượng exp cần thiết để lên 1 level bất kỳ được tính theo hàm mũ. Mỗi loại có công thức khác nhau và khá phức tạp:\n",
    "                    * Ví dụ 1 công thức đơn giản nhất cho mọi người:\n",
    "                        Loại 1 000 000: exp = n^3 \n",
    "                        n là level cần lên.\n",
    "                        -> Để lên lv3 Pokemon loại này cần tổng cộng là 27exp trừ số exp hiện có sẽ ra số exp cần phải luyện thêm\n",
    "            \n",
    "            - growth_rate: Tốc độ tăng trưởng:\n",
    "                    * Erratic: 600.000 exp ở level 100\n",
    "                    * Fast: 800.000 điểm kinh nghiệm ở cấp 100\n",
    "                    * Medium Fast: 1.000.000 điểm kinh nghiệm ở cấp 100\n",
    "                    * Medium Slow: 1.059.860 điểm kinh nghiệm ở cấp 100\n",
    "                    * Slow: 1.250.000 điểm kinh nghiệm ở cấp 100\n",
    "                    * Fluctuating: 1.640.000 exp ở cấp 100:\n",
    "        \n",
    "            - genders: Giới tính theo tỷ lệ\n",
    "\n",
    "            - Base Stats: Chỉ số cơ bản, bao gồm: \n",
    "                    * hp (Health Point): Sinh mệnh\n",
    "                    * atk (Attack): Tấn công\n",
    "                    * defn (Defense): Phòng thủ, giáp (Vì def là khai báo hàm nên không dùng để khai báo biến cho Defense được :v)\n",
    "                    * sp_atk (Special Attack): Tấn công đặc biệt, sát thương phép\n",
    "                    * sp_def (Special Defense): Phòng thủ đặc biệt, kháng phép\n",
    "                    * spd (Speed): Tốc độ (tương tự như các game xoay tua, Pokemon tốc độ cao hơn sẽ được đánh trước)\n",
    "                    \n",
    "            - total: Tổng base stats\n"
   ]
  },
  {
   "cell_type": "markdown",
   "metadata": {},
   "source": [
    "- Hàm get_pokemon_info(soup) giúp lấy ra thông tin của một Pokemon có ID chỉ định. Sau đó sẽ dùng vòng lặp để lấy thông tin toàn bộ Pokemon trong Pokedex"
   ]
  },
  {
   "cell_type": "code",
   "execution_count": null,
   "metadata": {},
   "outputs": [],
   "source": [
    "# Thu thập dữ liệu nào\n",
    "def get_pokemon_info(soup):\n",
    "    # name\n",
    "    name = soup.find('h1').text\n",
    "\n",
    "    # types\n",
    "    types_list = soup.find_all('td')[1].text.replace('\\n', '')      # 'type1 type2 '\n",
    "    types_list = types_list[:-1].split(' ')                         # 'type1 type2'\n",
    "\n",
    "    # type1, type2\n",
    "    type1 = types_list[0]\n",
    "    \n",
    "    if (len(types_list) == 2):   # Pokemon mang song hệ\n",
    "        type2 = types_list[1]\n",
    "    else: \n",
    "        type2 = ''              # Pokemon mang 1 hệ\n",
    "\n",
    "    # species\n",
    "    species = soup.find_all('td')[2].text\n",
    "\n",
    "    # height\n",
    "    height = soup.find_all('td')[3].text.replace('\\xa0', '')\n",
    "\n",
    "    # weight\n",
    "    weight = soup.find_all('td')[4].text.replace('\\xa0', '')\n",
    "\n",
    "    # ability\n",
    "    ability = soup.find_all('span', {'class': 'text-muted'})[0].text.replace('1. ', '')\n",
    "\n",
    "    # extra ability\n",
    "    if '2. ' in soup.findAll(class_='text-muted')[1].text:\n",
    "        ex_ability = soup.findAll(class_='text-muted')[1].text.replace('2. ', '')\n",
    "    else: \n",
    "        ex_ability = ''\n",
    "        \n",
    "    \n",
    "    # hidden ability\n",
    "    hid_ability = soup.find_all('small', {'class': 'text-muted'})[0].text.replace(' (hidden ability)', '')\n",
    "    if '(' in hid_ability:  # Pokemon không có hidden ability nên bị đọc nhầm sang khu vực xuất hiện\n",
    "        hid_ability = ''\n",
    "\n",
    "    # catch_rate\n",
    "    catch_rate = soup.find_all('td')[8].text.replace('\\n', '')\n",
    "\n",
    "    # base friendship \n",
    "    base_fs = soup.find_all('td')[9].text.replace('\\n', '')\n",
    "\n",
    "    # base exp\n",
    "    base_exp = soup.find_all('td')[10].text.replace('\\n', '')\n",
    "\n",
    "    # growth_rate\n",
    "    growth_rate = soup.find_all('td')[11].text.replace('\\n', '')\n",
    "\n",
    "    # genders\n",
    "    genders = soup.find_all('td')[13].text.replace('\\n', '')\n",
    "\n",
    "    # base stats (base, min, max): health point, attack, defense, special attack, special defense, speed, total (base)\n",
    "    hp = int(soup.find_all('td')[15].text.replace('\\n', ''))\n",
    "\n",
    "    atk = int(soup.find_all('td')[19].text.replace('\\n', ''))\n",
    "\n",
    "    defn = int(soup.find_all('td')[23].text.replace('\\n', ''))\n",
    "\n",
    "    sp_atk = int(soup.find_all('td')[27].text.replace('\\n', ''))\n",
    "    \n",
    "    sp_def = int(soup.find_all('td')[31].text.replace('\\n', ''))\n",
    "\n",
    "    spd =  int(soup.find_all('td')[35].text.replace('\\n', ''))\n",
    "\n",
    "    total = int(soup.find_all('td')[39].text)\n",
    "\n",
    "    return name, type1, type2, species, height, weight, ability, ex_ability, hid_ability, catch_rate, base_fs, base_exp, growth_rate, genders, hp, atk, defn, sp_atk, sp_def, spd, total"
   ]
  },
  {
   "cell_type": "markdown",
   "metadata": {},
   "source": [
    "#### 3.2. Tương khắc hệ\n",
    "- Tương khắc hệ (Type Defenses) của một Pokemon là khả năng chịu đòn của một Pokemon trước những đòn tấn công mang hệ khác. Các Pokemon Trainer sẽ dựa vào tương khắc hệ này của chúng nhằm chọn ra Pokemon có ưu thế về hệ (Type Advantages) tốt nhất để đối đầu với Pokemon của đối thủ.\n",
    "\n",
    "        Ví dụ: Bulbasaur mang song hệ là Grass/Poison:\n",
    "                - Fire -> Grass/Poison = 2 <=> Đòn đánh hệ Fire sẽ gây gấp đôi sát thương lên Pokemon này\n",
    "                - Grass -> Grass/Poison = 1/4   <=> Đòn đánh hệ Grass sẽ gây 1/4 sát thương lên Pokemon này\n",
    "\n",
    "- Hàm type_defense(soup) sẽ trả về tương khắc hệ của Pokemon có url tương ứng. "
   ]
  },
  {
   "cell_type": "code",
   "execution_count": null,
   "metadata": {},
   "outputs": [],
   "source": [
    "def type_defense(soup):\n",
    "    type_defenses = []\n",
    "\n",
    "    for i in range(40, 58):\n",
    "        type_defenses.append(soup.findAll('td')[i].text)\n",
    "\n",
    "    return type_defenses"
   ]
  },
  {
   "cell_type": "markdown",
   "metadata": {},
   "source": [
    "#### 3.3. Đặc tính\n",
    "- Đặc tính (Ability) và đặc tính ẩn (Hidden Ability): Là những đặc tính được trao cho mỗi Pokémon để có thể hỗ trợ chúng trong trận chiến, chúng ta sẽ lấy thông tin mô tả ngắn gọn toàn bộ đặc tính ở trang \"https://pokemondb.net/ability\".\n",
    "- Một vài lợi ích đi kèm như: Thay đổi thời tiết, cường hóa tuyệt chiêu hoặc chỉ số, miễn nhiễm sát thương, giảm tấn công,...\n",
    " \n",
    "        - Ví dụ: \n",
    "             * 'Intimidate' giảm chỉ số Attack của đối phương\n",
    "             * 'Levitate' là trạng thái lơ lửng của Pokemon cho phép chúng miễn nhiễm với các đòn tấn công hệ Đất (Ground)\n",
    "                \n",
    "- Theo \"https://pokemondb.net/ability\", đặc tính và đặc tính ẩn đều gộp chung lại thành một danh sách được gọi là \"The ability list\".\n",
    "- Danh sách này chứa:\n",
    "\n",
    "                - Name: Tên đặc tính và đặc tính ẩn\n",
    "                - Pokémon: Số lượng Pokemon sở hữu đặc tính đó\n",
    "                - Description: Mô tả ngắn gọn về dặc tính đó\n",
    "                - Gen: Thế hệ mà đặc tính đó được giới thiệu lần đầu\n",
    "\n",
    "- Chúng ta chỉ cần quan tâm Name và Description.\n",
    "- Hàm get_abilities_description(soup) trả về kết quả mô tả ngắn gọn về các Ability và Hidden Ability tương tứng.\n",
    "- Lưu ý: \n",
    "\n",
    "        - Một vài Pokemon KHÔNG sở hữu Hidden Ability vì thế nội dung mô tả sẽ để trống\n",
    "        - Hàm này chỉ trả về tên và mô tả các đặc tính ĐÃ ĐƯỢC GIỚI THIỆU XUYÊN SUỐT SERIES GAME POKEMON chứ không phải của từng Pokemon."
   ]
  },
  {
   "cell_type": "code",
   "execution_count": null,
   "metadata": {},
   "outputs": [],
   "source": [
    "def get_abilities_description():\n",
    "    source = requests.get('https://pokemondb.net/ability').text\n",
    "    soup = bs4.BeautifulSoup(source,'html.parser')\n",
    "    \n",
    "    n1 = len(soup.findAll('tr')) - 1\n",
    "    ability = []\n",
    "    ability_des = []\n",
    "\n",
    "    for i in range(n1):\n",
    "        ability.append(soup.find_all('a', {'class': 'ent-name'})[i].text)\n",
    "        ability_des.append(soup.find_all('td', {'class': 'cell-med-text'})[i].text)\n",
    "\n",
    "    # blanked values\n",
    "    ability.append('')\n",
    "    ability_des.append('')\n",
    "    return {k: v for k, v in zip(ability, ability_des)}"
   ]
  },
  {
   "cell_type": "markdown",
   "metadata": {},
   "source": [
    "#### 3.4. Bắt đầu lấy thông tin, tương khắc hệ, đặc tính của từng Pokemon"
   ]
  },
  {
   "cell_type": "code",
   "execution_count": 55,
   "metadata": {},
   "outputs": [],
   "source": [
    "data = []      # Thông tin\n",
    "type_def = []  # Tương khắc hệ\n",
    "\n",
    "for url in urls:\n",
    "    source = requests.get(url).text\n",
    "    soup = bs4.BeautifulSoup(source,'html.parser')\n",
    "    # Lấy thông tin của từng Pokemon\n",
    "    data.append(get_pokemon_info(soup))\n",
    "\n",
    "    # Tương khắc hệ của từng Pokemon\n",
    "    type_def.append(type_defense(soup))\n",
    "\n",
    "# Mô tả đặc tính\n",
    "abilities = get_abilities_description()"
   ]
  },
  {
   "cell_type": "markdown",
   "metadata": {},
   "source": [
    "#### 3.4.1. Cơ sở dữ liệu thông tin Pokemon\n",
    "- Sau khi đã có danh sách thông tin của toàn bộ Pokemon trong Pokedex, khởi tạo một cơ sở dữ liệu để lưu trữ\n",
    "- Index ở đây sẽ là ID của từng Pokemon, bắt đầu từ 1."
   ]
  },
  {
   "cell_type": "code",
   "execution_count": 56,
   "metadata": {},
   "outputs": [
    {
     "data": {
      "text/html": [
       "<div>\n",
       "<style scoped>\n",
       "    .dataframe tbody tr th:only-of-type {\n",
       "        vertical-align: middle;\n",
       "    }\n",
       "\n",
       "    .dataframe tbody tr th {\n",
       "        vertical-align: top;\n",
       "    }\n",
       "\n",
       "    .dataframe thead th {\n",
       "        text-align: right;\n",
       "    }\n",
       "</style>\n",
       "<table border=\"1\" class=\"dataframe\">\n",
       "  <thead>\n",
       "    <tr style=\"text-align: right;\">\n",
       "      <th></th>\n",
       "      <th>Name</th>\n",
       "      <th>Type 1</th>\n",
       "      <th>Type 2</th>\n",
       "      <th>Species</th>\n",
       "      <th>Height</th>\n",
       "      <th>Weight</th>\n",
       "      <th>Ability</th>\n",
       "      <th>Extra Ability</th>\n",
       "      <th>Hidden Ability</th>\n",
       "      <th>Catch Rate</th>\n",
       "      <th>...</th>\n",
       "      <th>Base Exp</th>\n",
       "      <th>Growth Rate</th>\n",
       "      <th>Gender</th>\n",
       "      <th>HP</th>\n",
       "      <th>Attack</th>\n",
       "      <th>Defense</th>\n",
       "      <th>Sp. Atk</th>\n",
       "      <th>Sp. Def</th>\n",
       "      <th>Speed</th>\n",
       "      <th>Total</th>\n",
       "    </tr>\n",
       "  </thead>\n",
       "  <tbody>\n",
       "    <tr>\n",
       "      <th>1</th>\n",
       "      <td>Bulbasaur</td>\n",
       "      <td>Grass</td>\n",
       "      <td>Poison</td>\n",
       "      <td>Seed Pokémon</td>\n",
       "      <td>0.7m (2′04″)</td>\n",
       "      <td>6.9kg (15.2lbs)</td>\n",
       "      <td>Overgrow</td>\n",
       "      <td></td>\n",
       "      <td>Chlorophyll</td>\n",
       "      <td>45 (5.9% with PokéBall, full HP)</td>\n",
       "      <td>...</td>\n",
       "      <td>64</td>\n",
       "      <td>Medium Slow</td>\n",
       "      <td>87.5% male, 12.5% female</td>\n",
       "      <td>45</td>\n",
       "      <td>49</td>\n",
       "      <td>49</td>\n",
       "      <td>65</td>\n",
       "      <td>65</td>\n",
       "      <td>45</td>\n",
       "      <td>318</td>\n",
       "    </tr>\n",
       "    <tr>\n",
       "      <th>2</th>\n",
       "      <td>Ivysaur</td>\n",
       "      <td>Grass</td>\n",
       "      <td>Poison</td>\n",
       "      <td>Seed Pokémon</td>\n",
       "      <td>1.0m (3′03″)</td>\n",
       "      <td>13.0kg (28.7lbs)</td>\n",
       "      <td>Overgrow</td>\n",
       "      <td></td>\n",
       "      <td>Chlorophyll</td>\n",
       "      <td>45 (5.9% with PokéBall, full HP)</td>\n",
       "      <td>...</td>\n",
       "      <td>142</td>\n",
       "      <td>Medium Slow</td>\n",
       "      <td>87.5% male, 12.5% female</td>\n",
       "      <td>60</td>\n",
       "      <td>62</td>\n",
       "      <td>63</td>\n",
       "      <td>80</td>\n",
       "      <td>80</td>\n",
       "      <td>60</td>\n",
       "      <td>405</td>\n",
       "    </tr>\n",
       "    <tr>\n",
       "      <th>3</th>\n",
       "      <td>Venusaur</td>\n",
       "      <td>Grass</td>\n",
       "      <td>Poison</td>\n",
       "      <td>Seed Pokémon</td>\n",
       "      <td>2.0m (6′07″)</td>\n",
       "      <td>100.0kg (220.5lbs)</td>\n",
       "      <td>Overgrow</td>\n",
       "      <td></td>\n",
       "      <td>Chlorophyll</td>\n",
       "      <td>45 (5.9% with PokéBall, full HP)</td>\n",
       "      <td>...</td>\n",
       "      <td>236</td>\n",
       "      <td>Medium Slow</td>\n",
       "      <td>87.5% male, 12.5% female</td>\n",
       "      <td>80</td>\n",
       "      <td>82</td>\n",
       "      <td>83</td>\n",
       "      <td>100</td>\n",
       "      <td>100</td>\n",
       "      <td>80</td>\n",
       "      <td>525</td>\n",
       "    </tr>\n",
       "    <tr>\n",
       "      <th>4</th>\n",
       "      <td>Charmander</td>\n",
       "      <td>Fire</td>\n",
       "      <td></td>\n",
       "      <td>Lizard Pokémon</td>\n",
       "      <td>0.6m (2′00″)</td>\n",
       "      <td>8.5kg (18.7lbs)</td>\n",
       "      <td>Blaze</td>\n",
       "      <td></td>\n",
       "      <td>Solar Power</td>\n",
       "      <td>45 (5.9% with PokéBall, full HP)</td>\n",
       "      <td>...</td>\n",
       "      <td>62</td>\n",
       "      <td>Medium Slow</td>\n",
       "      <td>87.5% male, 12.5% female</td>\n",
       "      <td>39</td>\n",
       "      <td>52</td>\n",
       "      <td>43</td>\n",
       "      <td>60</td>\n",
       "      <td>50</td>\n",
       "      <td>65</td>\n",
       "      <td>309</td>\n",
       "    </tr>\n",
       "    <tr>\n",
       "      <th>5</th>\n",
       "      <td>Charmeleon</td>\n",
       "      <td>Fire</td>\n",
       "      <td></td>\n",
       "      <td>Flame Pokémon</td>\n",
       "      <td>1.1m (3′07″)</td>\n",
       "      <td>19.0kg (41.9lbs)</td>\n",
       "      <td>Blaze</td>\n",
       "      <td></td>\n",
       "      <td>Solar Power</td>\n",
       "      <td>45 (5.9% with PokéBall, full HP)</td>\n",
       "      <td>...</td>\n",
       "      <td>142</td>\n",
       "      <td>Medium Slow</td>\n",
       "      <td>87.5% male, 12.5% female</td>\n",
       "      <td>58</td>\n",
       "      <td>64</td>\n",
       "      <td>58</td>\n",
       "      <td>80</td>\n",
       "      <td>65</td>\n",
       "      <td>80</td>\n",
       "      <td>405</td>\n",
       "    </tr>\n",
       "    <tr>\n",
       "      <th>...</th>\n",
       "      <td>...</td>\n",
       "      <td>...</td>\n",
       "      <td>...</td>\n",
       "      <td>...</td>\n",
       "      <td>...</td>\n",
       "      <td>...</td>\n",
       "      <td>...</td>\n",
       "      <td>...</td>\n",
       "      <td>...</td>\n",
       "      <td>...</td>\n",
       "      <td>...</td>\n",
       "      <td>...</td>\n",
       "      <td>...</td>\n",
       "      <td>...</td>\n",
       "      <td>...</td>\n",
       "      <td>...</td>\n",
       "      <td>...</td>\n",
       "      <td>...</td>\n",
       "      <td>...</td>\n",
       "      <td>...</td>\n",
       "      <td>...</td>\n",
       "    </tr>\n",
       "    <tr>\n",
       "      <th>1006</th>\n",
       "      <td>Toedscool</td>\n",
       "      <td>Ground</td>\n",
       "      <td>Grass</td>\n",
       "      <td>Woodear Pokémon</td>\n",
       "      <td>0.9m (2′11″)</td>\n",
       "      <td>33.0kg (72.8lbs)</td>\n",
       "      <td>Mycelium Might</td>\n",
       "      <td></td>\n",
       "      <td></td>\n",
       "      <td>190 (24.8% with PokéBall, full HP)</td>\n",
       "      <td>...</td>\n",
       "      <td>67</td>\n",
       "      <td>Medium Slow</td>\n",
       "      <td>50% male, 50% female</td>\n",
       "      <td>40</td>\n",
       "      <td>40</td>\n",
       "      <td>35</td>\n",
       "      <td>50</td>\n",
       "      <td>100</td>\n",
       "      <td>70</td>\n",
       "      <td>335</td>\n",
       "    </tr>\n",
       "    <tr>\n",
       "      <th>1007</th>\n",
       "      <td>Toedscruel</td>\n",
       "      <td>Ground</td>\n",
       "      <td>Grass</td>\n",
       "      <td>Woodear Pokémon</td>\n",
       "      <td>1.9m (6′03″)</td>\n",
       "      <td>58.0kg (127.9lbs)</td>\n",
       "      <td>Mycelium Might</td>\n",
       "      <td></td>\n",
       "      <td></td>\n",
       "      <td>90 (11.8% with PokéBall, full HP)</td>\n",
       "      <td>...</td>\n",
       "      <td>180</td>\n",
       "      <td>Medium Slow</td>\n",
       "      <td>50% male, 50% female</td>\n",
       "      <td>80</td>\n",
       "      <td>70</td>\n",
       "      <td>65</td>\n",
       "      <td>80</td>\n",
       "      <td>120</td>\n",
       "      <td>100</td>\n",
       "      <td>515</td>\n",
       "    </tr>\n",
       "    <tr>\n",
       "      <th>1008</th>\n",
       "      <td>Kingambit</td>\n",
       "      <td>Dark</td>\n",
       "      <td>Steel</td>\n",
       "      <td>Big Blade Pokémon</td>\n",
       "      <td>2.0m (6′07″)</td>\n",
       "      <td>120.0kg (264.6lbs)</td>\n",
       "      <td>Defiant</td>\n",
       "      <td>Supreme Overlord</td>\n",
       "      <td>Pressure</td>\n",
       "      <td>25 (3.3% with PokéBall, full HP)</td>\n",
       "      <td>...</td>\n",
       "      <td>275</td>\n",
       "      <td>Medium Fast</td>\n",
       "      <td>50% male, 50% female</td>\n",
       "      <td>100</td>\n",
       "      <td>135</td>\n",
       "      <td>120</td>\n",
       "      <td>60</td>\n",
       "      <td>85</td>\n",
       "      <td>50</td>\n",
       "      <td>550</td>\n",
       "    </tr>\n",
       "    <tr>\n",
       "      <th>1009</th>\n",
       "      <td>Clodsire</td>\n",
       "      <td>Poison</td>\n",
       "      <td>Ground</td>\n",
       "      <td>Spiny Fish Pokémon</td>\n",
       "      <td>1.8m (5′11″)</td>\n",
       "      <td>223.0kg (491.6lbs)</td>\n",
       "      <td>Poison Point</td>\n",
       "      <td>Water Absorb</td>\n",
       "      <td>Unaware</td>\n",
       "      <td>90 (11.8% with PokéBall, full HP)</td>\n",
       "      <td>...</td>\n",
       "      <td>151</td>\n",
       "      <td>Medium Fast</td>\n",
       "      <td>50% male, 50% female</td>\n",
       "      <td>130</td>\n",
       "      <td>75</td>\n",
       "      <td>60</td>\n",
       "      <td>45</td>\n",
       "      <td>100</td>\n",
       "      <td>20</td>\n",
       "      <td>430</td>\n",
       "    </tr>\n",
       "    <tr>\n",
       "      <th>1010</th>\n",
       "      <td>Annihilape</td>\n",
       "      <td>Fighting</td>\n",
       "      <td>Ghost</td>\n",
       "      <td>Rage Monkey Pokémon</td>\n",
       "      <td>1.2m (3′11″)</td>\n",
       "      <td>56.0kg (123.5lbs)</td>\n",
       "      <td>Vital Spirit</td>\n",
       "      <td>Inner Focus</td>\n",
       "      <td>Defiant</td>\n",
       "      <td>45 (5.9% with PokéBall, full HP)</td>\n",
       "      <td>...</td>\n",
       "      <td>268</td>\n",
       "      <td>Medium Fast</td>\n",
       "      <td>50% male, 50% female</td>\n",
       "      <td>110</td>\n",
       "      <td>115</td>\n",
       "      <td>80</td>\n",
       "      <td>50</td>\n",
       "      <td>90</td>\n",
       "      <td>90</td>\n",
       "      <td>535</td>\n",
       "    </tr>\n",
       "  </tbody>\n",
       "</table>\n",
       "<p>1008 rows × 21 columns</p>\n",
       "</div>"
      ],
      "text/plain": [
       "            Name    Type 1  Type 2              Species        Height  \\\n",
       "1      Bulbasaur     Grass  Poison         Seed Pokémon  0.7m (2′04″)   \n",
       "2        Ivysaur     Grass  Poison         Seed Pokémon  1.0m (3′03″)   \n",
       "3       Venusaur     Grass  Poison         Seed Pokémon  2.0m (6′07″)   \n",
       "4     Charmander      Fire               Lizard Pokémon  0.6m (2′00″)   \n",
       "5     Charmeleon      Fire                Flame Pokémon  1.1m (3′07″)   \n",
       "...          ...       ...     ...                  ...           ...   \n",
       "1006   Toedscool    Ground   Grass      Woodear Pokémon  0.9m (2′11″)   \n",
       "1007  Toedscruel    Ground   Grass      Woodear Pokémon  1.9m (6′03″)   \n",
       "1008   Kingambit      Dark   Steel    Big Blade Pokémon  2.0m (6′07″)   \n",
       "1009    Clodsire    Poison  Ground   Spiny Fish Pokémon  1.8m (5′11″)   \n",
       "1010  Annihilape  Fighting   Ghost  Rage Monkey Pokémon  1.2m (3′11″)   \n",
       "\n",
       "                  Weight         Ability     Extra Ability Hidden Ability  \\\n",
       "1        6.9kg (15.2lbs)        Overgrow                      Chlorophyll   \n",
       "2       13.0kg (28.7lbs)        Overgrow                      Chlorophyll   \n",
       "3     100.0kg (220.5lbs)        Overgrow                      Chlorophyll   \n",
       "4        8.5kg (18.7lbs)           Blaze                      Solar Power   \n",
       "5       19.0kg (41.9lbs)           Blaze                      Solar Power   \n",
       "...                  ...             ...               ...            ...   \n",
       "1006    33.0kg (72.8lbs)  Mycelium Might                                    \n",
       "1007   58.0kg (127.9lbs)  Mycelium Might                                    \n",
       "1008  120.0kg (264.6lbs)         Defiant  Supreme Overlord       Pressure   \n",
       "1009  223.0kg (491.6lbs)    Poison Point      Water Absorb        Unaware   \n",
       "1010   56.0kg (123.5lbs)    Vital Spirit       Inner Focus        Defiant   \n",
       "\n",
       "                              Catch Rate  ... Base Exp  Growth Rate  \\\n",
       "1       45 (5.9% with PokéBall, full HP)  ...       64  Medium Slow   \n",
       "2       45 (5.9% with PokéBall, full HP)  ...      142  Medium Slow   \n",
       "3       45 (5.9% with PokéBall, full HP)  ...      236  Medium Slow   \n",
       "4       45 (5.9% with PokéBall, full HP)  ...       62  Medium Slow   \n",
       "5       45 (5.9% with PokéBall, full HP)  ...      142  Medium Slow   \n",
       "...                                  ...  ...      ...          ...   \n",
       "1006  190 (24.8% with PokéBall, full HP)  ...       67  Medium Slow   \n",
       "1007   90 (11.8% with PokéBall, full HP)  ...      180  Medium Slow   \n",
       "1008    25 (3.3% with PokéBall, full HP)  ...      275  Medium Fast   \n",
       "1009   90 (11.8% with PokéBall, full HP)  ...      151  Medium Fast   \n",
       "1010    45 (5.9% with PokéBall, full HP)  ...      268  Medium Fast   \n",
       "\n",
       "                        Gender   HP  Attack  Defense  Sp. Atk  Sp. Def  Speed  \\\n",
       "1     87.5% male, 12.5% female   45      49       49       65       65     45   \n",
       "2     87.5% male, 12.5% female   60      62       63       80       80     60   \n",
       "3     87.5% male, 12.5% female   80      82       83      100      100     80   \n",
       "4     87.5% male, 12.5% female   39      52       43       60       50     65   \n",
       "5     87.5% male, 12.5% female   58      64       58       80       65     80   \n",
       "...                        ...  ...     ...      ...      ...      ...    ...   \n",
       "1006      50% male, 50% female   40      40       35       50      100     70   \n",
       "1007      50% male, 50% female   80      70       65       80      120    100   \n",
       "1008      50% male, 50% female  100     135      120       60       85     50   \n",
       "1009      50% male, 50% female  130      75       60       45      100     20   \n",
       "1010      50% male, 50% female  110     115       80       50       90     90   \n",
       "\n",
       "      Total  \n",
       "1       318  \n",
       "2       405  \n",
       "3       525  \n",
       "4       309  \n",
       "5       405  \n",
       "...     ...  \n",
       "1006    335  \n",
       "1007    515  \n",
       "1008    550  \n",
       "1009    430  \n",
       "1010    535  \n",
       "\n",
       "[1008 rows x 21 columns]"
      ]
     },
     "execution_count": 56,
     "metadata": {},
     "output_type": "execute_result"
    }
   ],
   "source": [
    "pokedex = pd.DataFrame(data = data, columns=['Name', 'Type 1', 'Type 2', 'Species', 'Height', 'Weight', 'Ability', 'Extra Ability', 'Hidden Ability',\n",
    "                                             'Catch Rate', 'Base Friendship', 'Base Exp', 'Growth Rate', 'Gender',\n",
    "                                             'HP', 'Attack', 'Defense', 'Sp. Atk', 'Sp. Def', 'Speed', 'Total'], index = id)\n",
    "pokedex"
   ]
  },
  {
   "cell_type": "markdown",
   "metadata": {},
   "source": [
    "#### 3.4.2. Cơ sở dữ liệu tương khắc hệ\n",
    "- Tạo cơ sở dữ liệu để lưu trữ chỉ số tương khắc hệ.\n",
    "- Chuẩn hóa dữ liệu dòng và thêm cột 'Name' chứa tên các Pokemon."
   ]
  },
  {
   "cell_type": "code",
   "execution_count": 57,
   "metadata": {},
   "outputs": [
    {
     "data": {
      "text/html": [
       "<div>\n",
       "<style scoped>\n",
       "    .dataframe tbody tr th:only-of-type {\n",
       "        vertical-align: middle;\n",
       "    }\n",
       "\n",
       "    .dataframe tbody tr th {\n",
       "        vertical-align: top;\n",
       "    }\n",
       "\n",
       "    .dataframe thead th {\n",
       "        text-align: right;\n",
       "    }\n",
       "</style>\n",
       "<table border=\"1\" class=\"dataframe\">\n",
       "  <thead>\n",
       "    <tr style=\"text-align: right;\">\n",
       "      <th></th>\n",
       "      <th>Name</th>\n",
       "      <th>Type 1</th>\n",
       "      <th>Type 2</th>\n",
       "      <th>NORMAL</th>\n",
       "      <th>FIRE</th>\n",
       "      <th>WATER</th>\n",
       "      <th>ELECTRIC</th>\n",
       "      <th>GRASS</th>\n",
       "      <th>ICE</th>\n",
       "      <th>FIGHTING</th>\n",
       "      <th>...</th>\n",
       "      <th>GROUND</th>\n",
       "      <th>FLYING</th>\n",
       "      <th>SPYCHIC</th>\n",
       "      <th>BUG</th>\n",
       "      <th>ROCK</th>\n",
       "      <th>GHOST</th>\n",
       "      <th>DRAGON</th>\n",
       "      <th>DARK</th>\n",
       "      <th>STEEL</th>\n",
       "      <th>FAIRY</th>\n",
       "    </tr>\n",
       "  </thead>\n",
       "  <tbody>\n",
       "    <tr>\n",
       "      <th>1</th>\n",
       "      <td>Bulbasaur</td>\n",
       "      <td>Grass</td>\n",
       "      <td>Poison</td>\n",
       "      <td>1</td>\n",
       "      <td>2</td>\n",
       "      <td>0.5</td>\n",
       "      <td>0.5</td>\n",
       "      <td>0.25</td>\n",
       "      <td>2</td>\n",
       "      <td>0.5</td>\n",
       "      <td>...</td>\n",
       "      <td>1</td>\n",
       "      <td>2</td>\n",
       "      <td>2</td>\n",
       "      <td>1</td>\n",
       "      <td>1</td>\n",
       "      <td>1</td>\n",
       "      <td>1</td>\n",
       "      <td>1</td>\n",
       "      <td>1</td>\n",
       "      <td>0.5</td>\n",
       "    </tr>\n",
       "    <tr>\n",
       "      <th>2</th>\n",
       "      <td>Ivysaur</td>\n",
       "      <td>Grass</td>\n",
       "      <td>Poison</td>\n",
       "      <td>1</td>\n",
       "      <td>2</td>\n",
       "      <td>0.5</td>\n",
       "      <td>0.5</td>\n",
       "      <td>0.25</td>\n",
       "      <td>2</td>\n",
       "      <td>0.5</td>\n",
       "      <td>...</td>\n",
       "      <td>1</td>\n",
       "      <td>2</td>\n",
       "      <td>2</td>\n",
       "      <td>1</td>\n",
       "      <td>1</td>\n",
       "      <td>1</td>\n",
       "      <td>1</td>\n",
       "      <td>1</td>\n",
       "      <td>1</td>\n",
       "      <td>0.5</td>\n",
       "    </tr>\n",
       "    <tr>\n",
       "      <th>3</th>\n",
       "      <td>Venusaur</td>\n",
       "      <td>Grass</td>\n",
       "      <td>Poison</td>\n",
       "      <td>1</td>\n",
       "      <td>2</td>\n",
       "      <td>0.5</td>\n",
       "      <td>0.5</td>\n",
       "      <td>0.25</td>\n",
       "      <td>2</td>\n",
       "      <td>0.5</td>\n",
       "      <td>...</td>\n",
       "      <td>1</td>\n",
       "      <td>2</td>\n",
       "      <td>2</td>\n",
       "      <td>1</td>\n",
       "      <td>1</td>\n",
       "      <td>1</td>\n",
       "      <td>1</td>\n",
       "      <td>1</td>\n",
       "      <td>1</td>\n",
       "      <td>0.5</td>\n",
       "    </tr>\n",
       "    <tr>\n",
       "      <th>4</th>\n",
       "      <td>Charmander</td>\n",
       "      <td>Fire</td>\n",
       "      <td></td>\n",
       "      <td>1</td>\n",
       "      <td>0.5</td>\n",
       "      <td>2</td>\n",
       "      <td>1</td>\n",
       "      <td>0.5</td>\n",
       "      <td>0.5</td>\n",
       "      <td>1</td>\n",
       "      <td>...</td>\n",
       "      <td>2</td>\n",
       "      <td>1</td>\n",
       "      <td>1</td>\n",
       "      <td>0.5</td>\n",
       "      <td>2</td>\n",
       "      <td>1</td>\n",
       "      <td>1</td>\n",
       "      <td>1</td>\n",
       "      <td>0.5</td>\n",
       "      <td>0.5</td>\n",
       "    </tr>\n",
       "    <tr>\n",
       "      <th>5</th>\n",
       "      <td>Charmeleon</td>\n",
       "      <td>Fire</td>\n",
       "      <td></td>\n",
       "      <td>1</td>\n",
       "      <td>0.5</td>\n",
       "      <td>2</td>\n",
       "      <td>1</td>\n",
       "      <td>0.5</td>\n",
       "      <td>0.5</td>\n",
       "      <td>1</td>\n",
       "      <td>...</td>\n",
       "      <td>2</td>\n",
       "      <td>1</td>\n",
       "      <td>1</td>\n",
       "      <td>0.5</td>\n",
       "      <td>2</td>\n",
       "      <td>1</td>\n",
       "      <td>1</td>\n",
       "      <td>1</td>\n",
       "      <td>0.5</td>\n",
       "      <td>0.5</td>\n",
       "    </tr>\n",
       "    <tr>\n",
       "      <th>...</th>\n",
       "      <td>...</td>\n",
       "      <td>...</td>\n",
       "      <td>...</td>\n",
       "      <td>...</td>\n",
       "      <td>...</td>\n",
       "      <td>...</td>\n",
       "      <td>...</td>\n",
       "      <td>...</td>\n",
       "      <td>...</td>\n",
       "      <td>...</td>\n",
       "      <td>...</td>\n",
       "      <td>...</td>\n",
       "      <td>...</td>\n",
       "      <td>...</td>\n",
       "      <td>...</td>\n",
       "      <td>...</td>\n",
       "      <td>...</td>\n",
       "      <td>...</td>\n",
       "      <td>...</td>\n",
       "      <td>...</td>\n",
       "      <td>...</td>\n",
       "    </tr>\n",
       "    <tr>\n",
       "      <th>1006</th>\n",
       "      <td>Toedscool</td>\n",
       "      <td>Ground</td>\n",
       "      <td>Grass</td>\n",
       "      <td>1</td>\n",
       "      <td>2</td>\n",
       "      <td>1</td>\n",
       "      <td>0</td>\n",
       "      <td>1</td>\n",
       "      <td>4</td>\n",
       "      <td>1</td>\n",
       "      <td>...</td>\n",
       "      <td>0.5</td>\n",
       "      <td>2</td>\n",
       "      <td>1</td>\n",
       "      <td>2</td>\n",
       "      <td>0.5</td>\n",
       "      <td>1</td>\n",
       "      <td>1</td>\n",
       "      <td>1</td>\n",
       "      <td>1</td>\n",
       "      <td>1</td>\n",
       "    </tr>\n",
       "    <tr>\n",
       "      <th>1007</th>\n",
       "      <td>Toedscruel</td>\n",
       "      <td>Ground</td>\n",
       "      <td>Grass</td>\n",
       "      <td>1</td>\n",
       "      <td>2</td>\n",
       "      <td>1</td>\n",
       "      <td>0</td>\n",
       "      <td>1</td>\n",
       "      <td>4</td>\n",
       "      <td>1</td>\n",
       "      <td>...</td>\n",
       "      <td>0.5</td>\n",
       "      <td>2</td>\n",
       "      <td>1</td>\n",
       "      <td>2</td>\n",
       "      <td>0.5</td>\n",
       "      <td>1</td>\n",
       "      <td>1</td>\n",
       "      <td>1</td>\n",
       "      <td>1</td>\n",
       "      <td>1</td>\n",
       "    </tr>\n",
       "    <tr>\n",
       "      <th>1008</th>\n",
       "      <td>Kingambit</td>\n",
       "      <td>Dark</td>\n",
       "      <td>Steel</td>\n",
       "      <td>0.5</td>\n",
       "      <td>2</td>\n",
       "      <td>1</td>\n",
       "      <td>1</td>\n",
       "      <td>0.5</td>\n",
       "      <td>0.5</td>\n",
       "      <td>4</td>\n",
       "      <td>...</td>\n",
       "      <td>2</td>\n",
       "      <td>0.5</td>\n",
       "      <td>0</td>\n",
       "      <td>1</td>\n",
       "      <td>0.5</td>\n",
       "      <td>0.5</td>\n",
       "      <td>0.5</td>\n",
       "      <td>0.5</td>\n",
       "      <td>0.5</td>\n",
       "      <td>1</td>\n",
       "    </tr>\n",
       "    <tr>\n",
       "      <th>1009</th>\n",
       "      <td>Clodsire</td>\n",
       "      <td>Poison</td>\n",
       "      <td>Ground</td>\n",
       "      <td>1</td>\n",
       "      <td>1</td>\n",
       "      <td>2</td>\n",
       "      <td>0</td>\n",
       "      <td>1</td>\n",
       "      <td>2</td>\n",
       "      <td>0.5</td>\n",
       "      <td>...</td>\n",
       "      <td>2</td>\n",
       "      <td>1</td>\n",
       "      <td>2</td>\n",
       "      <td>0.5</td>\n",
       "      <td>0.5</td>\n",
       "      <td>1</td>\n",
       "      <td>1</td>\n",
       "      <td>1</td>\n",
       "      <td>1</td>\n",
       "      <td>0.5</td>\n",
       "    </tr>\n",
       "    <tr>\n",
       "      <th>1010</th>\n",
       "      <td>Annihilape</td>\n",
       "      <td>Fighting</td>\n",
       "      <td>Ghost</td>\n",
       "      <td>0</td>\n",
       "      <td>1</td>\n",
       "      <td>1</td>\n",
       "      <td>1</td>\n",
       "      <td>1</td>\n",
       "      <td>1</td>\n",
       "      <td>0</td>\n",
       "      <td>...</td>\n",
       "      <td>1</td>\n",
       "      <td>2</td>\n",
       "      <td>2</td>\n",
       "      <td>0.25</td>\n",
       "      <td>0.5</td>\n",
       "      <td>2</td>\n",
       "      <td>1</td>\n",
       "      <td>1</td>\n",
       "      <td>1</td>\n",
       "      <td>2</td>\n",
       "    </tr>\n",
       "  </tbody>\n",
       "</table>\n",
       "<p>1008 rows × 21 columns</p>\n",
       "</div>"
      ],
      "text/plain": [
       "            Name    Type 1  Type 2 NORMAL FIRE WATER ELECTRIC GRASS  ICE  \\\n",
       "1      Bulbasaur     Grass  Poison      1    2   0.5      0.5  0.25    2   \n",
       "2        Ivysaur     Grass  Poison      1    2   0.5      0.5  0.25    2   \n",
       "3       Venusaur     Grass  Poison      1    2   0.5      0.5  0.25    2   \n",
       "4     Charmander      Fire              1  0.5     2        1   0.5  0.5   \n",
       "5     Charmeleon      Fire              1  0.5     2        1   0.5  0.5   \n",
       "...          ...       ...     ...    ...  ...   ...      ...   ...  ...   \n",
       "1006   Toedscool    Ground   Grass      1    2     1        0     1    4   \n",
       "1007  Toedscruel    Ground   Grass      1    2     1        0     1    4   \n",
       "1008   Kingambit      Dark   Steel    0.5    2     1        1   0.5  0.5   \n",
       "1009    Clodsire    Poison  Ground      1    1     2        0     1    2   \n",
       "1010  Annihilape  Fighting   Ghost      0    1     1        1     1    1   \n",
       "\n",
       "     FIGHTING  ... GROUND FLYING SPYCHIC   BUG ROCK GHOST DRAGON DARK STEEL  \\\n",
       "1         0.5  ...      1      2       2     1    1     1      1    1     1   \n",
       "2         0.5  ...      1      2       2     1    1     1      1    1     1   \n",
       "3         0.5  ...      1      2       2     1    1     1      1    1     1   \n",
       "4           1  ...      2      1       1   0.5    2     1      1    1   0.5   \n",
       "5           1  ...      2      1       1   0.5    2     1      1    1   0.5   \n",
       "...       ...  ...    ...    ...     ...   ...  ...   ...    ...  ...   ...   \n",
       "1006        1  ...    0.5      2       1     2  0.5     1      1    1     1   \n",
       "1007        1  ...    0.5      2       1     2  0.5     1      1    1     1   \n",
       "1008        4  ...      2    0.5       0     1  0.5   0.5    0.5  0.5   0.5   \n",
       "1009      0.5  ...      2      1       2   0.5  0.5     1      1    1     1   \n",
       "1010        0  ...      1      2       2  0.25  0.5     2      1    1     1   \n",
       "\n",
       "     FAIRY  \n",
       "1      0.5  \n",
       "2      0.5  \n",
       "3      0.5  \n",
       "4      0.5  \n",
       "5      0.5  \n",
       "...    ...  \n",
       "1006     1  \n",
       "1007     1  \n",
       "1008     1  \n",
       "1009   0.5  \n",
       "1010     2  \n",
       "\n",
       "[1008 rows x 21 columns]"
      ]
     },
     "execution_count": 57,
     "metadata": {},
     "output_type": "execute_result"
    }
   ],
   "source": [
    "# Tạo csdl chứa tương khắc hệ\n",
    "type_defenses = pd.DataFrame(data = type_def, columns = ['NORMAL', 'FIRE', 'WATER', 'ELECTRIC', 'GRASS', 'ICE', \n",
    "                                        'FIGHTING', 'POISON', 'GROUND', 'FLYING', 'SPYCHIC', 'BUG',\n",
    "                                        'ROCK', 'GHOST', 'DRAGON', 'DARK', 'STEEL', 'FAIRY'], index = id)\n",
    "\n",
    "# Thay đổi giá trị các dòng cho dễ nhìn\n",
    "wrong = ['', '½', '¼', '1½', '⅛']\n",
    "right = ['1', '0.5', '0.25', '1.5', 1/3]\n",
    "\n",
    "for i, j in zip(wrong, right):\n",
    "    type_defenses = type_defenses.replace(i ,j)\n",
    "\n",
    "# Thêm tên vào cơ dở dữ liệu\n",
    "type_defenses.insert(0, 'Name', pokedex['Name'])\n",
    "type_defenses.insert(1, 'Type 1', pokedex['Type 1'])\n",
    "type_defenses.insert(2, 'Type 2', pokedex['Type 2'])\n",
    "\n",
    "type_defenses"
   ]
  },
  {
   "cell_type": "markdown",
   "metadata": {},
   "source": [
    "#### 3.4.3. Cơ sở dữ liệu mô tả các đặc tính\n",
    "- Ý tưởng thực hiện:\n",
    "\n",
    "                - B1: Trước tiên tạo database mới với tên, đặc tính, đặc tính ẩn Pokemon từ database cũ.\n",
    "                - B2: Tạo 3 list là abi_des, ex_abi_des và hid_abi_des.\n",
    "                - B3: Chạy vòng lặp từ 1 đến n+1 ứng với id từ 1 -> 905  (n = 905)\n",
    "                - B4: Tạo các biến tạm để lưu giữ các Ability theo id\n",
    "                - B5: abilities[temp] trả về mô tả ngắn gọn Ability tương ứng của Pokemon đó, tương tự như temp2 và temp3 với EA và HA.\n",
    "                - B6: Tạo thêm 3 cột để chứa dữ liệu của 3 list.\n",
    "                - B7: In csdl ra màn hình để kiểm tra."
   ]
  },
  {
   "cell_type": "code",
   "execution_count": 58,
   "metadata": {},
   "outputs": [
    {
     "ename": "KeyError",
     "evalue": "980",
     "output_type": "error",
     "traceback": [
      "\u001b[1;31m---------------------------------------------------------------------------\u001b[0m",
      "\u001b[1;31mKeyError\u001b[0m                                  Traceback (most recent call last)",
      "\u001b[1;32mc:\\Users\\Dell\\AppData\\Local\\Programs\\Python\\Python310\\lib\\site-packages\\pandas\\core\\indexes\\base.py\u001b[0m in \u001b[0;36mget_loc\u001b[1;34m(self, key, method, tolerance)\u001b[0m\n\u001b[0;32m   3360\u001b[0m             \u001b[1;32mtry\u001b[0m\u001b[1;33m:\u001b[0m\u001b[1;33m\u001b[0m\u001b[1;33m\u001b[0m\u001b[0m\n\u001b[1;32m-> 3361\u001b[1;33m                 \u001b[1;32mreturn\u001b[0m \u001b[0mself\u001b[0m\u001b[1;33m.\u001b[0m\u001b[0m_engine\u001b[0m\u001b[1;33m.\u001b[0m\u001b[0mget_loc\u001b[0m\u001b[1;33m(\u001b[0m\u001b[0mcasted_key\u001b[0m\u001b[1;33m)\u001b[0m\u001b[1;33m\u001b[0m\u001b[1;33m\u001b[0m\u001b[0m\n\u001b[0m\u001b[0;32m   3362\u001b[0m             \u001b[1;32mexcept\u001b[0m \u001b[0mKeyError\u001b[0m \u001b[1;32mas\u001b[0m \u001b[0merr\u001b[0m\u001b[1;33m:\u001b[0m\u001b[1;33m\u001b[0m\u001b[1;33m\u001b[0m\u001b[0m\n",
      "\u001b[1;32mc:\\Users\\Dell\\AppData\\Local\\Programs\\Python\\Python310\\lib\\site-packages\\pandas\\_libs\\index.pyx\u001b[0m in \u001b[0;36mpandas._libs.index.IndexEngine.get_loc\u001b[1;34m()\u001b[0m\n",
      "\u001b[1;32mc:\\Users\\Dell\\AppData\\Local\\Programs\\Python\\Python310\\lib\\site-packages\\pandas\\_libs\\index.pyx\u001b[0m in \u001b[0;36mpandas._libs.index.IndexEngine.get_loc\u001b[1;34m()\u001b[0m\n",
      "\u001b[1;32mpandas\\_libs\\hashtable_class_helper.pxi\u001b[0m in \u001b[0;36mpandas._libs.hashtable.Int64HashTable.get_item\u001b[1;34m()\u001b[0m\n",
      "\u001b[1;32mpandas\\_libs\\hashtable_class_helper.pxi\u001b[0m in \u001b[0;36mpandas._libs.hashtable.Int64HashTable.get_item\u001b[1;34m()\u001b[0m\n",
      "\u001b[1;31mKeyError\u001b[0m: 980",
      "\nThe above exception was the direct cause of the following exception:\n",
      "\u001b[1;31mKeyError\u001b[0m                                  Traceback (most recent call last)",
      "\u001b[1;32m~\\AppData\\Local\\Temp/ipykernel_9896/3401403691.py\u001b[0m in \u001b[0;36m<module>\u001b[1;34m\u001b[0m\n\u001b[0;32m     10\u001b[0m \u001b[1;32mfor\u001b[0m \u001b[0mi\u001b[0m \u001b[1;32min\u001b[0m \u001b[0mrange\u001b[0m\u001b[1;33m(\u001b[0m\u001b[1;36m1\u001b[0m\u001b[1;33m,\u001b[0m \u001b[0mn\u001b[0m\u001b[1;33m+\u001b[0m\u001b[1;36m1\u001b[0m\u001b[1;33m)\u001b[0m\u001b[1;33m:\u001b[0m\u001b[1;33m\u001b[0m\u001b[1;33m\u001b[0m\u001b[0m\n\u001b[0;32m     11\u001b[0m     \u001b[1;31m# B4\u001b[0m\u001b[1;33m\u001b[0m\u001b[1;33m\u001b[0m\u001b[0m\n\u001b[1;32m---> 12\u001b[1;33m     \u001b[0mtemp\u001b[0m \u001b[1;33m=\u001b[0m \u001b[0mabilities_info\u001b[0m\u001b[1;33m[\u001b[0m\u001b[1;34m'Ability'\u001b[0m\u001b[1;33m]\u001b[0m\u001b[1;33m[\u001b[0m\u001b[0mi\u001b[0m\u001b[1;33m]\u001b[0m\u001b[1;33m\u001b[0m\u001b[1;33m\u001b[0m\u001b[0m\n\u001b[0m\u001b[0;32m     13\u001b[0m     \u001b[0mtemp2\u001b[0m \u001b[1;33m=\u001b[0m \u001b[0mabilities_info\u001b[0m\u001b[1;33m[\u001b[0m\u001b[1;34m'Extra Ability'\u001b[0m\u001b[1;33m]\u001b[0m\u001b[1;33m[\u001b[0m\u001b[0mi\u001b[0m\u001b[1;33m]\u001b[0m\u001b[1;33m\u001b[0m\u001b[1;33m\u001b[0m\u001b[0m\n\u001b[0;32m     14\u001b[0m     \u001b[0mtemp3\u001b[0m \u001b[1;33m=\u001b[0m \u001b[0mabilities_info\u001b[0m\u001b[1;33m[\u001b[0m\u001b[1;34m'Hidden Ability'\u001b[0m\u001b[1;33m]\u001b[0m\u001b[1;33m[\u001b[0m\u001b[0mi\u001b[0m\u001b[1;33m]\u001b[0m\u001b[1;33m\u001b[0m\u001b[1;33m\u001b[0m\u001b[0m\n",
      "\u001b[1;32mc:\\Users\\Dell\\AppData\\Local\\Programs\\Python\\Python310\\lib\\site-packages\\pandas\\core\\series.py\u001b[0m in \u001b[0;36m__getitem__\u001b[1;34m(self, key)\u001b[0m\n\u001b[0;32m    940\u001b[0m \u001b[1;33m\u001b[0m\u001b[0m\n\u001b[0;32m    941\u001b[0m         \u001b[1;32melif\u001b[0m \u001b[0mkey_is_scalar\u001b[0m\u001b[1;33m:\u001b[0m\u001b[1;33m\u001b[0m\u001b[1;33m\u001b[0m\u001b[0m\n\u001b[1;32m--> 942\u001b[1;33m             \u001b[1;32mreturn\u001b[0m \u001b[0mself\u001b[0m\u001b[1;33m.\u001b[0m\u001b[0m_get_value\u001b[0m\u001b[1;33m(\u001b[0m\u001b[0mkey\u001b[0m\u001b[1;33m)\u001b[0m\u001b[1;33m\u001b[0m\u001b[1;33m\u001b[0m\u001b[0m\n\u001b[0m\u001b[0;32m    943\u001b[0m \u001b[1;33m\u001b[0m\u001b[0m\n\u001b[0;32m    944\u001b[0m         \u001b[1;32mif\u001b[0m \u001b[0mis_hashable\u001b[0m\u001b[1;33m(\u001b[0m\u001b[0mkey\u001b[0m\u001b[1;33m)\u001b[0m\u001b[1;33m:\u001b[0m\u001b[1;33m\u001b[0m\u001b[1;33m\u001b[0m\u001b[0m\n",
      "\u001b[1;32mc:\\Users\\Dell\\AppData\\Local\\Programs\\Python\\Python310\\lib\\site-packages\\pandas\\core\\series.py\u001b[0m in \u001b[0;36m_get_value\u001b[1;34m(self, label, takeable)\u001b[0m\n\u001b[0;32m   1049\u001b[0m \u001b[1;33m\u001b[0m\u001b[0m\n\u001b[0;32m   1050\u001b[0m         \u001b[1;31m# Similar to Index.get_value, but we do not fall back to positional\u001b[0m\u001b[1;33m\u001b[0m\u001b[1;33m\u001b[0m\u001b[0m\n\u001b[1;32m-> 1051\u001b[1;33m         \u001b[0mloc\u001b[0m \u001b[1;33m=\u001b[0m \u001b[0mself\u001b[0m\u001b[1;33m.\u001b[0m\u001b[0mindex\u001b[0m\u001b[1;33m.\u001b[0m\u001b[0mget_loc\u001b[0m\u001b[1;33m(\u001b[0m\u001b[0mlabel\u001b[0m\u001b[1;33m)\u001b[0m\u001b[1;33m\u001b[0m\u001b[1;33m\u001b[0m\u001b[0m\n\u001b[0m\u001b[0;32m   1052\u001b[0m         \u001b[1;32mreturn\u001b[0m \u001b[0mself\u001b[0m\u001b[1;33m.\u001b[0m\u001b[0mindex\u001b[0m\u001b[1;33m.\u001b[0m\u001b[0m_get_values_for_loc\u001b[0m\u001b[1;33m(\u001b[0m\u001b[0mself\u001b[0m\u001b[1;33m,\u001b[0m \u001b[0mloc\u001b[0m\u001b[1;33m,\u001b[0m \u001b[0mlabel\u001b[0m\u001b[1;33m)\u001b[0m\u001b[1;33m\u001b[0m\u001b[1;33m\u001b[0m\u001b[0m\n\u001b[0;32m   1053\u001b[0m \u001b[1;33m\u001b[0m\u001b[0m\n",
      "\u001b[1;32mc:\\Users\\Dell\\AppData\\Local\\Programs\\Python\\Python310\\lib\\site-packages\\pandas\\core\\indexes\\base.py\u001b[0m in \u001b[0;36mget_loc\u001b[1;34m(self, key, method, tolerance)\u001b[0m\n\u001b[0;32m   3361\u001b[0m                 \u001b[1;32mreturn\u001b[0m \u001b[0mself\u001b[0m\u001b[1;33m.\u001b[0m\u001b[0m_engine\u001b[0m\u001b[1;33m.\u001b[0m\u001b[0mget_loc\u001b[0m\u001b[1;33m(\u001b[0m\u001b[0mcasted_key\u001b[0m\u001b[1;33m)\u001b[0m\u001b[1;33m\u001b[0m\u001b[1;33m\u001b[0m\u001b[0m\n\u001b[0;32m   3362\u001b[0m             \u001b[1;32mexcept\u001b[0m \u001b[0mKeyError\u001b[0m \u001b[1;32mas\u001b[0m \u001b[0merr\u001b[0m\u001b[1;33m:\u001b[0m\u001b[1;33m\u001b[0m\u001b[1;33m\u001b[0m\u001b[0m\n\u001b[1;32m-> 3363\u001b[1;33m                 \u001b[1;32mraise\u001b[0m \u001b[0mKeyError\u001b[0m\u001b[1;33m(\u001b[0m\u001b[0mkey\u001b[0m\u001b[1;33m)\u001b[0m \u001b[1;32mfrom\u001b[0m \u001b[0merr\u001b[0m\u001b[1;33m\u001b[0m\u001b[1;33m\u001b[0m\u001b[0m\n\u001b[0m\u001b[0;32m   3364\u001b[0m \u001b[1;33m\u001b[0m\u001b[0m\n\u001b[0;32m   3365\u001b[0m         \u001b[1;32mif\u001b[0m \u001b[0mis_scalar\u001b[0m\u001b[1;33m(\u001b[0m\u001b[0mkey\u001b[0m\u001b[1;33m)\u001b[0m \u001b[1;32mand\u001b[0m \u001b[0misna\u001b[0m\u001b[1;33m(\u001b[0m\u001b[0mkey\u001b[0m\u001b[1;33m)\u001b[0m \u001b[1;32mand\u001b[0m \u001b[1;32mnot\u001b[0m \u001b[0mself\u001b[0m\u001b[1;33m.\u001b[0m\u001b[0mhasnans\u001b[0m\u001b[1;33m:\u001b[0m\u001b[1;33m\u001b[0m\u001b[1;33m\u001b[0m\u001b[0m\n",
      "\u001b[1;31mKeyError\u001b[0m: 980"
     ]
    }
   ],
   "source": [
    "# Tạo csdl chứa tên và đặc tính tương ứng của từng Pokemon\n",
    "abilities_info = pokedex[['Name', 'Ability', 'Extra Ability', 'Hidden Ability']]     # B1\n",
    "\n",
    "# B2\n",
    "abi_des = []        # ability description\n",
    "ex_abi_des = []     # extra ability description\n",
    "hid_abi_des = []    # hidden ability description\n",
    "\n",
    "# B3\n",
    "for i in range(1, n+1):\n",
    "    # B4\n",
    "    temp = abilities_info['Ability'][i]\n",
    "    temp2 = abilities_info['Extra Ability'][i]\n",
    "    temp3 = abilities_info['Hidden Ability'][i]\n",
    "    \n",
    "    # B5\n",
    "    abi_des.append(abilities[temp])\n",
    "    ex_abi_des.append(abilities[temp2])\n",
    "    hid_abi_des.append(abilities[temp3])\n",
    "\n",
    "\n",
    "# B6\n",
    "abilities_info.insert(2, 'Ability Description', abi_des)\n",
    "abilities_info.insert(4, 'Extra Ability Description', ex_abi_des)\n",
    "abilities_info.insert(6, 'Hidden Ability Description', hid_abi_des)\n",
    "\n",
    "# B7\n",
    "abilities_info"
   ]
  },
  {
   "cell_type": "markdown",
   "metadata": {},
   "source": [
    "# Xuất dữ liệu đã đọc được vào các file csv"
   ]
  },
  {
   "cell_type": "code",
   "execution_count": null,
   "metadata": {},
   "outputs": [],
   "source": [
    "pokedex.to_csv('pokemon_db.csv', encoding='utf-8', index = True)\n",
    "type_defenses.to_csv('type_defenses.csv', encoding='utf-8', index = True)\n",
    "abilities_info.to_csv('abilities_description.csv', encoding='utf-8', index = True)"
   ]
  },
  {
   "cell_type": "markdown",
   "metadata": {},
   "source": [
    "# Q & A\n",
    "\n",
    "### 1. Các Pokemon phân bố theo hệ như thế nào? \n",
    "\n",
    "- Tất cả các Pokemon đều có 1 hoặc 2 hệ. Với các Pokemon có 1 hệ:"
   ]
  },
  {
   "cell_type": "code",
   "execution_count": 59,
   "metadata": {},
   "outputs": [
    {
     "data": {
      "image/png": "[encoded data removed]",
      "text/plain": [
       "<Figure size 1080x720 with 1 Axes>"
      ]
     },
     "metadata": {
      "needs_background": "light"
     },
     "output_type": "display_data"
    }
   ],
   "source": [
    "data = pokedex['Type 1'].value_counts()\n",
    "fig,ax = plt.subplots(figsize = (15,10))\n",
    "ax.bar(data.keys(), data.values)\n",
    "\n",
    "# xlabel, ylabel, suptitle\n",
    "ax.set_xlabel('Hệ', fontsize=15)\n",
    "ax.set_ylabel('Số lượng', fontsize=15)\n",
    "plt.suptitle('\\nSố lượng Pokemon theo hệ 1', fontsize=18)\n",
    "\n",
    "# bar labels\n",
    "for bars in ax.containers:\n",
    "    ax.bar_label(bars, fontsize=14)\n",
    "\n",
    "plt.show()"
   ]
  },
  {
   "cell_type": "markdown",
   "metadata": {},
   "source": [
    "- Với các Pokemon mang song hệ, hệ 2 của chúng phân bố như sau:"
   ]
  },
  {
   "cell_type": "code",
   "execution_count": 60,
   "metadata": {},
   "outputs": [
    {
     "data": {
      "image/png": "[encoded data removed]",
      "text/plain": [
       "<Figure size 1080x720 with 1 Axes>"
      ]
     },
     "metadata": {
      "needs_background": "light"
     },
     "output_type": "display_data"
    }
   ],
   "source": [
    "data1 = pokedex['Type 2'][pokedex['Type 2'] != ''].value_counts()\n",
    "\n",
    "fig,ax = plt.subplots(figsize = (15,10))\n",
    "ax.bar(data1.keys(), data1.values)\n",
    "\n",
    "# xlabel, ylabel, suptitle\n",
    "ax.set_xlabel('Hệ', fontsize=15)\n",
    "ax.set_ylabel('Số lượng', fontsize=15)\n",
    "plt.suptitle('\\nSố lượng Pokemon theo hệ 2', fontsize=18)\n",
    "\n",
    "# bar labels\n",
    "for bars in ax.containers:\n",
    "    ax.bar_label(bars, fontsize=14)\n",
    "\n",
    "plt.show()"
   ]
  },
  {
   "cell_type": "markdown",
   "metadata": {},
   "source": [
    "- Kết hợp cả 2 đồ thị lại, ta được:"
   ]
  },
  {
   "cell_type": "code",
   "execution_count": 72,
   "metadata": {},
   "outputs": [
    {
     "data": {
      "image/png": "[encoded data removed]",
      "text/plain": [
       "<Figure size 1080x720 with 1 Axes>"
      ]
     },
     "metadata": {
      "needs_background": "light"
     },
     "output_type": "display_data"
    }
   ],
   "source": [
    "type1 = pokedex[['Type 1', 'Name']]\\\n",
    "                .rename(columns={'Type 1': 'Type', 'Name': 'Number'}) \\\n",
    "                .groupby('Type')\\\n",
    "                .count()\n",
    "\n",
    "temp = pokedex[pokedex['Type 2'] != '']\n",
    "\n",
    "type2 = temp[['Type 2', 'Name']]\\\n",
    "                .rename(columns={'Type 2': 'Type','Name': 'Number'}) \\\n",
    "                .groupby('Type')\\\n",
    "                .count()\n",
    "\n",
    "xx = type1.index\n",
    "\n",
    "fig = plt.gcf()\n",
    "fig.set_size_inches(15, 10)\n",
    "plt.barh(xx, type1['Number'])\n",
    "plt.barh(xx, type2['Number'], color = 'green')\n",
    "plt.title('Thống kê Pokemon theo cả 2 hệ', fontsize = 15)\n",
    "plt.legend('12')\n",
    "plt.show()"
   ]
  },
  {
   "cell_type": "code",
   "execution_count": 62,
   "metadata": {},
   "outputs": [
    {
     "name": "stdout",
     "output_type": "stream",
     "text": [
      "Số lượng Pokemon mang song hệ: 511 / 1008\n"
     ]
    }
   ],
   "source": [
    "print('Số lượng Pokemon mang song hệ:', data1.sum(), '/' , data.sum())"
   ]
  },
  {
   "cell_type": "markdown",
   "metadata": {},
   "source": [
    "- Nhận xét:\n",
    "        \n",
    "        - Số lượng Pokemon mang song hệ chiếm gần 50% tổng số Pokemon ĐÃ xuất hiện\n",
    "        - Các hệ Water, Normal nhiều nhất ở hệ 1, nhưng lại ít xuất hiện hơn hẳn ở hệ 2.\n",
    "        - Flying thường sẽ là hệ 2 của các Pokemon.\n",
    "        - Một vài hệ có vẻ khá là hiếm ở Type 1, mặc dù đó là hệ phổ biến."
   ]
  },
  {
   "cell_type": "markdown",
   "metadata": {},
   "source": [
    "### 2. Pokemon mang hệ nào là tốt nhất? "
   ]
  },
  {
   "cell_type": "markdown",
   "metadata": {},
   "source": [
    "- Trừ các cột **Name, Type 1, Type 2** ra, chúng ta chỉ quan tâm chỉ số chống chịu của Pokemon với các hệ còn lại:"
   ]
  },
  {
   "cell_type": "code",
   "execution_count": 63,
   "metadata": {},
   "outputs": [
    {
     "data": {
      "text/html": [
       "<div>\n",
       "<style scoped>\n",
       "    .dataframe tbody tr th:only-of-type {\n",
       "        vertical-align: middle;\n",
       "    }\n",
       "\n",
       "    .dataframe tbody tr th {\n",
       "        vertical-align: top;\n",
       "    }\n",
       "\n",
       "    .dataframe thead th {\n",
       "        text-align: right;\n",
       "    }\n",
       "</style>\n",
       "<table border=\"1\" class=\"dataframe\">\n",
       "  <thead>\n",
       "    <tr style=\"text-align: right;\">\n",
       "      <th></th>\n",
       "      <th>NORMAL</th>\n",
       "      <th>FIRE</th>\n",
       "      <th>WATER</th>\n",
       "      <th>ELECTRIC</th>\n",
       "      <th>GRASS</th>\n",
       "      <th>ICE</th>\n",
       "      <th>FIGHTING</th>\n",
       "      <th>POISON</th>\n",
       "      <th>GROUND</th>\n",
       "      <th>FLYING</th>\n",
       "      <th>SPYCHIC</th>\n",
       "      <th>BUG</th>\n",
       "      <th>ROCK</th>\n",
       "      <th>GHOST</th>\n",
       "      <th>DRAGON</th>\n",
       "      <th>DARK</th>\n",
       "      <th>STEEL</th>\n",
       "      <th>FAIRY</th>\n",
       "    </tr>\n",
       "  </thead>\n",
       "  <tbody>\n",
       "    <tr>\n",
       "      <th>1</th>\n",
       "      <td>1.0</td>\n",
       "      <td>2.0</td>\n",
       "      <td>0.5</td>\n",
       "      <td>0.5</td>\n",
       "      <td>0.25</td>\n",
       "      <td>2.0</td>\n",
       "      <td>0.5</td>\n",
       "      <td>1.00</td>\n",
       "      <td>1.0</td>\n",
       "      <td>2.0</td>\n",
       "      <td>2.0</td>\n",
       "      <td>1.00</td>\n",
       "      <td>1.0</td>\n",
       "      <td>1.0</td>\n",
       "      <td>1.0</td>\n",
       "      <td>1.0</td>\n",
       "      <td>1.0</td>\n",
       "      <td>0.5</td>\n",
       "    </tr>\n",
       "    <tr>\n",
       "      <th>2</th>\n",
       "      <td>1.0</td>\n",
       "      <td>2.0</td>\n",
       "      <td>0.5</td>\n",
       "      <td>0.5</td>\n",
       "      <td>0.25</td>\n",
       "      <td>2.0</td>\n",
       "      <td>0.5</td>\n",
       "      <td>1.00</td>\n",
       "      <td>1.0</td>\n",
       "      <td>2.0</td>\n",
       "      <td>2.0</td>\n",
       "      <td>1.00</td>\n",
       "      <td>1.0</td>\n",
       "      <td>1.0</td>\n",
       "      <td>1.0</td>\n",
       "      <td>1.0</td>\n",
       "      <td>1.0</td>\n",
       "      <td>0.5</td>\n",
       "    </tr>\n",
       "    <tr>\n",
       "      <th>3</th>\n",
       "      <td>1.0</td>\n",
       "      <td>2.0</td>\n",
       "      <td>0.5</td>\n",
       "      <td>0.5</td>\n",
       "      <td>0.25</td>\n",
       "      <td>2.0</td>\n",
       "      <td>0.5</td>\n",
       "      <td>1.00</td>\n",
       "      <td>1.0</td>\n",
       "      <td>2.0</td>\n",
       "      <td>2.0</td>\n",
       "      <td>1.00</td>\n",
       "      <td>1.0</td>\n",
       "      <td>1.0</td>\n",
       "      <td>1.0</td>\n",
       "      <td>1.0</td>\n",
       "      <td>1.0</td>\n",
       "      <td>0.5</td>\n",
       "    </tr>\n",
       "    <tr>\n",
       "      <th>4</th>\n",
       "      <td>1.0</td>\n",
       "      <td>0.5</td>\n",
       "      <td>2.0</td>\n",
       "      <td>1.0</td>\n",
       "      <td>0.50</td>\n",
       "      <td>0.5</td>\n",
       "      <td>1.0</td>\n",
       "      <td>1.00</td>\n",
       "      <td>2.0</td>\n",
       "      <td>1.0</td>\n",
       "      <td>1.0</td>\n",
       "      <td>0.50</td>\n",
       "      <td>2.0</td>\n",
       "      <td>1.0</td>\n",
       "      <td>1.0</td>\n",
       "      <td>1.0</td>\n",
       "      <td>0.5</td>\n",
       "      <td>0.5</td>\n",
       "    </tr>\n",
       "    <tr>\n",
       "      <th>5</th>\n",
       "      <td>1.0</td>\n",
       "      <td>0.5</td>\n",
       "      <td>2.0</td>\n",
       "      <td>1.0</td>\n",
       "      <td>0.50</td>\n",
       "      <td>0.5</td>\n",
       "      <td>1.0</td>\n",
       "      <td>1.00</td>\n",
       "      <td>2.0</td>\n",
       "      <td>1.0</td>\n",
       "      <td>1.0</td>\n",
       "      <td>0.50</td>\n",
       "      <td>2.0</td>\n",
       "      <td>1.0</td>\n",
       "      <td>1.0</td>\n",
       "      <td>1.0</td>\n",
       "      <td>0.5</td>\n",
       "      <td>0.5</td>\n",
       "    </tr>\n",
       "    <tr>\n",
       "      <th>...</th>\n",
       "      <td>...</td>\n",
       "      <td>...</td>\n",
       "      <td>...</td>\n",
       "      <td>...</td>\n",
       "      <td>...</td>\n",
       "      <td>...</td>\n",
       "      <td>...</td>\n",
       "      <td>...</td>\n",
       "      <td>...</td>\n",
       "      <td>...</td>\n",
       "      <td>...</td>\n",
       "      <td>...</td>\n",
       "      <td>...</td>\n",
       "      <td>...</td>\n",
       "      <td>...</td>\n",
       "      <td>...</td>\n",
       "      <td>...</td>\n",
       "      <td>...</td>\n",
       "    </tr>\n",
       "    <tr>\n",
       "      <th>1006</th>\n",
       "      <td>1.0</td>\n",
       "      <td>2.0</td>\n",
       "      <td>1.0</td>\n",
       "      <td>0.0</td>\n",
       "      <td>1.00</td>\n",
       "      <td>4.0</td>\n",
       "      <td>1.0</td>\n",
       "      <td>1.00</td>\n",
       "      <td>0.5</td>\n",
       "      <td>2.0</td>\n",
       "      <td>1.0</td>\n",
       "      <td>2.00</td>\n",
       "      <td>0.5</td>\n",
       "      <td>1.0</td>\n",
       "      <td>1.0</td>\n",
       "      <td>1.0</td>\n",
       "      <td>1.0</td>\n",
       "      <td>1.0</td>\n",
       "    </tr>\n",
       "    <tr>\n",
       "      <th>1007</th>\n",
       "      <td>1.0</td>\n",
       "      <td>2.0</td>\n",
       "      <td>1.0</td>\n",
       "      <td>0.0</td>\n",
       "      <td>1.00</td>\n",
       "      <td>4.0</td>\n",
       "      <td>1.0</td>\n",
       "      <td>1.00</td>\n",
       "      <td>0.5</td>\n",
       "      <td>2.0</td>\n",
       "      <td>1.0</td>\n",
       "      <td>2.00</td>\n",
       "      <td>0.5</td>\n",
       "      <td>1.0</td>\n",
       "      <td>1.0</td>\n",
       "      <td>1.0</td>\n",
       "      <td>1.0</td>\n",
       "      <td>1.0</td>\n",
       "    </tr>\n",
       "    <tr>\n",
       "      <th>1008</th>\n",
       "      <td>0.5</td>\n",
       "      <td>2.0</td>\n",
       "      <td>1.0</td>\n",
       "      <td>1.0</td>\n",
       "      <td>0.50</td>\n",
       "      <td>0.5</td>\n",
       "      <td>4.0</td>\n",
       "      <td>0.00</td>\n",
       "      <td>2.0</td>\n",
       "      <td>0.5</td>\n",
       "      <td>0.0</td>\n",
       "      <td>1.00</td>\n",
       "      <td>0.5</td>\n",
       "      <td>0.5</td>\n",
       "      <td>0.5</td>\n",
       "      <td>0.5</td>\n",
       "      <td>0.5</td>\n",
       "      <td>1.0</td>\n",
       "    </tr>\n",
       "    <tr>\n",
       "      <th>1009</th>\n",
       "      <td>1.0</td>\n",
       "      <td>1.0</td>\n",
       "      <td>2.0</td>\n",
       "      <td>0.0</td>\n",
       "      <td>1.00</td>\n",
       "      <td>2.0</td>\n",
       "      <td>0.5</td>\n",
       "      <td>0.25</td>\n",
       "      <td>2.0</td>\n",
       "      <td>1.0</td>\n",
       "      <td>2.0</td>\n",
       "      <td>0.50</td>\n",
       "      <td>0.5</td>\n",
       "      <td>1.0</td>\n",
       "      <td>1.0</td>\n",
       "      <td>1.0</td>\n",
       "      <td>1.0</td>\n",
       "      <td>0.5</td>\n",
       "    </tr>\n",
       "    <tr>\n",
       "      <th>1010</th>\n",
       "      <td>0.0</td>\n",
       "      <td>1.0</td>\n",
       "      <td>1.0</td>\n",
       "      <td>1.0</td>\n",
       "      <td>1.00</td>\n",
       "      <td>1.0</td>\n",
       "      <td>0.0</td>\n",
       "      <td>0.50</td>\n",
       "      <td>1.0</td>\n",
       "      <td>2.0</td>\n",
       "      <td>2.0</td>\n",
       "      <td>0.25</td>\n",
       "      <td>0.5</td>\n",
       "      <td>2.0</td>\n",
       "      <td>1.0</td>\n",
       "      <td>1.0</td>\n",
       "      <td>1.0</td>\n",
       "      <td>2.0</td>\n",
       "    </tr>\n",
       "  </tbody>\n",
       "</table>\n",
       "<p>1008 rows × 18 columns</p>\n",
       "</div>"
      ],
      "text/plain": [
       "      NORMAL  FIRE  WATER  ELECTRIC  GRASS  ICE  FIGHTING  POISON  GROUND  \\\n",
       "1        1.0   2.0    0.5       0.5   0.25  2.0       0.5    1.00     1.0   \n",
       "2        1.0   2.0    0.5       0.5   0.25  2.0       0.5    1.00     1.0   \n",
       "3        1.0   2.0    0.5       0.5   0.25  2.0       0.5    1.00     1.0   \n",
       "4        1.0   0.5    2.0       1.0   0.50  0.5       1.0    1.00     2.0   \n",
       "5        1.0   0.5    2.0       1.0   0.50  0.5       1.0    1.00     2.0   \n",
       "...      ...   ...    ...       ...    ...  ...       ...     ...     ...   \n",
       "1006     1.0   2.0    1.0       0.0   1.00  4.0       1.0    1.00     0.5   \n",
       "1007     1.0   2.0    1.0       0.0   1.00  4.0       1.0    1.00     0.5   \n",
       "1008     0.5   2.0    1.0       1.0   0.50  0.5       4.0    0.00     2.0   \n",
       "1009     1.0   1.0    2.0       0.0   1.00  2.0       0.5    0.25     2.0   \n",
       "1010     0.0   1.0    1.0       1.0   1.00  1.0       0.0    0.50     1.0   \n",
       "\n",
       "      FLYING  SPYCHIC   BUG  ROCK  GHOST  DRAGON  DARK  STEEL  FAIRY  \n",
       "1        2.0      2.0  1.00   1.0    1.0     1.0   1.0    1.0    0.5  \n",
       "2        2.0      2.0  1.00   1.0    1.0     1.0   1.0    1.0    0.5  \n",
       "3        2.0      2.0  1.00   1.0    1.0     1.0   1.0    1.0    0.5  \n",
       "4        1.0      1.0  0.50   2.0    1.0     1.0   1.0    0.5    0.5  \n",
       "5        1.0      1.0  0.50   2.0    1.0     1.0   1.0    0.5    0.5  \n",
       "...      ...      ...   ...   ...    ...     ...   ...    ...    ...  \n",
       "1006     2.0      1.0  2.00   0.5    1.0     1.0   1.0    1.0    1.0  \n",
       "1007     2.0      1.0  2.00   0.5    1.0     1.0   1.0    1.0    1.0  \n",
       "1008     0.5      0.0  1.00   0.5    0.5     0.5   0.5    0.5    1.0  \n",
       "1009     1.0      2.0  0.50   0.5    1.0     1.0   1.0    1.0    0.5  \n",
       "1010     2.0      2.0  0.25   0.5    2.0     1.0   1.0    1.0    2.0  \n",
       "\n",
       "[1008 rows x 18 columns]"
      ]
     },
     "execution_count": 63,
     "metadata": {},
     "output_type": "execute_result"
    }
   ],
   "source": [
    "best_types_list = pd.DataFrame()\n",
    "\n",
    "cols = type_defenses.columns[3:]\n",
    "\n",
    "for col in cols:\n",
    "    best_types_list[col] = type_defenses[col].astype(float)\n",
    "\n",
    "best_types_list"
   ]
  },
  {
   "cell_type": "markdown",
   "metadata": {},
   "source": [
    "- Với `mean` càng cao thì sát thương gây ra cũng sẽ càng nhiều lên tất cả các hệ khác. Như vậy, top 5 hệ tốt nhất của chúng ta sẽ là:"
   ]
  },
  {
   "cell_type": "code",
   "execution_count": 64,
   "metadata": {},
   "outputs": [
    {
     "name": "stdout",
     "output_type": "stream",
     "text": [
      "ROCK      1.24\n",
      "ICE       1.19\n",
      "FLYING    1.18\n",
      "FIRE      1.12\n",
      "GROUND    1.09\n",
      "dtype: float64\n"
     ]
    },
    {
     "data": {
      "text/plain": [
       "<AxesSubplot:>"
      ]
     },
     "execution_count": 64,
     "metadata": {},
     "output_type": "execute_result"
    },
    {
     "data": {
      "image/png": "[encoded data removed]",
      "text/plain": [
       "<Figure size 576x360 with 1 Axes>"
      ]
     },
     "metadata": {
      "needs_background": "light"
     },
     "output_type": "display_data"
    }
   ],
   "source": [
    "print(best_types_list.mean().sort_values(ascending=False)[0:5].round(2))\n",
    "best_types_list.mean().sort_values(ascending=False)[0:5].plot(kind = 'bar', figsize = [8,5])"
   ]
  },
  {
   "cell_type": "markdown",
   "metadata": {},
   "source": [
    "### 3. Cân nặng có liên quan gì đến khả năng chịu đòn của Pokemon hay không?"
   ]
  },
  {
   "cell_type": "markdown",
   "metadata": {},
   "source": [
    "- Trước tiên Cân nặng của một Pokemon sẽ được tính theo `kg` và `lbs`, chúng ta sẽ quy về `kg` thông qua tiền xử lý:"
   ]
  },
  {
   "cell_type": "code",
   "execution_count": null,
   "metadata": {},
   "outputs": [
    {
     "ename": "KeyError",
     "evalue": "980",
     "output_type": "error",
     "traceback": [
      "\u001b[1;31m---------------------------------------------------------------------------\u001b[0m",
      "\u001b[1;31mKeyError\u001b[0m                                  Traceback (most recent call last)",
      "\u001b[1;32mc:\\Users\\Dell\\AppData\\Local\\Programs\\Python\\Python310\\lib\\site-packages\\pandas\\core\\indexes\\base.py\u001b[0m in \u001b[0;36mget_loc\u001b[1;34m(self, key, method, tolerance)\u001b[0m\n\u001b[0;32m   3360\u001b[0m             \u001b[1;32mtry\u001b[0m\u001b[1;33m:\u001b[0m\u001b[1;33m\u001b[0m\u001b[1;33m\u001b[0m\u001b[0m\n\u001b[1;32m-> 3361\u001b[1;33m                 \u001b[1;32mreturn\u001b[0m \u001b[0mself\u001b[0m\u001b[1;33m.\u001b[0m\u001b[0m_engine\u001b[0m\u001b[1;33m.\u001b[0m\u001b[0mget_loc\u001b[0m\u001b[1;33m(\u001b[0m\u001b[0mcasted_key\u001b[0m\u001b[1;33m)\u001b[0m\u001b[1;33m\u001b[0m\u001b[1;33m\u001b[0m\u001b[0m\n\u001b[0m\u001b[0;32m   3362\u001b[0m             \u001b[1;32mexcept\u001b[0m \u001b[0mKeyError\u001b[0m \u001b[1;32mas\u001b[0m \u001b[0merr\u001b[0m\u001b[1;33m:\u001b[0m\u001b[1;33m\u001b[0m\u001b[1;33m\u001b[0m\u001b[0m\n",
      "\u001b[1;32mc:\\Users\\Dell\\AppData\\Local\\Programs\\Python\\Python310\\lib\\site-packages\\pandas\\_libs\\index.pyx\u001b[0m in \u001b[0;36mpandas._libs.index.IndexEngine.get_loc\u001b[1;34m()\u001b[0m\n",
      "\u001b[1;32mc:\\Users\\Dell\\AppData\\Local\\Programs\\Python\\Python310\\lib\\site-packages\\pandas\\_libs\\index.pyx\u001b[0m in \u001b[0;36mpandas._libs.index.IndexEngine.get_loc\u001b[1;34m()\u001b[0m\n",
      "\u001b[1;32mpandas\\_libs\\hashtable_class_helper.pxi\u001b[0m in \u001b[0;36mpandas._libs.hashtable.Int64HashTable.get_item\u001b[1;34m()\u001b[0m\n",
      "\u001b[1;32mpandas\\_libs\\hashtable_class_helper.pxi\u001b[0m in \u001b[0;36mpandas._libs.hashtable.Int64HashTable.get_item\u001b[1;34m()\u001b[0m\n",
      "\u001b[1;31mKeyError\u001b[0m: 980",
      "\nThe above exception was the direct cause of the following exception:\n",
      "\u001b[1;31mKeyError\u001b[0m                                  Traceback (most recent call last)",
      "\u001b[1;32m~\\AppData\\Local\\Temp/ipykernel_9896/3768152509.py\u001b[0m in \u001b[0;36m<module>\u001b[1;34m\u001b[0m\n\u001b[0;32m      2\u001b[0m \u001b[1;33m\u001b[0m\u001b[0m\n\u001b[0;32m      3\u001b[0m \u001b[1;32mfor\u001b[0m \u001b[0mi\u001b[0m \u001b[1;32min\u001b[0m \u001b[0mrange\u001b[0m\u001b[1;33m(\u001b[0m\u001b[1;36m1\u001b[0m\u001b[1;33m,\u001b[0m \u001b[0mn\u001b[0m \u001b[1;33m+\u001b[0m \u001b[1;36m1\u001b[0m\u001b[1;33m)\u001b[0m\u001b[1;33m:\u001b[0m\u001b[1;33m\u001b[0m\u001b[1;33m\u001b[0m\u001b[0m\n\u001b[1;32m----> 4\u001b[1;33m     \u001b[0mpokemon_weight\u001b[0m\u001b[1;33m.\u001b[0m\u001b[0mappend\u001b[0m\u001b[1;33m(\u001b[0m\u001b[0mpokedex\u001b[0m\u001b[1;33m[\u001b[0m\u001b[1;34m'Weight'\u001b[0m\u001b[1;33m]\u001b[0m\u001b[1;33m.\u001b[0m\u001b[0mstr\u001b[0m\u001b[1;33m.\u001b[0m\u001b[0msplit\u001b[0m\u001b[1;33m(\u001b[0m\u001b[1;34m'kg'\u001b[0m\u001b[1;33m)\u001b[0m\u001b[1;33m[\u001b[0m\u001b[0mi\u001b[0m\u001b[1;33m]\u001b[0m\u001b[1;33m[\u001b[0m\u001b[1;36m0\u001b[0m\u001b[1;33m]\u001b[0m\u001b[1;33m)\u001b[0m\u001b[1;33m\u001b[0m\u001b[1;33m\u001b[0m\u001b[0m\n\u001b[0m\u001b[0;32m      5\u001b[0m \u001b[1;33m\u001b[0m\u001b[0m\n\u001b[0;32m      6\u001b[0m \u001b[0mpokemon_weight\u001b[0m \u001b[1;33m=\u001b[0m \u001b[0mlist\u001b[0m\u001b[1;33m(\u001b[0m\u001b[0mmap\u001b[0m\u001b[1;33m(\u001b[0m\u001b[0mfloat\u001b[0m\u001b[1;33m,\u001b[0m \u001b[0mpokemon_weight\u001b[0m\u001b[1;33m)\u001b[0m\u001b[1;33m)\u001b[0m\u001b[1;33m\u001b[0m\u001b[1;33m\u001b[0m\u001b[0m\n",
      "\u001b[1;32mc:\\Users\\Dell\\AppData\\Local\\Programs\\Python\\Python310\\lib\\site-packages\\pandas\\core\\series.py\u001b[0m in \u001b[0;36m__getitem__\u001b[1;34m(self, key)\u001b[0m\n\u001b[0;32m    940\u001b[0m \u001b[1;33m\u001b[0m\u001b[0m\n\u001b[0;32m    941\u001b[0m         \u001b[1;32melif\u001b[0m \u001b[0mkey_is_scalar\u001b[0m\u001b[1;33m:\u001b[0m\u001b[1;33m\u001b[0m\u001b[1;33m\u001b[0m\u001b[0m\n\u001b[1;32m--> 942\u001b[1;33m             \u001b[1;32mreturn\u001b[0m \u001b[0mself\u001b[0m\u001b[1;33m.\u001b[0m\u001b[0m_get_value\u001b[0m\u001b[1;33m(\u001b[0m\u001b[0mkey\u001b[0m\u001b[1;33m)\u001b[0m\u001b[1;33m\u001b[0m\u001b[1;33m\u001b[0m\u001b[0m\n\u001b[0m\u001b[0;32m    943\u001b[0m \u001b[1;33m\u001b[0m\u001b[0m\n\u001b[0;32m    944\u001b[0m         \u001b[1;32mif\u001b[0m \u001b[0mis_hashable\u001b[0m\u001b[1;33m(\u001b[0m\u001b[0mkey\u001b[0m\u001b[1;33m)\u001b[0m\u001b[1;33m:\u001b[0m\u001b[1;33m\u001b[0m\u001b[1;33m\u001b[0m\u001b[0m\n",
      "\u001b[1;32mc:\\Users\\Dell\\AppData\\Local\\Programs\\Python\\Python310\\lib\\site-packages\\pandas\\core\\series.py\u001b[0m in \u001b[0;36m_get_value\u001b[1;34m(self, label, takeable)\u001b[0m\n\u001b[0;32m   1049\u001b[0m \u001b[1;33m\u001b[0m\u001b[0m\n\u001b[0;32m   1050\u001b[0m         \u001b[1;31m# Similar to Index.get_value, but we do not fall back to positional\u001b[0m\u001b[1;33m\u001b[0m\u001b[1;33m\u001b[0m\u001b[0m\n\u001b[1;32m-> 1051\u001b[1;33m         \u001b[0mloc\u001b[0m \u001b[1;33m=\u001b[0m \u001b[0mself\u001b[0m\u001b[1;33m.\u001b[0m\u001b[0mindex\u001b[0m\u001b[1;33m.\u001b[0m\u001b[0mget_loc\u001b[0m\u001b[1;33m(\u001b[0m\u001b[0mlabel\u001b[0m\u001b[1;33m)\u001b[0m\u001b[1;33m\u001b[0m\u001b[1;33m\u001b[0m\u001b[0m\n\u001b[0m\u001b[0;32m   1052\u001b[0m         \u001b[1;32mreturn\u001b[0m \u001b[0mself\u001b[0m\u001b[1;33m.\u001b[0m\u001b[0mindex\u001b[0m\u001b[1;33m.\u001b[0m\u001b[0m_get_values_for_loc\u001b[0m\u001b[1;33m(\u001b[0m\u001b[0mself\u001b[0m\u001b[1;33m,\u001b[0m \u001b[0mloc\u001b[0m\u001b[1;33m,\u001b[0m \u001b[0mlabel\u001b[0m\u001b[1;33m)\u001b[0m\u001b[1;33m\u001b[0m\u001b[1;33m\u001b[0m\u001b[0m\n\u001b[0;32m   1053\u001b[0m \u001b[1;33m\u001b[0m\u001b[0m\n",
      "\u001b[1;32mc:\\Users\\Dell\\AppData\\Local\\Programs\\Python\\Python310\\lib\\site-packages\\pandas\\core\\indexes\\base.py\u001b[0m in \u001b[0;36mget_loc\u001b[1;34m(self, key, method, tolerance)\u001b[0m\n\u001b[0;32m   3361\u001b[0m                 \u001b[1;32mreturn\u001b[0m \u001b[0mself\u001b[0m\u001b[1;33m.\u001b[0m\u001b[0m_engine\u001b[0m\u001b[1;33m.\u001b[0m\u001b[0mget_loc\u001b[0m\u001b[1;33m(\u001b[0m\u001b[0mcasted_key\u001b[0m\u001b[1;33m)\u001b[0m\u001b[1;33m\u001b[0m\u001b[1;33m\u001b[0m\u001b[0m\n\u001b[0;32m   3362\u001b[0m             \u001b[1;32mexcept\u001b[0m \u001b[0mKeyError\u001b[0m \u001b[1;32mas\u001b[0m \u001b[0merr\u001b[0m\u001b[1;33m:\u001b[0m\u001b[1;33m\u001b[0m\u001b[1;33m\u001b[0m\u001b[0m\n\u001b[1;32m-> 3363\u001b[1;33m                 \u001b[1;32mraise\u001b[0m \u001b[0mKeyError\u001b[0m\u001b[1;33m(\u001b[0m\u001b[0mkey\u001b[0m\u001b[1;33m)\u001b[0m \u001b[1;32mfrom\u001b[0m \u001b[0merr\u001b[0m\u001b[1;33m\u001b[0m\u001b[1;33m\u001b[0m\u001b[0m\n\u001b[0m\u001b[0;32m   3364\u001b[0m \u001b[1;33m\u001b[0m\u001b[0m\n\u001b[0;32m   3365\u001b[0m         \u001b[1;32mif\u001b[0m \u001b[0mis_scalar\u001b[0m\u001b[1;33m(\u001b[0m\u001b[0mkey\u001b[0m\u001b[1;33m)\u001b[0m \u001b[1;32mand\u001b[0m \u001b[0misna\u001b[0m\u001b[1;33m(\u001b[0m\u001b[0mkey\u001b[0m\u001b[1;33m)\u001b[0m \u001b[1;32mand\u001b[0m \u001b[1;32mnot\u001b[0m \u001b[0mself\u001b[0m\u001b[1;33m.\u001b[0m\u001b[0mhasnans\u001b[0m\u001b[1;33m:\u001b[0m\u001b[1;33m\u001b[0m\u001b[1;33m\u001b[0m\u001b[0m\n",
      "\u001b[1;31mKeyError\u001b[0m: 980"
     ]
    }
   ],
   "source": [
    "pokemon_weight = []\n",
    "\n",
    "for i in range(1, n + 1):\n",
    "    pokemon_weight.append(pokedex['Weight'].str.split('kg')[i][0])\n",
    "\n",
    "pokemon_weight = list(map(float, pokemon_weight))\n",
    "\n",
    "pokemon_weight"
   ]
  },
  {
   "cell_type": "markdown",
   "metadata": {},
   "source": [
    "- Khả năng chịu đòn của một Pokemon được quyết định dựa trên 3 thuộc tính chủ yếu:\n",
    "\n",
    "        + Điểm sinh mệnh (HP)\n",
    "        + Phòng thủ hoặc giáp (Defense)\n",
    "        + Phòng thủ đặc biệt hay kháng phép (Special Defense):"
   ]
  },
  {
   "cell_type": "code",
   "execution_count": null,
   "metadata": {},
   "outputs": [],
   "source": [
    "# HP\n",
    "plt.figure(figsize = (15,10))\n",
    "\n",
    "sns.scatterplot(data = pokedex,\n",
    "                x = pokedex['HP'], \n",
    "                y = pokemon_weight, \n",
    "                marker = 'o',\n",
    "                s = 100). \\\n",
    "                set(xlabel = 'Pokemon HP', ylabel = 'Pokemon Weight', title = 'Weight - HP')\n",
    "\n",
    "m, b = np.polyfit(pokedex['HP'], pokemon_weight, 1)\n",
    "plt.plot(pokedex['HP'], m*pokedex['HP']+b)\n",
    "\n",
    "\n",
    "# DEFENSE\n",
    "plt.figure(figsize = (15,10))\n",
    "\n",
    "sns.scatterplot(data = pokedex,\n",
    "                x = pokedex['Defense'], \n",
    "                y = pokemon_weight, \n",
    "                marker = 'o',\n",
    "                s = 100). \\\n",
    "                set(xlabel = 'Pokemon Defense', ylabel = 'Pokemon Weight', title = 'Weight - Defense')\n",
    "\n",
    "m, b = np.polyfit(pokedex['Defense'], pokemon_weight, 1)\n",
    "plt.plot(pokedex['Defense'], m*pokedex['Defense']+b)\n",
    "\n",
    "\n",
    "# SPECIAL DEFENSE\n",
    "plt.figure(figsize = (15,10))\n",
    "\n",
    "sns.scatterplot(data = pokedex,\n",
    "                x = pokedex['Sp. Def'], \n",
    "                y = pokemon_weight, \n",
    "                marker = 'o',\n",
    "                s = 100). \\\n",
    "                set(xlabel = 'Pokemon Special Defense', ylabel = 'Pokemon Weight', title = 'Weight - Special Defense')\n",
    "\n",
    "m, b = np.polyfit(pokedex['Sp. Def'], pokemon_weight, 1)\n",
    "plt.plot(pokedex['Sp. Def'], m*pokedex['Sp. Def']+b)"
   ]
  },
  {
   "cell_type": "markdown",
   "metadata": {},
   "source": [
    "- Nhận xét: \n",
    "\n",
    "        + Xu hướng tăng dần chỉ số phòng ngự theo cân nặng của Pokemon là có cơ sở\n",
    "        + Các Pokemon \"nặng ký\" thì sẽ có khả năng chịu đòn càng tốt\n",
    "        + Như vậy để có một Pokemon chịu đòn tốt, hãy chọn mấy con Pokemon mập :v"
   ]
  },
  {
   "cell_type": "markdown",
   "metadata": {},
   "source": [
    "### 4. Nếu dựa trên tương khắc hệ có thể suy ra được hệ tốt nhất cho một Pokemon. Vậy dựa trên chỉ số sức mạnh thì các hệ nào sẽ đứng top? "
   ]
  },
  {
   "cell_type": "code",
   "execution_count": 65,
   "metadata": {},
   "outputs": [
    {
     "name": "stdout",
     "output_type": "stream",
     "text": [
      "           Total\n",
      "Type 1          \n",
      "Dragon    490.16\n",
      "Steel     468.03\n",
      "Dark      454.73\n",
      "Psychic   446.72\n",
      "Fire      443.98\n",
      "Fighting  439.79\n",
      "Rock      438.54\n",
      "Ice       436.39\n",
      "Flying    436.11\n",
      "Fairy     436.07\n",
      "Ground    434.58\n",
      "Electric  433.66\n",
      "Ghost     431.17\n",
      "Water     417.58\n",
      "Poison    414.13\n",
      "Grass     407.94\n",
      "Normal    399.41\n",
      "Bug       374.64\n"
     ]
    },
    {
     "data": {
      "text/plain": [
       "<AxesSubplot:title={'center':'Top 5 hệ mạnh nhất'}, xlabel='Hệ', ylabel='Tổng chỉ số'>"
      ]
     },
     "execution_count": 65,
     "metadata": {},
     "output_type": "execute_result"
    },
    {
     "data": {
      "image/png": "[encoded data removed]",
      "text/plain": [
       "<Figure size 720x720 with 1 Axes>"
      ]
     },
     "metadata": {
      "needs_background": "light"
     },
     "output_type": "display_data"
    }
   ],
   "source": [
    "strongest_types_list = pokedex[['Name', 'Type 1', 'Total']]. \\\n",
    "                        groupby('Type 1'). \\\n",
    "                        mean('Total'). \\\n",
    "                        sort_values('Total', ascending = False)\n",
    "\n",
    "print(round(strongest_types_list, 2))\n",
    "\n",
    "strongest_types_list[0:5].plot(kind = 'bar', figsize = [10,10], title = 'Top 5 hệ mạnh nhất', xlabel = 'Hệ', ylabel = 'Tổng chỉ số')"
   ]
  },
  {
   "cell_type": "markdown",
   "metadata": {},
   "source": [
    "- Nhận xét:\n",
    "\n",
    "        + DRAGON là hệ mạnh nhất, không có gì để bàn cãi cả.\n",
    "        + FIRE và ROCK vừa là nằm trong top cả hệ tốt nhất và hệ mạnh nhất.\n",
    "\n",
    "- Lưu ý:` Tuy DRAGON là hệ mạnh nhất nhưng vẫn không nằm trong các hệ tốt nhất là vì bọn này có chỉ số rất khủng, tuy vậy hệ tốt nhất chúng ta xét là dựa trên tương khắc hệ chứ không phải tổng chỉ số.`"
   ]
  },
  {
   "cell_type": "markdown",
   "metadata": {},
   "source": [
    "### 5. Pokemon Á Thần, Huyền Bí và Huyền Thoại gồm những Pokemon nào?"
   ]
  },
  {
   "cell_type": "markdown",
   "metadata": {},
   "source": [
    "- Trước hết, các Pokemon **Huyền Thoại (legendary)** ĐÃ được giới thiệu bao gồm những cái tên sau đây:"
   ]
  },
  {
   "cell_type": "code",
   "execution_count": 66,
   "metadata": {},
   "outputs": [
    {
     "data": {
      "text/html": [
       "<div>\n",
       "<style scoped>\n",
       "    .dataframe tbody tr th:only-of-type {\n",
       "        vertical-align: middle;\n",
       "    }\n",
       "\n",
       "    .dataframe tbody tr th {\n",
       "        vertical-align: top;\n",
       "    }\n",
       "\n",
       "    .dataframe thead th {\n",
       "        text-align: right;\n",
       "    }\n",
       "</style>\n",
       "<table border=\"1\" class=\"dataframe\">\n",
       "  <thead>\n",
       "    <tr style=\"text-align: right;\">\n",
       "      <th></th>\n",
       "      <th>Name</th>\n",
       "      <th>Type 1</th>\n",
       "      <th>Type 2</th>\n",
       "      <th>Species</th>\n",
       "      <th>Height</th>\n",
       "      <th>Weight</th>\n",
       "      <th>Ability</th>\n",
       "      <th>Extra Ability</th>\n",
       "      <th>Hidden Ability</th>\n",
       "      <th>Catch Rate</th>\n",
       "      <th>...</th>\n",
       "      <th>Growth Rate</th>\n",
       "      <th>Gender</th>\n",
       "      <th>HP</th>\n",
       "      <th>Attack</th>\n",
       "      <th>Defense</th>\n",
       "      <th>Sp. Atk</th>\n",
       "      <th>Sp. Def</th>\n",
       "      <th>Speed</th>\n",
       "      <th>Total</th>\n",
       "      <th>Legendary</th>\n",
       "    </tr>\n",
       "  </thead>\n",
       "  <tbody>\n",
       "    <tr>\n",
       "      <th>144</th>\n",
       "      <td>Articuno</td>\n",
       "      <td>Ice</td>\n",
       "      <td>Flying</td>\n",
       "      <td>Freeze Pokémon</td>\n",
       "      <td>1.7m (5′07″)</td>\n",
       "      <td>55.4kg (122.1lbs)</td>\n",
       "      <td>Pressure</td>\n",
       "      <td></td>\n",
       "      <td>Snow Cloak</td>\n",
       "      <td>3 (0.4% with PokéBall, full HP)</td>\n",
       "      <td>...</td>\n",
       "      <td>Slow</td>\n",
       "      <td>Genderless</td>\n",
       "      <td>90</td>\n",
       "      <td>85</td>\n",
       "      <td>100</td>\n",
       "      <td>95</td>\n",
       "      <td>125</td>\n",
       "      <td>85</td>\n",
       "      <td>580</td>\n",
       "      <td>True</td>\n",
       "    </tr>\n",
       "    <tr>\n",
       "      <th>145</th>\n",
       "      <td>Zapdos</td>\n",
       "      <td>Electric</td>\n",
       "      <td>Flying</td>\n",
       "      <td>Electric Pokémon</td>\n",
       "      <td>1.6m (5′03″)</td>\n",
       "      <td>52.6kg (116.0lbs)</td>\n",
       "      <td>Pressure</td>\n",
       "      <td></td>\n",
       "      <td>Static</td>\n",
       "      <td>3 (0.4% with PokéBall, full HP)</td>\n",
       "      <td>...</td>\n",
       "      <td>Slow</td>\n",
       "      <td>Genderless</td>\n",
       "      <td>90</td>\n",
       "      <td>90</td>\n",
       "      <td>85</td>\n",
       "      <td>125</td>\n",
       "      <td>90</td>\n",
       "      <td>100</td>\n",
       "      <td>580</td>\n",
       "      <td>True</td>\n",
       "    </tr>\n",
       "    <tr>\n",
       "      <th>146</th>\n",
       "      <td>Moltres</td>\n",
       "      <td>Fire</td>\n",
       "      <td>Flying</td>\n",
       "      <td>Flame Pokémon</td>\n",
       "      <td>2.0m (6′07″)</td>\n",
       "      <td>60.0kg (132.3lbs)</td>\n",
       "      <td>Pressure</td>\n",
       "      <td></td>\n",
       "      <td>Flame Body</td>\n",
       "      <td>3 (0.4% with PokéBall, full HP)</td>\n",
       "      <td>...</td>\n",
       "      <td>Slow</td>\n",
       "      <td>Genderless</td>\n",
       "      <td>90</td>\n",
       "      <td>100</td>\n",
       "      <td>90</td>\n",
       "      <td>125</td>\n",
       "      <td>85</td>\n",
       "      <td>90</td>\n",
       "      <td>580</td>\n",
       "      <td>True</td>\n",
       "    </tr>\n",
       "    <tr>\n",
       "      <th>150</th>\n",
       "      <td>Mewtwo</td>\n",
       "      <td>Psychic</td>\n",
       "      <td></td>\n",
       "      <td>Genetic Pokémon</td>\n",
       "      <td>2.0m (6′07″)</td>\n",
       "      <td>122.0kg (269.0lbs)</td>\n",
       "      <td>Pressure</td>\n",
       "      <td></td>\n",
       "      <td>Unnerve</td>\n",
       "      <td>3 (0.4% with PokéBall, full HP)</td>\n",
       "      <td>...</td>\n",
       "      <td>Slow</td>\n",
       "      <td>Genderless</td>\n",
       "      <td>106</td>\n",
       "      <td>110</td>\n",
       "      <td>90</td>\n",
       "      <td>154</td>\n",
       "      <td>90</td>\n",
       "      <td>130</td>\n",
       "      <td>680</td>\n",
       "      <td>True</td>\n",
       "    </tr>\n",
       "    <tr>\n",
       "      <th>243</th>\n",
       "      <td>Raikou</td>\n",
       "      <td>Electric</td>\n",
       "      <td></td>\n",
       "      <td>Thunder Pokémon</td>\n",
       "      <td>1.9m (6′03″)</td>\n",
       "      <td>178.0kg (392.4lbs)</td>\n",
       "      <td>Pressure</td>\n",
       "      <td></td>\n",
       "      <td>Inner Focus</td>\n",
       "      <td>3 (0.4% with PokéBall, full HP)</td>\n",
       "      <td>...</td>\n",
       "      <td>Slow</td>\n",
       "      <td>Genderless</td>\n",
       "      <td>90</td>\n",
       "      <td>85</td>\n",
       "      <td>75</td>\n",
       "      <td>115</td>\n",
       "      <td>100</td>\n",
       "      <td>115</td>\n",
       "      <td>580</td>\n",
       "      <td>True</td>\n",
       "    </tr>\n",
       "    <tr>\n",
       "      <th>...</th>\n",
       "      <td>...</td>\n",
       "      <td>...</td>\n",
       "      <td>...</td>\n",
       "      <td>...</td>\n",
       "      <td>...</td>\n",
       "      <td>...</td>\n",
       "      <td>...</td>\n",
       "      <td>...</td>\n",
       "      <td>...</td>\n",
       "      <td>...</td>\n",
       "      <td>...</td>\n",
       "      <td>...</td>\n",
       "      <td>...</td>\n",
       "      <td>...</td>\n",
       "      <td>...</td>\n",
       "      <td>...</td>\n",
       "      <td>...</td>\n",
       "      <td>...</td>\n",
       "      <td>...</td>\n",
       "      <td>...</td>\n",
       "      <td>...</td>\n",
       "    </tr>\n",
       "    <tr>\n",
       "      <th>995</th>\n",
       "      <td>Chien-Pao</td>\n",
       "      <td>Dark</td>\n",
       "      <td>Ice</td>\n",
       "      <td>Ruinous Pokémon</td>\n",
       "      <td>1.9m (6′03″)</td>\n",
       "      <td>152.2kg (335.5lbs)</td>\n",
       "      <td>Sword of Ruin</td>\n",
       "      <td></td>\n",
       "      <td></td>\n",
       "      <td>6 (0.8% with PokéBall, full HP)</td>\n",
       "      <td>...</td>\n",
       "      <td>Slow</td>\n",
       "      <td>Genderless</td>\n",
       "      <td>80</td>\n",
       "      <td>120</td>\n",
       "      <td>80</td>\n",
       "      <td>90</td>\n",
       "      <td>65</td>\n",
       "      <td>135</td>\n",
       "      <td>570</td>\n",
       "      <td>True</td>\n",
       "    </tr>\n",
       "    <tr>\n",
       "      <th>996</th>\n",
       "      <td>Wo-Chien</td>\n",
       "      <td>Dark</td>\n",
       "      <td>Grass</td>\n",
       "      <td>Ruinous Pokémon</td>\n",
       "      <td>1.5m (4′11″)</td>\n",
       "      <td>74.2kg (163.6lbs)</td>\n",
       "      <td>Tablets of Ruin</td>\n",
       "      <td></td>\n",
       "      <td></td>\n",
       "      <td>6 (0.8% with PokéBall, full HP)</td>\n",
       "      <td>...</td>\n",
       "      <td>Slow</td>\n",
       "      <td>Genderless</td>\n",
       "      <td>85</td>\n",
       "      <td>85</td>\n",
       "      <td>100</td>\n",
       "      <td>95</td>\n",
       "      <td>135</td>\n",
       "      <td>70</td>\n",
       "      <td>570</td>\n",
       "      <td>True</td>\n",
       "    </tr>\n",
       "    <tr>\n",
       "      <th>997</th>\n",
       "      <td>Chi-Yu</td>\n",
       "      <td>Dark</td>\n",
       "      <td>Fire</td>\n",
       "      <td>Ruinous Pokémon</td>\n",
       "      <td>0.4m (1′04″)</td>\n",
       "      <td>4.9kg (10.8lbs)</td>\n",
       "      <td>Beads of Ruin</td>\n",
       "      <td></td>\n",
       "      <td></td>\n",
       "      <td>6 (0.8% with PokéBall, full HP)</td>\n",
       "      <td>...</td>\n",
       "      <td>Slow</td>\n",
       "      <td>Genderless</td>\n",
       "      <td>55</td>\n",
       "      <td>80</td>\n",
       "      <td>80</td>\n",
       "      <td>135</td>\n",
       "      <td>120</td>\n",
       "      <td>100</td>\n",
       "      <td>570</td>\n",
       "      <td>True</td>\n",
       "    </tr>\n",
       "    <tr>\n",
       "      <th>998</th>\n",
       "      <td>Koraidon</td>\n",
       "      <td>Fighting</td>\n",
       "      <td>Dragon</td>\n",
       "      <td>Paradox Pokémon</td>\n",
       "      <td>2.5m (8′02″)</td>\n",
       "      <td>303.0kg (668.0lbs)</td>\n",
       "      <td>Orichalcum Pulse</td>\n",
       "      <td></td>\n",
       "      <td></td>\n",
       "      <td>3 (0.4% with PokéBall, full HP)</td>\n",
       "      <td>...</td>\n",
       "      <td>Slow</td>\n",
       "      <td>Genderless</td>\n",
       "      <td>100</td>\n",
       "      <td>135</td>\n",
       "      <td>115</td>\n",
       "      <td>85</td>\n",
       "      <td>100</td>\n",
       "      <td>135</td>\n",
       "      <td>670</td>\n",
       "      <td>True</td>\n",
       "    </tr>\n",
       "    <tr>\n",
       "      <th>999</th>\n",
       "      <td>Miraidon</td>\n",
       "      <td>Electric</td>\n",
       "      <td>Dragon</td>\n",
       "      <td>Paradox Pokémon</td>\n",
       "      <td>3.5m (11′06″)</td>\n",
       "      <td>240.0kg (529.1lbs)</td>\n",
       "      <td>Hadron Engine</td>\n",
       "      <td></td>\n",
       "      <td></td>\n",
       "      <td>3 (0.4% with PokéBall, full HP)</td>\n",
       "      <td>...</td>\n",
       "      <td>Slow</td>\n",
       "      <td>Genderless</td>\n",
       "      <td>100</td>\n",
       "      <td>85</td>\n",
       "      <td>100</td>\n",
       "      <td>135</td>\n",
       "      <td>115</td>\n",
       "      <td>135</td>\n",
       "      <td>670</td>\n",
       "      <td>True</td>\n",
       "    </tr>\n",
       "  </tbody>\n",
       "</table>\n",
       "<p>65 rows × 22 columns</p>\n",
       "</div>"
      ],
      "text/plain": [
       "          Name    Type 1  Type 2           Species         Height  \\\n",
       "144   Articuno       Ice  Flying    Freeze Pokémon   1.7m (5′07″)   \n",
       "145     Zapdos  Electric  Flying  Electric Pokémon   1.6m (5′03″)   \n",
       "146    Moltres      Fire  Flying     Flame Pokémon   2.0m (6′07″)   \n",
       "150     Mewtwo   Psychic           Genetic Pokémon   2.0m (6′07″)   \n",
       "243     Raikou  Electric           Thunder Pokémon   1.9m (6′03″)   \n",
       "..         ...       ...     ...               ...            ...   \n",
       "995  Chien-Pao      Dark     Ice   Ruinous Pokémon   1.9m (6′03″)   \n",
       "996   Wo-Chien      Dark   Grass   Ruinous Pokémon   1.5m (4′11″)   \n",
       "997     Chi-Yu      Dark    Fire   Ruinous Pokémon   0.4m (1′04″)   \n",
       "998   Koraidon  Fighting  Dragon   Paradox Pokémon   2.5m (8′02″)   \n",
       "999   Miraidon  Electric  Dragon   Paradox Pokémon  3.5m (11′06″)   \n",
       "\n",
       "                 Weight           Ability Extra Ability Hidden Ability  \\\n",
       "144   55.4kg (122.1lbs)          Pressure                   Snow Cloak   \n",
       "145   52.6kg (116.0lbs)          Pressure                       Static   \n",
       "146   60.0kg (132.3lbs)          Pressure                   Flame Body   \n",
       "150  122.0kg (269.0lbs)          Pressure                      Unnerve   \n",
       "243  178.0kg (392.4lbs)          Pressure                  Inner Focus   \n",
       "..                  ...               ...           ...            ...   \n",
       "995  152.2kg (335.5lbs)     Sword of Ruin                                \n",
       "996   74.2kg (163.6lbs)   Tablets of Ruin                                \n",
       "997     4.9kg (10.8lbs)     Beads of Ruin                                \n",
       "998  303.0kg (668.0lbs)  Orichalcum Pulse                                \n",
       "999  240.0kg (529.1lbs)     Hadron Engine                                \n",
       "\n",
       "                          Catch Rate  ... Growth Rate      Gender   HP Attack  \\\n",
       "144  3 (0.4% with PokéBall, full HP)  ...        Slow  Genderless   90     85   \n",
       "145  3 (0.4% with PokéBall, full HP)  ...        Slow  Genderless   90     90   \n",
       "146  3 (0.4% with PokéBall, full HP)  ...        Slow  Genderless   90    100   \n",
       "150  3 (0.4% with PokéBall, full HP)  ...        Slow  Genderless  106    110   \n",
       "243  3 (0.4% with PokéBall, full HP)  ...        Slow  Genderless   90     85   \n",
       "..                               ...  ...         ...         ...  ...    ...   \n",
       "995  6 (0.8% with PokéBall, full HP)  ...        Slow  Genderless   80    120   \n",
       "996  6 (0.8% with PokéBall, full HP)  ...        Slow  Genderless   85     85   \n",
       "997  6 (0.8% with PokéBall, full HP)  ...        Slow  Genderless   55     80   \n",
       "998  3 (0.4% with PokéBall, full HP)  ...        Slow  Genderless  100    135   \n",
       "999  3 (0.4% with PokéBall, full HP)  ...        Slow  Genderless  100     85   \n",
       "\n",
       "     Defense  Sp. Atk  Sp. Def  Speed  Total  Legendary  \n",
       "144      100       95      125     85    580       True  \n",
       "145       85      125       90    100    580       True  \n",
       "146       90      125       85     90    580       True  \n",
       "150       90      154       90    130    680       True  \n",
       "243       75      115      100    115    580       True  \n",
       "..       ...      ...      ...    ...    ...        ...  \n",
       "995       80       90       65    135    570       True  \n",
       "996      100       95      135     70    570       True  \n",
       "997       80      135      120    100    570       True  \n",
       "998      115       85      100    135    670       True  \n",
       "999      100      135      115    135    670       True  \n",
       "\n",
       "[65 rows x 22 columns]"
      ]
     },
     "execution_count": 66,
     "metadata": {},
     "output_type": "execute_result"
    }
   ],
   "source": [
    "# Mỗi dòng là các Pokemon huyền thoại tương ứng từ gen 1-9\n",
    "legendaries = ['Articuno', 'Zapdos', 'Moltres', 'Mewtwo',\n",
    "'Raikou', 'Entei', 'Suicune', 'Lugia', 'Ho-oh', \n",
    "'Regice', 'Registeel', 'Regirock', 'Latias', 'Latios', 'Groudon', 'Kyogre', 'Rayquaza', \n",
    "'Azelf', 'Mesprit', 'Uxie', 'Dialga', 'Palkia', 'Giratina', 'Cresselia', 'Heatran', 'Regigigas', \n",
    "'Tornadus', 'Thundurus', 'Landorus', 'Reshiram', 'Zekrom', 'Kyurem', \n",
    "'Cobalion', 'Terrakion', 'Virizion', 'Xerneas', 'Yveltal', 'Zygarde', \n",
    "'Type: Null', 'Silvally', 'Tapu Koko', 'Tapu Lele', 'Tapu Bulu', 'Tapu Fini', 'Cosmog', 'Cosmoem', 'Solgaleo', 'Lunala', 'Necrozma', \n",
    "'Zacian', 'Zamazenta', 'Eternatus', 'Kubfu', 'Urshifu', 'Regieleki', 'Regidrago', 'Glastrier', 'Spectrier', 'Calyrex',\n",
    "'Koraidon', 'Miraidon', 'Chien-Pao', 'Ting-Lu', 'Wo-Chien', 'Chi-Yu']\n",
    "\n",
    "pokedex['Legendary'] = pokedex['Name'].isin(legendaries)\n",
    "\n",
    "pokedex[pokedex['Legendary'] == True]"
   ]
  },
  {
   "cell_type": "markdown",
   "metadata": {},
   "source": [
    "- Các Pokemon **Huyền Bí (mythical)** ĐÃ được giới thiệu bao gồm những cái tên sau đây:"
   ]
  },
  {
   "cell_type": "code",
   "execution_count": 67,
   "metadata": {},
   "outputs": [
    {
     "data": {
      "text/html": [
       "<div>\n",
       "<style scoped>\n",
       "    .dataframe tbody tr th:only-of-type {\n",
       "        vertical-align: middle;\n",
       "    }\n",
       "\n",
       "    .dataframe tbody tr th {\n",
       "        vertical-align: top;\n",
       "    }\n",
       "\n",
       "    .dataframe thead th {\n",
       "        text-align: right;\n",
       "    }\n",
       "</style>\n",
       "<table border=\"1\" class=\"dataframe\">\n",
       "  <thead>\n",
       "    <tr style=\"text-align: right;\">\n",
       "      <th></th>\n",
       "      <th>Name</th>\n",
       "      <th>Type 1</th>\n",
       "      <th>Type 2</th>\n",
       "      <th>Species</th>\n",
       "      <th>Height</th>\n",
       "      <th>Weight</th>\n",
       "      <th>Ability</th>\n",
       "      <th>Extra Ability</th>\n",
       "      <th>Hidden Ability</th>\n",
       "      <th>Catch Rate</th>\n",
       "      <th>...</th>\n",
       "      <th>Gender</th>\n",
       "      <th>HP</th>\n",
       "      <th>Attack</th>\n",
       "      <th>Defense</th>\n",
       "      <th>Sp. Atk</th>\n",
       "      <th>Sp. Def</th>\n",
       "      <th>Speed</th>\n",
       "      <th>Total</th>\n",
       "      <th>Legendary</th>\n",
       "      <th>Mythical</th>\n",
       "    </tr>\n",
       "  </thead>\n",
       "  <tbody>\n",
       "    <tr>\n",
       "      <th>151</th>\n",
       "      <td>Mew</td>\n",
       "      <td>Psychic</td>\n",
       "      <td></td>\n",
       "      <td>New Species Pokémon</td>\n",
       "      <td>0.4m (1′04″)</td>\n",
       "      <td>4.0kg (8.8lbs)</td>\n",
       "      <td>Synchronize</td>\n",
       "      <td></td>\n",
       "      <td></td>\n",
       "      <td>45 (5.9% with PokéBall, full HP)</td>\n",
       "      <td>...</td>\n",
       "      <td>Genderless</td>\n",
       "      <td>100</td>\n",
       "      <td>100</td>\n",
       "      <td>100</td>\n",
       "      <td>100</td>\n",
       "      <td>100</td>\n",
       "      <td>100</td>\n",
       "      <td>600</td>\n",
       "      <td>False</td>\n",
       "      <td>True</td>\n",
       "    </tr>\n",
       "    <tr>\n",
       "      <th>251</th>\n",
       "      <td>Celebi</td>\n",
       "      <td>Psychic</td>\n",
       "      <td>Grass</td>\n",
       "      <td>Time Travel Pokémon</td>\n",
       "      <td>0.6m (2′00″)</td>\n",
       "      <td>5.0kg (11.0lbs)</td>\n",
       "      <td>Natural Cure</td>\n",
       "      <td></td>\n",
       "      <td></td>\n",
       "      <td>45 (5.9% with PokéBall, full HP)</td>\n",
       "      <td>...</td>\n",
       "      <td>Genderless</td>\n",
       "      <td>100</td>\n",
       "      <td>100</td>\n",
       "      <td>100</td>\n",
       "      <td>100</td>\n",
       "      <td>100</td>\n",
       "      <td>100</td>\n",
       "      <td>600</td>\n",
       "      <td>False</td>\n",
       "      <td>True</td>\n",
       "    </tr>\n",
       "    <tr>\n",
       "      <th>385</th>\n",
       "      <td>Jirachi</td>\n",
       "      <td>Steel</td>\n",
       "      <td>Psychic</td>\n",
       "      <td>Wish Pokémon</td>\n",
       "      <td>0.3m (1′00″)</td>\n",
       "      <td>1.1kg (2.4lbs)</td>\n",
       "      <td>Serene Grace</td>\n",
       "      <td></td>\n",
       "      <td></td>\n",
       "      <td>3 (0.4% with PokéBall, full HP)</td>\n",
       "      <td>...</td>\n",
       "      <td>Genderless</td>\n",
       "      <td>100</td>\n",
       "      <td>100</td>\n",
       "      <td>100</td>\n",
       "      <td>100</td>\n",
       "      <td>100</td>\n",
       "      <td>100</td>\n",
       "      <td>600</td>\n",
       "      <td>False</td>\n",
       "      <td>True</td>\n",
       "    </tr>\n",
       "    <tr>\n",
       "      <th>386</th>\n",
       "      <td>Deoxys</td>\n",
       "      <td>Psychic</td>\n",
       "      <td></td>\n",
       "      <td>DNA Pokémon</td>\n",
       "      <td>1.7m (5′07″)</td>\n",
       "      <td>60.8kg (134.0lbs)</td>\n",
       "      <td>Pressure</td>\n",
       "      <td></td>\n",
       "      <td></td>\n",
       "      <td>3 (0.4% with PokéBall, full HP)</td>\n",
       "      <td>...</td>\n",
       "      <td>Genderless</td>\n",
       "      <td>50</td>\n",
       "      <td>150</td>\n",
       "      <td>50</td>\n",
       "      <td>150</td>\n",
       "      <td>50</td>\n",
       "      <td>150</td>\n",
       "      <td>600</td>\n",
       "      <td>False</td>\n",
       "      <td>True</td>\n",
       "    </tr>\n",
       "    <tr>\n",
       "      <th>489</th>\n",
       "      <td>Phione</td>\n",
       "      <td>Water</td>\n",
       "      <td></td>\n",
       "      <td>Sea Drifter Pokémon</td>\n",
       "      <td>0.4m (1′04″)</td>\n",
       "      <td>3.1kg (6.8lbs)</td>\n",
       "      <td>Hydration</td>\n",
       "      <td></td>\n",
       "      <td></td>\n",
       "      <td>30 (3.9% with PokéBall, full HP)</td>\n",
       "      <td>...</td>\n",
       "      <td>Genderless</td>\n",
       "      <td>80</td>\n",
       "      <td>80</td>\n",
       "      <td>80</td>\n",
       "      <td>80</td>\n",
       "      <td>80</td>\n",
       "      <td>80</td>\n",
       "      <td>480</td>\n",
       "      <td>False</td>\n",
       "      <td>True</td>\n",
       "    </tr>\n",
       "    <tr>\n",
       "      <th>490</th>\n",
       "      <td>Manaphy</td>\n",
       "      <td>Water</td>\n",
       "      <td></td>\n",
       "      <td>Seafaring Pokémon</td>\n",
       "      <td>0.3m (1′00″)</td>\n",
       "      <td>1.4kg (3.1lbs)</td>\n",
       "      <td>Hydration</td>\n",
       "      <td></td>\n",
       "      <td></td>\n",
       "      <td>3 (0.4% with PokéBall, full HP)</td>\n",
       "      <td>...</td>\n",
       "      <td>Genderless</td>\n",
       "      <td>100</td>\n",
       "      <td>100</td>\n",
       "      <td>100</td>\n",
       "      <td>100</td>\n",
       "      <td>100</td>\n",
       "      <td>100</td>\n",
       "      <td>600</td>\n",
       "      <td>False</td>\n",
       "      <td>True</td>\n",
       "    </tr>\n",
       "    <tr>\n",
       "      <th>491</th>\n",
       "      <td>Darkrai</td>\n",
       "      <td>Dark</td>\n",
       "      <td></td>\n",
       "      <td>Pitch-Black Pokémon</td>\n",
       "      <td>1.5m (4′11″)</td>\n",
       "      <td>50.5kg (111.3lbs)</td>\n",
       "      <td>Bad Dreams</td>\n",
       "      <td></td>\n",
       "      <td></td>\n",
       "      <td>3 (0.4% with PokéBall, full HP)</td>\n",
       "      <td>...</td>\n",
       "      <td>Genderless</td>\n",
       "      <td>70</td>\n",
       "      <td>90</td>\n",
       "      <td>90</td>\n",
       "      <td>135</td>\n",
       "      <td>90</td>\n",
       "      <td>125</td>\n",
       "      <td>600</td>\n",
       "      <td>False</td>\n",
       "      <td>True</td>\n",
       "    </tr>\n",
       "    <tr>\n",
       "      <th>492</th>\n",
       "      <td>Shaymin</td>\n",
       "      <td>Grass</td>\n",
       "      <td></td>\n",
       "      <td>Gratitude Pokémon</td>\n",
       "      <td>0.2m (0′08″)</td>\n",
       "      <td>2.1kg (4.6lbs)</td>\n",
       "      <td>Natural Cure</td>\n",
       "      <td></td>\n",
       "      <td></td>\n",
       "      <td>45 (5.9% with PokéBall, full HP)</td>\n",
       "      <td>...</td>\n",
       "      <td>Genderless</td>\n",
       "      <td>100</td>\n",
       "      <td>100</td>\n",
       "      <td>100</td>\n",
       "      <td>100</td>\n",
       "      <td>100</td>\n",
       "      <td>100</td>\n",
       "      <td>600</td>\n",
       "      <td>False</td>\n",
       "      <td>True</td>\n",
       "    </tr>\n",
       "    <tr>\n",
       "      <th>493</th>\n",
       "      <td>Arceus</td>\n",
       "      <td>Normal</td>\n",
       "      <td></td>\n",
       "      <td>Alpha Pokémon</td>\n",
       "      <td>3.2m (10′06″)</td>\n",
       "      <td>320.0kg (705.5lbs)</td>\n",
       "      <td>Multitype</td>\n",
       "      <td></td>\n",
       "      <td></td>\n",
       "      <td>3 (0.4% with PokéBall, full HP)</td>\n",
       "      <td>...</td>\n",
       "      <td>Genderless</td>\n",
       "      <td>120</td>\n",
       "      <td>120</td>\n",
       "      <td>120</td>\n",
       "      <td>120</td>\n",
       "      <td>120</td>\n",
       "      <td>120</td>\n",
       "      <td>720</td>\n",
       "      <td>False</td>\n",
       "      <td>True</td>\n",
       "    </tr>\n",
       "    <tr>\n",
       "      <th>494</th>\n",
       "      <td>Victini</td>\n",
       "      <td>Psychic</td>\n",
       "      <td>Fire</td>\n",
       "      <td>Victory Pokémon</td>\n",
       "      <td>0.4m (1′04″)</td>\n",
       "      <td>4.0kg (8.8lbs)</td>\n",
       "      <td>Victory Star</td>\n",
       "      <td></td>\n",
       "      <td></td>\n",
       "      <td>3 (0.4% with PokéBall, full HP)</td>\n",
       "      <td>...</td>\n",
       "      <td>Genderless</td>\n",
       "      <td>100</td>\n",
       "      <td>100</td>\n",
       "      <td>100</td>\n",
       "      <td>100</td>\n",
       "      <td>100</td>\n",
       "      <td>100</td>\n",
       "      <td>600</td>\n",
       "      <td>False</td>\n",
       "      <td>True</td>\n",
       "    </tr>\n",
       "    <tr>\n",
       "      <th>647</th>\n",
       "      <td>Keldeo</td>\n",
       "      <td>Water</td>\n",
       "      <td>Fighting</td>\n",
       "      <td>Colt Pokémon</td>\n",
       "      <td>1.4m (4′07″)</td>\n",
       "      <td>48.5kg (106.9lbs)</td>\n",
       "      <td>Justified</td>\n",
       "      <td></td>\n",
       "      <td></td>\n",
       "      <td>3 (0.4% with PokéBall, full HP)</td>\n",
       "      <td>...</td>\n",
       "      <td>Genderless</td>\n",
       "      <td>91</td>\n",
       "      <td>72</td>\n",
       "      <td>90</td>\n",
       "      <td>129</td>\n",
       "      <td>90</td>\n",
       "      <td>108</td>\n",
       "      <td>580</td>\n",
       "      <td>False</td>\n",
       "      <td>True</td>\n",
       "    </tr>\n",
       "    <tr>\n",
       "      <th>648</th>\n",
       "      <td>Meloetta</td>\n",
       "      <td>Normal</td>\n",
       "      <td>Psychic</td>\n",
       "      <td>Melody Pokémon</td>\n",
       "      <td>0.6m (2′00″)</td>\n",
       "      <td>6.5kg (14.3lbs)</td>\n",
       "      <td>Serene Grace</td>\n",
       "      <td></td>\n",
       "      <td></td>\n",
       "      <td>3 (0.4% with PokéBall, full HP)</td>\n",
       "      <td>...</td>\n",
       "      <td>Genderless</td>\n",
       "      <td>100</td>\n",
       "      <td>77</td>\n",
       "      <td>77</td>\n",
       "      <td>128</td>\n",
       "      <td>128</td>\n",
       "      <td>90</td>\n",
       "      <td>600</td>\n",
       "      <td>False</td>\n",
       "      <td>True</td>\n",
       "    </tr>\n",
       "    <tr>\n",
       "      <th>649</th>\n",
       "      <td>Genesect</td>\n",
       "      <td>Bug</td>\n",
       "      <td>Steel</td>\n",
       "      <td>Paleozoic Pokémon</td>\n",
       "      <td>1.5m (4′11″)</td>\n",
       "      <td>82.5kg (181.9lbs)</td>\n",
       "      <td>Download</td>\n",
       "      <td></td>\n",
       "      <td></td>\n",
       "      <td>3 (0.4% with PokéBall, full HP)</td>\n",
       "      <td>...</td>\n",
       "      <td>Genderless</td>\n",
       "      <td>71</td>\n",
       "      <td>120</td>\n",
       "      <td>95</td>\n",
       "      <td>120</td>\n",
       "      <td>95</td>\n",
       "      <td>99</td>\n",
       "      <td>600</td>\n",
       "      <td>False</td>\n",
       "      <td>True</td>\n",
       "    </tr>\n",
       "    <tr>\n",
       "      <th>719</th>\n",
       "      <td>Diancie</td>\n",
       "      <td>Rock</td>\n",
       "      <td>Fairy</td>\n",
       "      <td>Jewel Pokémon</td>\n",
       "      <td>0.7m (2′04″)</td>\n",
       "      <td>8.8kg (19.4lbs)</td>\n",
       "      <td>Clear Body</td>\n",
       "      <td></td>\n",
       "      <td></td>\n",
       "      <td>3 (0.4% with PokéBall, full HP)</td>\n",
       "      <td>...</td>\n",
       "      <td>Genderless</td>\n",
       "      <td>50</td>\n",
       "      <td>100</td>\n",
       "      <td>150</td>\n",
       "      <td>100</td>\n",
       "      <td>150</td>\n",
       "      <td>50</td>\n",
       "      <td>600</td>\n",
       "      <td>False</td>\n",
       "      <td>True</td>\n",
       "    </tr>\n",
       "    <tr>\n",
       "      <th>720</th>\n",
       "      <td>Hoopa</td>\n",
       "      <td>Psychic</td>\n",
       "      <td>Ghost</td>\n",
       "      <td>Mischief Pokémon</td>\n",
       "      <td>0.5m (1′08″)</td>\n",
       "      <td>9.0kg (19.8lbs)</td>\n",
       "      <td>Magician</td>\n",
       "      <td></td>\n",
       "      <td></td>\n",
       "      <td>3 (0.4% with PokéBall, full HP)</td>\n",
       "      <td>...</td>\n",
       "      <td>Genderless</td>\n",
       "      <td>80</td>\n",
       "      <td>110</td>\n",
       "      <td>60</td>\n",
       "      <td>150</td>\n",
       "      <td>130</td>\n",
       "      <td>70</td>\n",
       "      <td>600</td>\n",
       "      <td>False</td>\n",
       "      <td>True</td>\n",
       "    </tr>\n",
       "    <tr>\n",
       "      <th>721</th>\n",
       "      <td>Volcanion</td>\n",
       "      <td>Fire</td>\n",
       "      <td>Water</td>\n",
       "      <td>Steam Pokémon</td>\n",
       "      <td>1.7m (5′07″)</td>\n",
       "      <td>195.0kg (429.9lbs)</td>\n",
       "      <td>Water Absorb</td>\n",
       "      <td></td>\n",
       "      <td></td>\n",
       "      <td>3 (0.4% with PokéBall, full HP)</td>\n",
       "      <td>...</td>\n",
       "      <td>Genderless</td>\n",
       "      <td>80</td>\n",
       "      <td>110</td>\n",
       "      <td>120</td>\n",
       "      <td>130</td>\n",
       "      <td>90</td>\n",
       "      <td>70</td>\n",
       "      <td>600</td>\n",
       "      <td>False</td>\n",
       "      <td>True</td>\n",
       "    </tr>\n",
       "    <tr>\n",
       "      <th>801</th>\n",
       "      <td>Magearna</td>\n",
       "      <td>Steel</td>\n",
       "      <td>Fairy</td>\n",
       "      <td>Artificial Pokémon</td>\n",
       "      <td>1.0m (3′03″)</td>\n",
       "      <td>80.5kg (177.5lbs)</td>\n",
       "      <td>Soul-Heart</td>\n",
       "      <td></td>\n",
       "      <td></td>\n",
       "      <td>3 (0.4% with PokéBall, full HP)</td>\n",
       "      <td>...</td>\n",
       "      <td>Genderless</td>\n",
       "      <td>80</td>\n",
       "      <td>95</td>\n",
       "      <td>115</td>\n",
       "      <td>130</td>\n",
       "      <td>115</td>\n",
       "      <td>65</td>\n",
       "      <td>600</td>\n",
       "      <td>False</td>\n",
       "      <td>True</td>\n",
       "    </tr>\n",
       "    <tr>\n",
       "      <th>802</th>\n",
       "      <td>Marshadow</td>\n",
       "      <td>Fighting</td>\n",
       "      <td>Ghost</td>\n",
       "      <td>Gloomdweller Pokémon</td>\n",
       "      <td>0.7m (2′04″)</td>\n",
       "      <td>22.2kg (48.9lbs)</td>\n",
       "      <td>Technician</td>\n",
       "      <td></td>\n",
       "      <td></td>\n",
       "      <td>3 (0.4% with PokéBall, full HP)</td>\n",
       "      <td>...</td>\n",
       "      <td>Genderless</td>\n",
       "      <td>90</td>\n",
       "      <td>125</td>\n",
       "      <td>80</td>\n",
       "      <td>90</td>\n",
       "      <td>90</td>\n",
       "      <td>125</td>\n",
       "      <td>600</td>\n",
       "      <td>False</td>\n",
       "      <td>True</td>\n",
       "    </tr>\n",
       "    <tr>\n",
       "      <th>807</th>\n",
       "      <td>Zeraora</td>\n",
       "      <td>Electric</td>\n",
       "      <td></td>\n",
       "      <td>Thunderclap Pokémon</td>\n",
       "      <td>1.5m (4′11″)</td>\n",
       "      <td>44.5kg (98.1lbs)</td>\n",
       "      <td>Volt Absorb</td>\n",
       "      <td></td>\n",
       "      <td></td>\n",
       "      <td>3 (0.4% with PokéBall, full HP)</td>\n",
       "      <td>...</td>\n",
       "      <td>Genderless</td>\n",
       "      <td>88</td>\n",
       "      <td>112</td>\n",
       "      <td>75</td>\n",
       "      <td>102</td>\n",
       "      <td>80</td>\n",
       "      <td>143</td>\n",
       "      <td>600</td>\n",
       "      <td>False</td>\n",
       "      <td>True</td>\n",
       "    </tr>\n",
       "    <tr>\n",
       "      <th>808</th>\n",
       "      <td>Meltan</td>\n",
       "      <td>Steel</td>\n",
       "      <td></td>\n",
       "      <td>Hex Nut Pokémon</td>\n",
       "      <td>0.2m (0′08″)</td>\n",
       "      <td>8.0kg (17.6lbs)</td>\n",
       "      <td>Magnet Pull</td>\n",
       "      <td></td>\n",
       "      <td></td>\n",
       "      <td>3 (0.4% with PokéBall, full HP)</td>\n",
       "      <td>...</td>\n",
       "      <td>Genderless</td>\n",
       "      <td>46</td>\n",
       "      <td>65</td>\n",
       "      <td>65</td>\n",
       "      <td>55</td>\n",
       "      <td>35</td>\n",
       "      <td>34</td>\n",
       "      <td>300</td>\n",
       "      <td>False</td>\n",
       "      <td>True</td>\n",
       "    </tr>\n",
       "    <tr>\n",
       "      <th>809</th>\n",
       "      <td>Melmetal</td>\n",
       "      <td>Steel</td>\n",
       "      <td></td>\n",
       "      <td>Hex Nut Pokémon</td>\n",
       "      <td>2.5m (8′02″)</td>\n",
       "      <td>800.0kg (1763.7lbs)</td>\n",
       "      <td>Iron Fist</td>\n",
       "      <td></td>\n",
       "      <td></td>\n",
       "      <td>3 (0.4% with PokéBall, full HP)</td>\n",
       "      <td>...</td>\n",
       "      <td>Genderless</td>\n",
       "      <td>135</td>\n",
       "      <td>143</td>\n",
       "      <td>143</td>\n",
       "      <td>80</td>\n",
       "      <td>65</td>\n",
       "      <td>34</td>\n",
       "      <td>600</td>\n",
       "      <td>False</td>\n",
       "      <td>True</td>\n",
       "    </tr>\n",
       "    <tr>\n",
       "      <th>893</th>\n",
       "      <td>Zarude</td>\n",
       "      <td>Dark</td>\n",
       "      <td>Grass</td>\n",
       "      <td>Rogue Monkey Pokémon</td>\n",
       "      <td>1.8m (5′11″)</td>\n",
       "      <td>70.0kg (154.3lbs)</td>\n",
       "      <td>Leaf Guard</td>\n",
       "      <td></td>\n",
       "      <td></td>\n",
       "      <td>3 (0.4% with PokéBall, full HP)</td>\n",
       "      <td>...</td>\n",
       "      <td>Genderless</td>\n",
       "      <td>105</td>\n",
       "      <td>120</td>\n",
       "      <td>105</td>\n",
       "      <td>70</td>\n",
       "      <td>95</td>\n",
       "      <td>105</td>\n",
       "      <td>600</td>\n",
       "      <td>False</td>\n",
       "      <td>True</td>\n",
       "    </tr>\n",
       "  </tbody>\n",
       "</table>\n",
       "<p>22 rows × 23 columns</p>\n",
       "</div>"
      ],
      "text/plain": [
       "          Name    Type 1    Type 2               Species         Height  \\\n",
       "151        Mew   Psychic             New Species Pokémon   0.4m (1′04″)   \n",
       "251     Celebi   Psychic     Grass   Time Travel Pokémon   0.6m (2′00″)   \n",
       "385    Jirachi     Steel   Psychic          Wish Pokémon   0.3m (1′00″)   \n",
       "386     Deoxys   Psychic                     DNA Pokémon   1.7m (5′07″)   \n",
       "489     Phione     Water             Sea Drifter Pokémon   0.4m (1′04″)   \n",
       "490    Manaphy     Water               Seafaring Pokémon   0.3m (1′00″)   \n",
       "491    Darkrai      Dark             Pitch-Black Pokémon   1.5m (4′11″)   \n",
       "492    Shaymin     Grass               Gratitude Pokémon   0.2m (0′08″)   \n",
       "493     Arceus    Normal                   Alpha Pokémon  3.2m (10′06″)   \n",
       "494    Victini   Psychic      Fire       Victory Pokémon   0.4m (1′04″)   \n",
       "647     Keldeo     Water  Fighting          Colt Pokémon   1.4m (4′07″)   \n",
       "648   Meloetta    Normal   Psychic        Melody Pokémon   0.6m (2′00″)   \n",
       "649   Genesect       Bug     Steel     Paleozoic Pokémon   1.5m (4′11″)   \n",
       "719    Diancie      Rock     Fairy         Jewel Pokémon   0.7m (2′04″)   \n",
       "720      Hoopa   Psychic     Ghost      Mischief Pokémon   0.5m (1′08″)   \n",
       "721  Volcanion      Fire     Water         Steam Pokémon   1.7m (5′07″)   \n",
       "801   Magearna     Steel     Fairy    Artificial Pokémon   1.0m (3′03″)   \n",
       "802  Marshadow  Fighting     Ghost  Gloomdweller Pokémon   0.7m (2′04″)   \n",
       "807    Zeraora  Electric             Thunderclap Pokémon   1.5m (4′11″)   \n",
       "808     Meltan     Steel                 Hex Nut Pokémon   0.2m (0′08″)   \n",
       "809   Melmetal     Steel                 Hex Nut Pokémon   2.5m (8′02″)   \n",
       "893     Zarude      Dark     Grass  Rogue Monkey Pokémon   1.8m (5′11″)   \n",
       "\n",
       "                  Weight       Ability Extra Ability Hidden Ability  \\\n",
       "151       4.0kg (8.8lbs)   Synchronize                                \n",
       "251      5.0kg (11.0lbs)  Natural Cure                                \n",
       "385       1.1kg (2.4lbs)  Serene Grace                                \n",
       "386    60.8kg (134.0lbs)      Pressure                                \n",
       "489       3.1kg (6.8lbs)     Hydration                                \n",
       "490       1.4kg (3.1lbs)     Hydration                                \n",
       "491    50.5kg (111.3lbs)    Bad Dreams                                \n",
       "492       2.1kg (4.6lbs)  Natural Cure                                \n",
       "493   320.0kg (705.5lbs)     Multitype                                \n",
       "494       4.0kg (8.8lbs)  Victory Star                                \n",
       "647    48.5kg (106.9lbs)     Justified                                \n",
       "648      6.5kg (14.3lbs)  Serene Grace                                \n",
       "649    82.5kg (181.9lbs)      Download                                \n",
       "719      8.8kg (19.4lbs)    Clear Body                                \n",
       "720      9.0kg (19.8lbs)      Magician                                \n",
       "721   195.0kg (429.9lbs)  Water Absorb                                \n",
       "801    80.5kg (177.5lbs)    Soul-Heart                                \n",
       "802     22.2kg (48.9lbs)    Technician                                \n",
       "807     44.5kg (98.1lbs)   Volt Absorb                                \n",
       "808      8.0kg (17.6lbs)   Magnet Pull                                \n",
       "809  800.0kg (1763.7lbs)     Iron Fist                                \n",
       "893    70.0kg (154.3lbs)    Leaf Guard                                \n",
       "\n",
       "                           Catch Rate  ...      Gender   HP Attack Defense  \\\n",
       "151  45 (5.9% with PokéBall, full HP)  ...  Genderless  100    100     100   \n",
       "251  45 (5.9% with PokéBall, full HP)  ...  Genderless  100    100     100   \n",
       "385   3 (0.4% with PokéBall, full HP)  ...  Genderless  100    100     100   \n",
       "386   3 (0.4% with PokéBall, full HP)  ...  Genderless   50    150      50   \n",
       "489  30 (3.9% with PokéBall, full HP)  ...  Genderless   80     80      80   \n",
       "490   3 (0.4% with PokéBall, full HP)  ...  Genderless  100    100     100   \n",
       "491   3 (0.4% with PokéBall, full HP)  ...  Genderless   70     90      90   \n",
       "492  45 (5.9% with PokéBall, full HP)  ...  Genderless  100    100     100   \n",
       "493   3 (0.4% with PokéBall, full HP)  ...  Genderless  120    120     120   \n",
       "494   3 (0.4% with PokéBall, full HP)  ...  Genderless  100    100     100   \n",
       "647   3 (0.4% with PokéBall, full HP)  ...  Genderless   91     72      90   \n",
       "648   3 (0.4% with PokéBall, full HP)  ...  Genderless  100     77      77   \n",
       "649   3 (0.4% with PokéBall, full HP)  ...  Genderless   71    120      95   \n",
       "719   3 (0.4% with PokéBall, full HP)  ...  Genderless   50    100     150   \n",
       "720   3 (0.4% with PokéBall, full HP)  ...  Genderless   80    110      60   \n",
       "721   3 (0.4% with PokéBall, full HP)  ...  Genderless   80    110     120   \n",
       "801   3 (0.4% with PokéBall, full HP)  ...  Genderless   80     95     115   \n",
       "802   3 (0.4% with PokéBall, full HP)  ...  Genderless   90    125      80   \n",
       "807   3 (0.4% with PokéBall, full HP)  ...  Genderless   88    112      75   \n",
       "808   3 (0.4% with PokéBall, full HP)  ...  Genderless   46     65      65   \n",
       "809   3 (0.4% with PokéBall, full HP)  ...  Genderless  135    143     143   \n",
       "893   3 (0.4% with PokéBall, full HP)  ...  Genderless  105    120     105   \n",
       "\n",
       "     Sp. Atk  Sp. Def  Speed  Total  Legendary  Mythical  \n",
       "151      100      100    100    600      False      True  \n",
       "251      100      100    100    600      False      True  \n",
       "385      100      100    100    600      False      True  \n",
       "386      150       50    150    600      False      True  \n",
       "489       80       80     80    480      False      True  \n",
       "490      100      100    100    600      False      True  \n",
       "491      135       90    125    600      False      True  \n",
       "492      100      100    100    600      False      True  \n",
       "493      120      120    120    720      False      True  \n",
       "494      100      100    100    600      False      True  \n",
       "647      129       90    108    580      False      True  \n",
       "648      128      128     90    600      False      True  \n",
       "649      120       95     99    600      False      True  \n",
       "719      100      150     50    600      False      True  \n",
       "720      150      130     70    600      False      True  \n",
       "721      130       90     70    600      False      True  \n",
       "801      130      115     65    600      False      True  \n",
       "802       90       90    125    600      False      True  \n",
       "807      102       80    143    600      False      True  \n",
       "808       55       35     34    300      False      True  \n",
       "809       80       65     34    600      False      True  \n",
       "893       70       95    105    600      False      True  \n",
       "\n",
       "[22 rows x 23 columns]"
      ]
     },
     "execution_count": 67,
     "metadata": {},
     "output_type": "execute_result"
    }
   ],
   "source": [
    "# Mỗi dòng là các Pokemon huyền bí từ gen 1-9. Hiện tại gen 9 vẫn chưa thấy có Pokemon huyền bí nào\n",
    "mythicals = ['Mew', \n",
    "'Celebi', \n",
    "'Jirachi', 'Deoxys', \n",
    "'Phione', 'Manaphy', 'Darkrai', 'Shaymin', 'Arceus', \n",
    "'Victini', 'Keldeo', 'Meloetta', 'Genesect', \n",
    "'Diancie', 'Hoopa', 'Volcanion', \n",
    "'Magearna', 'Marshadow', 'Zeraora', 'Meltan', 'Melmetal', \n",
    "'Zarude']\n",
    "\n",
    "pokedex['Mythical'] = pokedex['Name'].isin(mythicals)\n",
    "\n",
    "pokedex[pokedex['Mythical'] == True]"
   ]
  },
  {
   "cell_type": "markdown",
   "metadata": {},
   "source": [
    "- Các Pokemon **Á Thần (pseudo-legendary)** được giới thiệu trong tiếng Anh là `The 600 club (câu lạc bộ 600)` ám chỉ các Pokemon KHÔNG phải là Pokemon Huyền Thoại, cũng chẳng phải Huyền Bí và có tổng chỉ số trên 600, trừ con `Slaking`:"
   ]
  },
  {
   "cell_type": "code",
   "execution_count": 68,
   "metadata": {},
   "outputs": [
    {
     "name": "stderr",
     "output_type": "stream",
     "text": [
      "C:\\Users\\Dell\\AppData\\Local\\Temp/ipykernel_9896/2218166425.py:1: UserWarning:\n",
      "\n",
      "Boolean Series key will be reindexed to match DataFrame index.\n",
      "\n"
     ]
    },
    {
     "data": {
      "text/html": [
       "<div>\n",
       "<style scoped>\n",
       "    .dataframe tbody tr th:only-of-type {\n",
       "        vertical-align: middle;\n",
       "    }\n",
       "\n",
       "    .dataframe tbody tr th {\n",
       "        vertical-align: top;\n",
       "    }\n",
       "\n",
       "    .dataframe thead th {\n",
       "        text-align: right;\n",
       "    }\n",
       "</style>\n",
       "<table border=\"1\" class=\"dataframe\">\n",
       "  <thead>\n",
       "    <tr style=\"text-align: right;\">\n",
       "      <th></th>\n",
       "      <th>Name</th>\n",
       "      <th>Type 1</th>\n",
       "      <th>Type 2</th>\n",
       "      <th>Species</th>\n",
       "      <th>Height</th>\n",
       "      <th>Weight</th>\n",
       "      <th>Ability</th>\n",
       "      <th>Extra Ability</th>\n",
       "      <th>Hidden Ability</th>\n",
       "      <th>Catch Rate</th>\n",
       "      <th>...</th>\n",
       "      <th>Gender</th>\n",
       "      <th>HP</th>\n",
       "      <th>Attack</th>\n",
       "      <th>Defense</th>\n",
       "      <th>Sp. Atk</th>\n",
       "      <th>Sp. Def</th>\n",
       "      <th>Speed</th>\n",
       "      <th>Total</th>\n",
       "      <th>Legendary</th>\n",
       "      <th>Mythical</th>\n",
       "    </tr>\n",
       "  </thead>\n",
       "  <tbody>\n",
       "    <tr>\n",
       "      <th>149</th>\n",
       "      <td>Dragonite</td>\n",
       "      <td>Dragon</td>\n",
       "      <td>Flying</td>\n",
       "      <td>Dragon Pokémon</td>\n",
       "      <td>2.2m (7′03″)</td>\n",
       "      <td>210.0kg (463.0lbs)</td>\n",
       "      <td>Inner Focus</td>\n",
       "      <td></td>\n",
       "      <td>Multiscale</td>\n",
       "      <td>45 (5.9% with PokéBall, full HP)</td>\n",
       "      <td>...</td>\n",
       "      <td>50% male, 50% female</td>\n",
       "      <td>91</td>\n",
       "      <td>134</td>\n",
       "      <td>95</td>\n",
       "      <td>100</td>\n",
       "      <td>100</td>\n",
       "      <td>80</td>\n",
       "      <td>600</td>\n",
       "      <td>False</td>\n",
       "      <td>False</td>\n",
       "    </tr>\n",
       "    <tr>\n",
       "      <th>248</th>\n",
       "      <td>Tyranitar</td>\n",
       "      <td>Rock</td>\n",
       "      <td>Dark</td>\n",
       "      <td>Armor Pokémon</td>\n",
       "      <td>2.0m (6′07″)</td>\n",
       "      <td>202.0kg (445.3lbs)</td>\n",
       "      <td>Sand Stream</td>\n",
       "      <td></td>\n",
       "      <td>Unnerve</td>\n",
       "      <td>45 (5.9% with PokéBall, full HP)</td>\n",
       "      <td>...</td>\n",
       "      <td>50% male, 50% female</td>\n",
       "      <td>100</td>\n",
       "      <td>134</td>\n",
       "      <td>110</td>\n",
       "      <td>95</td>\n",
       "      <td>100</td>\n",
       "      <td>61</td>\n",
       "      <td>600</td>\n",
       "      <td>False</td>\n",
       "      <td>False</td>\n",
       "    </tr>\n",
       "    <tr>\n",
       "      <th>373</th>\n",
       "      <td>Salamence</td>\n",
       "      <td>Dragon</td>\n",
       "      <td>Flying</td>\n",
       "      <td>Dragon Pokémon</td>\n",
       "      <td>1.5m (4′11″)</td>\n",
       "      <td>102.6kg (226.2lbs)</td>\n",
       "      <td>Intimidate</td>\n",
       "      <td></td>\n",
       "      <td>Moxie</td>\n",
       "      <td>45 (5.9% with PokéBall, full HP)</td>\n",
       "      <td>...</td>\n",
       "      <td>50% male, 50% female</td>\n",
       "      <td>95</td>\n",
       "      <td>135</td>\n",
       "      <td>80</td>\n",
       "      <td>110</td>\n",
       "      <td>80</td>\n",
       "      <td>100</td>\n",
       "      <td>600</td>\n",
       "      <td>False</td>\n",
       "      <td>False</td>\n",
       "    </tr>\n",
       "    <tr>\n",
       "      <th>376</th>\n",
       "      <td>Metagross</td>\n",
       "      <td>Steel</td>\n",
       "      <td>Psychic</td>\n",
       "      <td>Iron Leg Pokémon</td>\n",
       "      <td>1.6m (5′03″)</td>\n",
       "      <td>550.0kg (1212.5lbs)</td>\n",
       "      <td>Clear Body</td>\n",
       "      <td></td>\n",
       "      <td>Light Metal</td>\n",
       "      <td>3 (0.4% with PokéBall, full HP)</td>\n",
       "      <td>...</td>\n",
       "      <td>Genderless</td>\n",
       "      <td>80</td>\n",
       "      <td>135</td>\n",
       "      <td>130</td>\n",
       "      <td>95</td>\n",
       "      <td>90</td>\n",
       "      <td>70</td>\n",
       "      <td>600</td>\n",
       "      <td>False</td>\n",
       "      <td>False</td>\n",
       "    </tr>\n",
       "    <tr>\n",
       "      <th>445</th>\n",
       "      <td>Garchomp</td>\n",
       "      <td>Dragon</td>\n",
       "      <td>Ground</td>\n",
       "      <td>Mach Pokémon</td>\n",
       "      <td>1.9m (6′03″)</td>\n",
       "      <td>95.0kg (209.4lbs)</td>\n",
       "      <td>Sand Veil</td>\n",
       "      <td></td>\n",
       "      <td>Rough Skin</td>\n",
       "      <td>45 (5.9% with PokéBall, full HP)</td>\n",
       "      <td>...</td>\n",
       "      <td>50% male, 50% female</td>\n",
       "      <td>108</td>\n",
       "      <td>130</td>\n",
       "      <td>95</td>\n",
       "      <td>80</td>\n",
       "      <td>85</td>\n",
       "      <td>102</td>\n",
       "      <td>600</td>\n",
       "      <td>False</td>\n",
       "      <td>False</td>\n",
       "    </tr>\n",
       "    <tr>\n",
       "      <th>635</th>\n",
       "      <td>Hydreigon</td>\n",
       "      <td>Dark</td>\n",
       "      <td>Dragon</td>\n",
       "      <td>Brutal Pokémon</td>\n",
       "      <td>1.8m (5′11″)</td>\n",
       "      <td>160.0kg (352.7lbs)</td>\n",
       "      <td>Levitate</td>\n",
       "      <td></td>\n",
       "      <td></td>\n",
       "      <td>45 (5.9% with PokéBall, full HP)</td>\n",
       "      <td>...</td>\n",
       "      <td>50% male, 50% female</td>\n",
       "      <td>92</td>\n",
       "      <td>105</td>\n",
       "      <td>90</td>\n",
       "      <td>125</td>\n",
       "      <td>90</td>\n",
       "      <td>98</td>\n",
       "      <td>600</td>\n",
       "      <td>False</td>\n",
       "      <td>False</td>\n",
       "    </tr>\n",
       "    <tr>\n",
       "      <th>706</th>\n",
       "      <td>Goodra</td>\n",
       "      <td>Dragon</td>\n",
       "      <td></td>\n",
       "      <td>Dragon Pokémon</td>\n",
       "      <td>2.0m (6′07″)</td>\n",
       "      <td>150.5kg (331.8lbs)</td>\n",
       "      <td>Sap Sipper</td>\n",
       "      <td>Hydration</td>\n",
       "      <td>Gooey</td>\n",
       "      <td>45 (5.9% with PokéBall, full HP)</td>\n",
       "      <td>...</td>\n",
       "      <td>50% male, 50% female</td>\n",
       "      <td>90</td>\n",
       "      <td>100</td>\n",
       "      <td>70</td>\n",
       "      <td>110</td>\n",
       "      <td>150</td>\n",
       "      <td>80</td>\n",
       "      <td>600</td>\n",
       "      <td>False</td>\n",
       "      <td>False</td>\n",
       "    </tr>\n",
       "    <tr>\n",
       "      <th>784</th>\n",
       "      <td>Kommo-o</td>\n",
       "      <td>Dragon</td>\n",
       "      <td>Fighting</td>\n",
       "      <td>Scaly Pokémon</td>\n",
       "      <td>1.6m (5′03″)</td>\n",
       "      <td>78.2kg (172.4lbs)</td>\n",
       "      <td>Bulletproof</td>\n",
       "      <td>Soundproof</td>\n",
       "      <td>Overcoat</td>\n",
       "      <td>45 (5.9% with PokéBall, full HP)</td>\n",
       "      <td>...</td>\n",
       "      <td>50% male, 50% female</td>\n",
       "      <td>75</td>\n",
       "      <td>110</td>\n",
       "      <td>125</td>\n",
       "      <td>100</td>\n",
       "      <td>105</td>\n",
       "      <td>85</td>\n",
       "      <td>600</td>\n",
       "      <td>False</td>\n",
       "      <td>False</td>\n",
       "    </tr>\n",
       "    <tr>\n",
       "      <th>887</th>\n",
       "      <td>Dragapult</td>\n",
       "      <td>Dragon</td>\n",
       "      <td>Ghost</td>\n",
       "      <td>Stealth Pokémon</td>\n",
       "      <td>3.0m (9′10″)</td>\n",
       "      <td>50.0kg (110.2lbs)</td>\n",
       "      <td>Clear Body</td>\n",
       "      <td>Infiltrator</td>\n",
       "      <td>Cursed Body</td>\n",
       "      <td>45 (5.9% with PokéBall, full HP)</td>\n",
       "      <td>...</td>\n",
       "      <td>50% male, 50% female</td>\n",
       "      <td>88</td>\n",
       "      <td>120</td>\n",
       "      <td>75</td>\n",
       "      <td>100</td>\n",
       "      <td>75</td>\n",
       "      <td>142</td>\n",
       "      <td>600</td>\n",
       "      <td>False</td>\n",
       "      <td>False</td>\n",
       "    </tr>\n",
       "    <tr>\n",
       "      <th>951</th>\n",
       "      <td>Baxcalibur</td>\n",
       "      <td>Dragon</td>\n",
       "      <td>Ice</td>\n",
       "      <td>Ice Dragon Pokémon</td>\n",
       "      <td>2.1m (6′11″)</td>\n",
       "      <td>210.0kg (463.0lbs)</td>\n",
       "      <td>Thermal Exchange</td>\n",
       "      <td></td>\n",
       "      <td>Ice Body</td>\n",
       "      <td>10 (1.3% with PokéBall, full HP)</td>\n",
       "      <td>...</td>\n",
       "      <td>50% male, 50% female</td>\n",
       "      <td>115</td>\n",
       "      <td>145</td>\n",
       "      <td>92</td>\n",
       "      <td>75</td>\n",
       "      <td>86</td>\n",
       "      <td>87</td>\n",
       "      <td>600</td>\n",
       "      <td>False</td>\n",
       "      <td>False</td>\n",
       "    </tr>\n",
       "  </tbody>\n",
       "</table>\n",
       "<p>10 rows × 23 columns</p>\n",
       "</div>"
      ],
      "text/plain": [
       "           Name  Type 1    Type 2             Species        Height  \\\n",
       "149   Dragonite  Dragon    Flying      Dragon Pokémon  2.2m (7′03″)   \n",
       "248   Tyranitar    Rock      Dark       Armor Pokémon  2.0m (6′07″)   \n",
       "373   Salamence  Dragon    Flying      Dragon Pokémon  1.5m (4′11″)   \n",
       "376   Metagross   Steel   Psychic    Iron Leg Pokémon  1.6m (5′03″)   \n",
       "445    Garchomp  Dragon    Ground        Mach Pokémon  1.9m (6′03″)   \n",
       "635   Hydreigon    Dark    Dragon      Brutal Pokémon  1.8m (5′11″)   \n",
       "706      Goodra  Dragon                Dragon Pokémon  2.0m (6′07″)   \n",
       "784     Kommo-o  Dragon  Fighting       Scaly Pokémon  1.6m (5′03″)   \n",
       "887   Dragapult  Dragon     Ghost     Stealth Pokémon  3.0m (9′10″)   \n",
       "951  Baxcalibur  Dragon       Ice  Ice Dragon Pokémon  2.1m (6′11″)   \n",
       "\n",
       "                  Weight           Ability Extra Ability Hidden Ability  \\\n",
       "149   210.0kg (463.0lbs)       Inner Focus                   Multiscale   \n",
       "248   202.0kg (445.3lbs)       Sand Stream                      Unnerve   \n",
       "373   102.6kg (226.2lbs)        Intimidate                        Moxie   \n",
       "376  550.0kg (1212.5lbs)        Clear Body                  Light Metal   \n",
       "445    95.0kg (209.4lbs)         Sand Veil                   Rough Skin   \n",
       "635   160.0kg (352.7lbs)          Levitate                                \n",
       "706   150.5kg (331.8lbs)        Sap Sipper     Hydration          Gooey   \n",
       "784    78.2kg (172.4lbs)       Bulletproof    Soundproof       Overcoat   \n",
       "887    50.0kg (110.2lbs)        Clear Body   Infiltrator    Cursed Body   \n",
       "951   210.0kg (463.0lbs)  Thermal Exchange                     Ice Body   \n",
       "\n",
       "                           Catch Rate  ...                Gender   HP Attack  \\\n",
       "149  45 (5.9% with PokéBall, full HP)  ...  50% male, 50% female   91    134   \n",
       "248  45 (5.9% with PokéBall, full HP)  ...  50% male, 50% female  100    134   \n",
       "373  45 (5.9% with PokéBall, full HP)  ...  50% male, 50% female   95    135   \n",
       "376   3 (0.4% with PokéBall, full HP)  ...            Genderless   80    135   \n",
       "445  45 (5.9% with PokéBall, full HP)  ...  50% male, 50% female  108    130   \n",
       "635  45 (5.9% with PokéBall, full HP)  ...  50% male, 50% female   92    105   \n",
       "706  45 (5.9% with PokéBall, full HP)  ...  50% male, 50% female   90    100   \n",
       "784  45 (5.9% with PokéBall, full HP)  ...  50% male, 50% female   75    110   \n",
       "887  45 (5.9% with PokéBall, full HP)  ...  50% male, 50% female   88    120   \n",
       "951  10 (1.3% with PokéBall, full HP)  ...  50% male, 50% female  115    145   \n",
       "\n",
       "    Defense  Sp. Atk  Sp. Def  Speed  Total  Legendary  Mythical  \n",
       "149      95      100      100     80    600      False     False  \n",
       "248     110       95      100     61    600      False     False  \n",
       "373      80      110       80    100    600      False     False  \n",
       "376     130       95       90     70    600      False     False  \n",
       "445      95       80       85    102    600      False     False  \n",
       "635      90      125       90     98    600      False     False  \n",
       "706      70      110      150     80    600      False     False  \n",
       "784     125      100      105     85    600      False     False  \n",
       "887      75      100       75    142    600      False     False  \n",
       "951      92       75       86     87    600      False     False  \n",
       "\n",
       "[10 rows x 23 columns]"
      ]
     },
     "execution_count": 68,
     "metadata": {},
     "output_type": "execute_result"
    }
   ],
   "source": [
    "pokedex[pokedex['Legendary'] == False][pokedex['Mythical'] == False][pokedex['Total'] >= 600][pokedex['Name'] != 'Slaking']"
   ]
  },
  {
   "cell_type": "code",
   "execution_count": 69,
   "metadata": {},
   "outputs": [
    {
     "name": "stdout",
     "output_type": "stream",
     "text": [
      "True\n",
      "True\n"
     ]
    }
   ],
   "source": [
    "# Kiểm tra số lượng Pokemon huyền thoại, huyền bí trong Pokedex hiện tại có khớp với chiều dài danh sách không\n",
    "print(pokedex[pokedex['Legendary'] == True].shape[0] == len(legendaries))\n",
    "print(pokedex[pokedex['Mythical'] == True].shape[0] == len(mythicals))"
   ]
  },
  {
   "cell_type": "markdown",
   "metadata": {},
   "source": [
    "### 6. So sánh chỉ số tổng quát của các Pokemon starter qua từng thời kỳ (gen 1 -> gen 8)?"
   ]
  },
  {
   "cell_type": "code",
   "execution_count": 70,
   "metadata": {},
   "outputs": [
    {
     "data": {
      "application/vnd.plotly.v1+json": {
       "config": {
        "plotlyServerURL": "https://plot.ly"
       },
       "data": [
        {
         "fill": "toself",
         "fillcolor": "green",
         "name": "Bulbasaur",
         "opacity": 0.5,
         "r": [
          45,
          49,
          49,
          65,
          65,
          45
         ],
         "subplot": "polar",
         "theta": [
          "HP",
          "Attack",
          "Defense",
          "Sp. Atk",
          "Sp. Def",
          "Speed"
         ],
         "type": "scatterpolar"
        },
        {
         "fill": "toself",
         "fillcolor": "red",
         "name": "Charmander",
         "opacity": 0.5,
         "r": [
          39,
          52,
          43,
          60,
          50,
          65
         ],
         "subplot": "polar2",
         "theta": [
          "HP",
          "Attack",
          "Defense",
          "Sp. Atk",
          "Sp. Def",
          "Speed"
         ],
         "type": "scatterpolar"
        },
        {
         "fill": "toself",
         "fillcolor": "blue",
         "name": "Squirtle",
         "opacity": 0.5,
         "r": [
          44,
          48,
          65,
          50,
          64,
          43
         ],
         "subplot": "polar3",
         "theta": [
          "HP",
          "Attack",
          "Defense",
          "Sp. Atk",
          "Sp. Def",
          "Speed"
         ],
         "type": "scatterpolar"
        },
        {
         "fill": "toself",
         "fillcolor": "green",
         "name": "Chikorita",
         "opacity": 0.5,
         "r": [
          45,
          49,
          65,
          49,
          65,
          45
         ],
         "subplot": "polar4",
         "theta": [
          "HP",
          "Attack",
          "Defense",
          "Sp. Atk",
          "Sp. Def",
          "Speed"
         ],
         "type": "scatterpolar"
        },
        {
         "fill": "toself",
         "fillcolor": "red",
         "name": "Cyndaquil",
         "opacity": 0.5,
         "r": [
          39,
          52,
          43,
          60,
          50,
          65
         ],
         "subplot": "polar5",
         "theta": [
          "HP",
          "Attack",
          "Defense",
          "Sp. Atk",
          "Sp. Def",
          "Speed"
         ],
         "type": "scatterpolar"
        },
        {
         "fill": "toself",
         "fillcolor": "blue",
         "name": "Totodile",
         "opacity": 0.5,
         "r": [
          50,
          65,
          64,
          44,
          48,
          43
         ],
         "subplot": "polar6",
         "theta": [
          "HP",
          "Attack",
          "Defense",
          "Sp. Atk",
          "Sp. Def",
          "Speed"
         ],
         "type": "scatterpolar"
        },
        {
         "fill": "toself",
         "fillcolor": "green",
         "name": "Treecko",
         "opacity": 0.5,
         "r": [
          40,
          45,
          35,
          65,
          55,
          70
         ],
         "subplot": "polar7",
         "theta": [
          "HP",
          "Attack",
          "Defense",
          "Sp. Atk",
          "Sp. Def",
          "Speed"
         ],
         "type": "scatterpolar"
        },
        {
         "fill": "toself",
         "fillcolor": "red",
         "name": "Torchic",
         "opacity": 0.5,
         "r": [
          45,
          60,
          40,
          70,
          50,
          45
         ],
         "subplot": "polar8",
         "theta": [
          "HP",
          "Attack",
          "Defense",
          "Sp. Atk",
          "Sp. Def",
          "Speed"
         ],
         "type": "scatterpolar"
        },
        {
         "fill": "toself",
         "fillcolor": "blue",
         "name": "Mudkip",
         "opacity": 0.5,
         "r": [
          50,
          70,
          50,
          50,
          50,
          40
         ],
         "subplot": "polar9",
         "theta": [
          "HP",
          "Attack",
          "Defense",
          "Sp. Atk",
          "Sp. Def",
          "Speed"
         ],
         "type": "scatterpolar"
        },
        {
         "fill": "toself",
         "fillcolor": "green",
         "name": "Turtwig",
         "opacity": 0.5,
         "r": [
          55,
          68,
          64,
          45,
          55,
          31
         ],
         "subplot": "polar10",
         "theta": [
          "HP",
          "Attack",
          "Defense",
          "Sp. Atk",
          "Sp. Def",
          "Speed"
         ],
         "type": "scatterpolar"
        },
        {
         "fill": "toself",
         "fillcolor": "red",
         "name": "Chimchar",
         "opacity": 0.5,
         "r": [
          44,
          58,
          44,
          58,
          44,
          61
         ],
         "subplot": "polar11",
         "theta": [
          "HP",
          "Attack",
          "Defense",
          "Sp. Atk",
          "Sp. Def",
          "Speed"
         ],
         "type": "scatterpolar"
        },
        {
         "fill": "toself",
         "fillcolor": "blue",
         "name": "Piplup",
         "opacity": 0.5,
         "r": [
          53,
          51,
          53,
          61,
          56,
          40
         ],
         "subplot": "polar12",
         "theta": [
          "HP",
          "Attack",
          "Defense",
          "Sp. Atk",
          "Sp. Def",
          "Speed"
         ],
         "type": "scatterpolar"
        },
        {
         "fill": "toself",
         "fillcolor": "green",
         "name": "Snivy",
         "opacity": 0.5,
         "r": [
          45,
          45,
          55,
          45,
          55,
          63
         ],
         "subplot": "polar13",
         "theta": [
          "HP",
          "Attack",
          "Defense",
          "Sp. Atk",
          "Sp. Def",
          "Speed"
         ],
         "type": "scatterpolar"
        },
        {
         "fill": "toself",
         "fillcolor": "red",
         "name": "Tepig",
         "opacity": 0.5,
         "r": [
          65,
          63,
          45,
          45,
          45,
          45
         ],
         "subplot": "polar14",
         "theta": [
          "HP",
          "Attack",
          "Defense",
          "Sp. Atk",
          "Sp. Def",
          "Speed"
         ],
         "type": "scatterpolar"
        },
        {
         "fill": "toself",
         "fillcolor": "blue",
         "name": "Oshawott",
         "opacity": 0.5,
         "r": [
          55,
          55,
          45,
          63,
          45,
          45
         ],
         "subplot": "polar15",
         "theta": [
          "HP",
          "Attack",
          "Defense",
          "Sp. Atk",
          "Sp. Def",
          "Speed"
         ],
         "type": "scatterpolar"
        },
        {
         "fill": "toself",
         "fillcolor": "green",
         "name": "Chespin",
         "opacity": 0.5,
         "r": [
          56,
          61,
          65,
          48,
          45,
          38
         ],
         "subplot": "polar16",
         "theta": [
          "HP",
          "Attack",
          "Defense",
          "Sp. Atk",
          "Sp. Def",
          "Speed"
         ],
         "type": "scatterpolar"
        },
        {
         "fill": "toself",
         "fillcolor": "red",
         "name": "Fennekin",
         "opacity": 0.5,
         "r": [
          40,
          45,
          40,
          62,
          60,
          60
         ],
         "subplot": "polar17",
         "theta": [
          "HP",
          "Attack",
          "Defense",
          "Sp. Atk",
          "Sp. Def",
          "Speed"
         ],
         "type": "scatterpolar"
        },
        {
         "fill": "toself",
         "fillcolor": "blue",
         "name": "Froakie",
         "opacity": 0.5,
         "r": [
          41,
          56,
          40,
          62,
          44,
          71
         ],
         "subplot": "polar18",
         "theta": [
          "HP",
          "Attack",
          "Defense",
          "Sp. Atk",
          "Sp. Def",
          "Speed"
         ],
         "type": "scatterpolar"
        },
        {
         "fill": "toself",
         "fillcolor": "green",
         "name": "Rowlet",
         "opacity": 0.5,
         "r": [
          68,
          55,
          55,
          50,
          50,
          42
         ],
         "subplot": "polar19",
         "theta": [
          "HP",
          "Attack",
          "Defense",
          "Sp. Atk",
          "Sp. Def",
          "Speed"
         ],
         "type": "scatterpolar"
        },
        {
         "fill": "toself",
         "fillcolor": "red",
         "name": "Litten",
         "opacity": 0.5,
         "r": [
          45,
          65,
          40,
          60,
          40,
          70
         ],
         "subplot": "polar20",
         "theta": [
          "HP",
          "Attack",
          "Defense",
          "Sp. Atk",
          "Sp. Def",
          "Speed"
         ],
         "type": "scatterpolar"
        },
        {
         "fill": "toself",
         "fillcolor": "blue",
         "name": "Popplio",
         "opacity": 0.5,
         "r": [
          50,
          54,
          54,
          66,
          56,
          40
         ],
         "subplot": "polar21",
         "theta": [
          "HP",
          "Attack",
          "Defense",
          "Sp. Atk",
          "Sp. Def",
          "Speed"
         ],
         "type": "scatterpolar"
        },
        {
         "fill": "toself",
         "fillcolor": "green",
         "name": "Grookey",
         "opacity": 0.5,
         "r": [
          50,
          65,
          50,
          40,
          40,
          65
         ],
         "subplot": "polar22",
         "theta": [
          "HP",
          "Attack",
          "Defense",
          "Sp. Atk",
          "Sp. Def",
          "Speed"
         ],
         "type": "scatterpolar"
        },
        {
         "fill": "toself",
         "fillcolor": "red",
         "name": "Scorbunny",
         "opacity": 0.5,
         "r": [
          50,
          71,
          40,
          40,
          40,
          69
         ],
         "subplot": "polar23",
         "theta": [
          "HP",
          "Attack",
          "Defense",
          "Sp. Atk",
          "Sp. Def",
          "Speed"
         ],
         "type": "scatterpolar"
        },
        {
         "fill": "toself",
         "fillcolor": "blue",
         "name": "Sobble",
         "opacity": 0.5,
         "r": [
          50,
          40,
          40,
          70,
          40,
          70
         ],
         "subplot": "polar24",
         "theta": [
          "HP",
          "Attack",
          "Defense",
          "Sp. Atk",
          "Sp. Def",
          "Speed"
         ],
         "type": "scatterpolar"
        },
        {
         "fill": "toself",
         "fillcolor": "green",
         "name": "Sprigatito",
         "opacity": 0.5,
         "r": [
          40,
          61,
          54,
          45,
          45,
          65
         ],
         "subplot": "polar25",
         "theta": [
          "HP",
          "Attack",
          "Defense",
          "Sp. Atk",
          "Sp. Def",
          "Speed"
         ],
         "type": "scatterpolar"
        },
        {
         "fill": "toself",
         "fillcolor": "red",
         "name": "Fuecoco",
         "opacity": 0.5,
         "r": [
          67,
          45,
          59,
          63,
          40,
          36
         ],
         "subplot": "polar26",
         "theta": [
          "HP",
          "Attack",
          "Defense",
          "Sp. Atk",
          "Sp. Def",
          "Speed"
         ],
         "type": "scatterpolar"
        },
        {
         "fill": "toself",
         "fillcolor": "blue",
         "name": "Quaxly",
         "opacity": 0.5,
         "r": [
          55,
          65,
          45,
          50,
          45,
          50
         ],
         "subplot": "polar27",
         "theta": [
          "HP",
          "Attack",
          "Defense",
          "Sp. Atk",
          "Sp. Def",
          "Speed"
         ],
         "type": "scatterpolar"
        }
       ],
       "layout": {
        "annotations": [
         {
          "font": {
           "size": 16
          },
          "showarrow": false,
          "text": "Bulbasaur",
          "x": 0.14444444444444446,
          "xanchor": "center",
          "xref": "paper",
          "y": 1,
          "yanchor": "bottom",
          "yref": "paper"
         },
         {
          "font": {
           "size": 16
          },
          "showarrow": false,
          "text": "Charmander",
          "x": 0.5,
          "xanchor": "center",
          "xref": "paper",
          "y": 1,
          "yanchor": "bottom",
          "yref": "paper"
         },
         {
          "font": {
           "size": 16
          },
          "showarrow": false,
          "text": "Squirtle",
          "x": 0.8555555555555556,
          "xanchor": "center",
          "xref": "paper",
          "y": 1,
          "yanchor": "bottom",
          "yref": "paper"
         },
         {
          "font": {
           "size": 16
          },
          "showarrow": false,
          "text": "Chikorita",
          "x": 0.14444444444444446,
          "xanchor": "center",
          "xref": "paper",
          "y": 0.8827160493827161,
          "yanchor": "bottom",
          "yref": "paper"
         },
         {
          "font": {
           "size": 16
          },
          "showarrow": false,
          "text": "Cyndaquil",
          "x": 0.5,
          "xanchor": "center",
          "xref": "paper",
          "y": 0.8827160493827161,
          "yanchor": "bottom",
          "yref": "paper"
         },
         {
          "font": {
           "size": 16
          },
          "showarrow": false,
          "text": "Totodile",
          "x": 0.8555555555555556,
          "xanchor": "center",
          "xref": "paper",
          "y": 0.8827160493827161,
          "yanchor": "bottom",
          "yref": "paper"
         },
         {
          "font": {
           "size": 16
          },
          "showarrow": false,
          "text": "Treecko",
          "x": 0.14444444444444446,
          "xanchor": "center",
          "xref": "paper",
          "y": 0.7654320987654322,
          "yanchor": "bottom",
          "yref": "paper"
         },
         {
          "font": {
           "size": 16
          },
          "showarrow": false,
          "text": "Torchic",
          "x": 0.5,
          "xanchor": "center",
          "xref": "paper",
          "y": 0.7654320987654322,
          "yanchor": "bottom",
          "yref": "paper"
         },
         {
          "font": {
           "size": 16
          },
          "showarrow": false,
          "text": "Mudkip",
          "x": 0.8555555555555556,
          "xanchor": "center",
          "xref": "paper",
          "y": 0.7654320987654322,
          "yanchor": "bottom",
          "yref": "paper"
         },
         {
          "font": {
           "size": 16
          },
          "showarrow": false,
          "text": "Turtwig",
          "x": 0.14444444444444446,
          "xanchor": "center",
          "xref": "paper",
          "y": 0.6481481481481483,
          "yanchor": "bottom",
          "yref": "paper"
         },
         {
          "font": {
           "size": 16
          },
          "showarrow": false,
          "text": "Chimchar",
          "x": 0.5,
          "xanchor": "center",
          "xref": "paper",
          "y": 0.6481481481481483,
          "yanchor": "bottom",
          "yref": "paper"
         },
         {
          "font": {
           "size": 16
          },
          "showarrow": false,
          "text": "Piplup",
          "x": 0.8555555555555556,
          "xanchor": "center",
          "xref": "paper",
          "y": 0.6481481481481483,
          "yanchor": "bottom",
          "yref": "paper"
         },
         {
          "font": {
           "size": 16
          },
          "showarrow": false,
          "text": "Snivy",
          "x": 0.14444444444444446,
          "xanchor": "center",
          "xref": "paper",
          "y": 0.5308641975308642,
          "yanchor": "bottom",
          "yref": "paper"
         },
         {
          "font": {
           "size": 16
          },
          "showarrow": false,
          "text": "Tepig",
          "x": 0.5,
          "xanchor": "center",
          "xref": "paper",
          "y": 0.5308641975308642,
          "yanchor": "bottom",
          "yref": "paper"
         },
         {
          "font": {
           "size": 16
          },
          "showarrow": false,
          "text": "Oshawott",
          "x": 0.8555555555555556,
          "xanchor": "center",
          "xref": "paper",
          "y": 0.5308641975308642,
          "yanchor": "bottom",
          "yref": "paper"
         },
         {
          "font": {
           "size": 16
          },
          "showarrow": false,
          "text": "Chespin",
          "x": 0.14444444444444446,
          "xanchor": "center",
          "xref": "paper",
          "y": 0.41358024691358025,
          "yanchor": "bottom",
          "yref": "paper"
         },
         {
          "font": {
           "size": 16
          },
          "showarrow": false,
          "text": "Fennekin",
          "x": 0.5,
          "xanchor": "center",
          "xref": "paper",
          "y": 0.41358024691358025,
          "yanchor": "bottom",
          "yref": "paper"
         },
         {
          "font": {
           "size": 16
          },
          "showarrow": false,
          "text": "Froakie",
          "x": 0.8555555555555556,
          "xanchor": "center",
          "xref": "paper",
          "y": 0.41358024691358025,
          "yanchor": "bottom",
          "yref": "paper"
         },
         {
          "font": {
           "size": 16
          },
          "showarrow": false,
          "text": "Rowlet",
          "x": 0.14444444444444446,
          "xanchor": "center",
          "xref": "paper",
          "y": 0.2962962962962963,
          "yanchor": "bottom",
          "yref": "paper"
         },
         {
          "font": {
           "size": 16
          },
          "showarrow": false,
          "text": "Litten",
          "x": 0.5,
          "xanchor": "center",
          "xref": "paper",
          "y": 0.2962962962962963,
          "yanchor": "bottom",
          "yref": "paper"
         },
         {
          "font": {
           "size": 16
          },
          "showarrow": false,
          "text": "Popplio",
          "x": 0.8555555555555556,
          "xanchor": "center",
          "xref": "paper",
          "y": 0.2962962962962963,
          "yanchor": "bottom",
          "yref": "paper"
         },
         {
          "font": {
           "size": 16
          },
          "showarrow": false,
          "text": "Grookey",
          "x": 0.14444444444444446,
          "xanchor": "center",
          "xref": "paper",
          "y": 0.17901234567901234,
          "yanchor": "bottom",
          "yref": "paper"
         },
         {
          "font": {
           "size": 16
          },
          "showarrow": false,
          "text": "Scorbunny",
          "x": 0.5,
          "xanchor": "center",
          "xref": "paper",
          "y": 0.17901234567901234,
          "yanchor": "bottom",
          "yref": "paper"
         },
         {
          "font": {
           "size": 16
          },
          "showarrow": false,
          "text": "Sobble",
          "x": 0.8555555555555556,
          "xanchor": "center",
          "xref": "paper",
          "y": 0.17901234567901234,
          "yanchor": "bottom",
          "yref": "paper"
         },
         {
          "font": {
           "size": 16
          },
          "showarrow": false,
          "text": "Sprigatito",
          "x": 0.14444444444444446,
          "xanchor": "center",
          "xref": "paper",
          "y": 0.0617283950617284,
          "yanchor": "bottom",
          "yref": "paper"
         },
         {
          "font": {
           "size": 16
          },
          "showarrow": false,
          "text": "Fuecoco",
          "x": 0.5,
          "xanchor": "center",
          "xref": "paper",
          "y": 0.0617283950617284,
          "yanchor": "bottom",
          "yref": "paper"
         },
         {
          "font": {
           "size": 16
          },
          "showarrow": false,
          "text": "Quaxly",
          "x": 0.8555555555555556,
          "xanchor": "center",
          "xref": "paper",
          "y": 0.0617283950617284,
          "yanchor": "bottom",
          "yref": "paper"
         }
        ],
        "height": 3000,
        "polar": {
         "domain": {
          "x": [
           0,
           0.2888888888888889
          ],
          "y": [
           0.9382716049382716,
           1
          ]
         }
        },
        "polar10": {
         "domain": {
          "x": [
           0,
           0.2888888888888889
          ],
          "y": [
           0.5864197530864198,
           0.6481481481481483
          ]
         }
        },
        "polar11": {
         "domain": {
          "x": [
           0.35555555555555557,
           0.6444444444444445
          ],
          "y": [
           0.5864197530864198,
           0.6481481481481483
          ]
         }
        },
        "polar12": {
         "domain": {
          "x": [
           0.7111111111111111,
           1
          ],
          "y": [
           0.5864197530864198,
           0.6481481481481483
          ]
         }
        },
        "polar13": {
         "domain": {
          "x": [
           0,
           0.2888888888888889
          ],
          "y": [
           0.4691358024691358,
           0.5308641975308642
          ]
         }
        },
        "polar14": {
         "domain": {
          "x": [
           0.35555555555555557,
           0.6444444444444445
          ],
          "y": [
           0.4691358024691358,
           0.5308641975308642
          ]
         }
        },
        "polar15": {
         "domain": {
          "x": [
           0.7111111111111111,
           1
          ],
          "y": [
           0.4691358024691358,
           0.5308641975308642
          ]
         }
        },
        "polar16": {
         "domain": {
          "x": [
           0,
           0.2888888888888889
          ],
          "y": [
           0.35185185185185186,
           0.41358024691358025
          ]
         }
        },
        "polar17": {
         "domain": {
          "x": [
           0.35555555555555557,
           0.6444444444444445
          ],
          "y": [
           0.35185185185185186,
           0.41358024691358025
          ]
         }
        },
        "polar18": {
         "domain": {
          "x": [
           0.7111111111111111,
           1
          ],
          "y": [
           0.35185185185185186,
           0.41358024691358025
          ]
         }
        },
        "polar19": {
         "domain": {
          "x": [
           0,
           0.2888888888888889
          ],
          "y": [
           0.2345679012345679,
           0.2962962962962963
          ]
         }
        },
        "polar2": {
         "domain": {
          "x": [
           0.35555555555555557,
           0.6444444444444445
          ],
          "y": [
           0.9382716049382716,
           1
          ]
         }
        },
        "polar20": {
         "domain": {
          "x": [
           0.35555555555555557,
           0.6444444444444445
          ],
          "y": [
           0.2345679012345679,
           0.2962962962962963
          ]
         }
        },
        "polar21": {
         "domain": {
          "x": [
           0.7111111111111111,
           1
          ],
          "y": [
           0.2345679012345679,
           0.2962962962962963
          ]
         }
        },
        "polar22": {
         "domain": {
          "x": [
           0,
           0.2888888888888889
          ],
          "y": [
           0.11728395061728394,
           0.17901234567901234
          ]
         }
        },
        "polar23": {
         "domain": {
          "x": [
           0.35555555555555557,
           0.6444444444444445
          ],
          "y": [
           0.11728395061728394,
           0.17901234567901234
          ]
         }
        },
        "polar24": {
         "domain": {
          "x": [
           0.7111111111111111,
           1
          ],
          "y": [
           0.11728395061728394,
           0.17901234567901234
          ]
         }
        },
        "polar25": {
         "domain": {
          "x": [
           0,
           0.2888888888888889
          ],
          "y": [
           0,
           0.0617283950617284
          ]
         }
        },
        "polar26": {
         "domain": {
          "x": [
           0.35555555555555557,
           0.6444444444444445
          ],
          "y": [
           0,
           0.0617283950617284
          ]
         }
        },
        "polar27": {
         "domain": {
          "x": [
           0.7111111111111111,
           1
          ],
          "y": [
           0,
           0.0617283950617284
          ]
         }
        },
        "polar3": {
         "domain": {
          "x": [
           0.7111111111111111,
           1
          ],
          "y": [
           0.9382716049382716,
           1
          ]
         }
        },
        "polar4": {
         "domain": {
          "x": [
           0,
           0.2888888888888889
          ],
          "y": [
           0.8209876543209876,
           0.8827160493827161
          ]
         }
        },
        "polar5": {
         "domain": {
          "x": [
           0.35555555555555557,
           0.6444444444444445
          ],
          "y": [
           0.8209876543209876,
           0.8827160493827161
          ]
         }
        },
        "polar6": {
         "domain": {
          "x": [
           0.7111111111111111,
           1
          ],
          "y": [
           0.8209876543209876,
           0.8827160493827161
          ]
         }
        },
        "polar7": {
         "domain": {
          "x": [
           0,
           0.2888888888888889
          ],
          "y": [
           0.7037037037037037,
           0.7654320987654322
          ]
         }
        },
        "polar8": {
         "domain": {
          "x": [
           0.35555555555555557,
           0.6444444444444445
          ],
          "y": [
           0.7037037037037037,
           0.7654320987654322
          ]
         }
        },
        "polar9": {
         "domain": {
          "x": [
           0.7111111111111111,
           1
          ],
          "y": [
           0.7037037037037037,
           0.7654320987654322
          ]
         }
        },
        "showlegend": false,
        "template": {
         "data": {
          "bar": [
           {
            "error_x": {
             "color": "#f2f5fa"
            },
            "error_y": {
             "color": "#f2f5fa"
            },
            "marker": {
             "line": {
              "color": "rgb(17,17,17)",
              "width": 0.5
             },
             "pattern": {
              "fillmode": "overlay",
              "size": 10,
              "solidity": 0.2
             }
            },
            "type": "bar"
           }
          ],
          "barpolar": [
           {
            "marker": {
             "line": {
              "color": "rgb(17,17,17)",
              "width": 0.5
             },
             "pattern": {
              "fillmode": "overlay",
              "size": 10,
              "solidity": 0.2
             }
            },
            "type": "barpolar"
           }
          ],
          "carpet": [
           {
            "aaxis": {
             "endlinecolor": "#A2B1C6",
             "gridcolor": "#506784",
             "linecolor": "#506784",
             "minorgridcolor": "#506784",
             "startlinecolor": "#A2B1C6"
            },
            "baxis": {
             "endlinecolor": "#A2B1C6",
             "gridcolor": "#506784",
             "linecolor": "#506784",
             "minorgridcolor": "#506784",
             "startlinecolor": "#A2B1C6"
            },
            "type": "carpet"
           }
          ],
          "choropleth": [
           {
            "colorbar": {
             "outlinewidth": 0,
             "ticks": ""
            },
            "type": "choropleth"
           }
          ],
          "contour": [
           {
            "colorbar": {
             "outlinewidth": 0,
             "ticks": ""
            },
            "colorscale": [
             [
              0,
              "#0d0887"
             ],
             [
              0.1111111111111111,
              "#46039f"
             ],
             [
              0.2222222222222222,
              "#7201a8"
             ],
             [
              0.3333333333333333,
              "#9c179e"
             ],
             [
              0.4444444444444444,
              "#bd3786"
             ],
             [
              0.5555555555555556,
              "#d8576b"
             ],
             [
              0.6666666666666666,
              "#ed7953"
             ],
             [
              0.7777777777777778,
              "#fb9f3a"
             ],
             [
              0.8888888888888888,
              "#fdca26"
             ],
             [
              1,
              "#f0f921"
             ]
            ],
            "type": "contour"
           }
          ],
          "contourcarpet": [
           {
            "colorbar": {
             "outlinewidth": 0,
             "ticks": ""
            },
            "type": "contourcarpet"
           }
          ],
          "heatmap": [
           {
            "colorbar": {
             "outlinewidth": 0,
             "ticks": ""
            },
            "colorscale": [
             [
              0,
              "#0d0887"
             ],
             [
              0.1111111111111111,
              "#46039f"
             ],
             [
              0.2222222222222222,
              "#7201a8"
             ],
             [
              0.3333333333333333,
              "#9c179e"
             ],
             [
              0.4444444444444444,
              "#bd3786"
             ],
             [
              0.5555555555555556,
              "#d8576b"
             ],
             [
              0.6666666666666666,
              "#ed7953"
             ],
             [
              0.7777777777777778,
              "#fb9f3a"
             ],
             [
              0.8888888888888888,
              "#fdca26"
             ],
             [
              1,
              "#f0f921"
             ]
            ],
            "type": "heatmap"
           }
          ],
          "heatmapgl": [
           {
            "colorbar": {
             "outlinewidth": 0,
             "ticks": ""
            },
            "colorscale": [
             [
              0,
              "#0d0887"
             ],
             [
              0.1111111111111111,
              "#46039f"
             ],
             [
              0.2222222222222222,
              "#7201a8"
             ],
             [
              0.3333333333333333,
              "#9c179e"
             ],
             [
              0.4444444444444444,
              "#bd3786"
             ],
             [
              0.5555555555555556,
              "#d8576b"
             ],
             [
              0.6666666666666666,
              "#ed7953"
             ],
             [
              0.7777777777777778,
              "#fb9f3a"
             ],
             [
              0.8888888888888888,
              "#fdca26"
             ],
             [
              1,
              "#f0f921"
             ]
            ],
            "type": "heatmapgl"
           }
          ],
          "histogram": [
           {
            "marker": {
             "pattern": {
              "fillmode": "overlay",
              "size": 10,
              "solidity": 0.2
             }
            },
            "type": "histogram"
           }
          ],
          "histogram2d": [
           {
            "colorbar": {
             "outlinewidth": 0,
             "ticks": ""
            },
            "colorscale": [
             [
              0,
              "#0d0887"
             ],
             [
              0.1111111111111111,
              "#46039f"
             ],
             [
              0.2222222222222222,
              "#7201a8"
             ],
             [
              0.3333333333333333,
              "#9c179e"
             ],
             [
              0.4444444444444444,
              "#bd3786"
             ],
             [
              0.5555555555555556,
              "#d8576b"
             ],
             [
              0.6666666666666666,
              "#ed7953"
             ],
             [
              0.7777777777777778,
              "#fb9f3a"
             ],
             [
              0.8888888888888888,
              "#fdca26"
             ],
             [
              1,
              "#f0f921"
             ]
            ],
            "type": "histogram2d"
           }
          ],
          "histogram2dcontour": [
           {
            "colorbar": {
             "outlinewidth": 0,
             "ticks": ""
            },
            "colorscale": [
             [
              0,
              "#0d0887"
             ],
             [
              0.1111111111111111,
              "#46039f"
             ],
             [
              0.2222222222222222,
              "#7201a8"
             ],
             [
              0.3333333333333333,
              "#9c179e"
             ],
             [
              0.4444444444444444,
              "#bd3786"
             ],
             [
              0.5555555555555556,
              "#d8576b"
             ],
             [
              0.6666666666666666,
              "#ed7953"
             ],
             [
              0.7777777777777778,
              "#fb9f3a"
             ],
             [
              0.8888888888888888,
              "#fdca26"
             ],
             [
              1,
              "#f0f921"
             ]
            ],
            "type": "histogram2dcontour"
           }
          ],
          "mesh3d": [
           {
            "colorbar": {
             "outlinewidth": 0,
             "ticks": ""
            },
            "type": "mesh3d"
           }
          ],
          "parcoords": [
           {
            "line": {
             "colorbar": {
              "outlinewidth": 0,
              "ticks": ""
             }
            },
            "type": "parcoords"
           }
          ],
          "pie": [
           {
            "automargin": true,
            "type": "pie"
           }
          ],
          "scatter": [
           {
            "marker": {
             "line": {
              "color": "#283442"
             }
            },
            "type": "scatter"
           }
          ],
          "scatter3d": [
           {
            "line": {
             "colorbar": {
              "outlinewidth": 0,
              "ticks": ""
             }
            },
            "marker": {
             "colorbar": {
              "outlinewidth": 0,
              "ticks": ""
             }
            },
            "type": "scatter3d"
           }
          ],
          "scattercarpet": [
           {
            "marker": {
             "colorbar": {
              "outlinewidth": 0,
              "ticks": ""
             }
            },
            "type": "scattercarpet"
           }
          ],
          "scattergeo": [
           {
            "marker": {
             "colorbar": {
              "outlinewidth": 0,
              "ticks": ""
             }
            },
            "type": "scattergeo"
           }
          ],
          "scattergl": [
           {
            "marker": {
             "line": {
              "color": "#283442"
             }
            },
            "type": "scattergl"
           }
          ],
          "scattermapbox": [
           {
            "marker": {
             "colorbar": {
              "outlinewidth": 0,
              "ticks": ""
             }
            },
            "type": "scattermapbox"
           }
          ],
          "scatterpolar": [
           {
            "marker": {
             "colorbar": {
              "outlinewidth": 0,
              "ticks": ""
             }
            },
            "type": "scatterpolar"
           }
          ],
          "scatterpolargl": [
           {
            "marker": {
             "colorbar": {
              "outlinewidth": 0,
              "ticks": ""
             }
            },
            "type": "scatterpolargl"
           }
          ],
          "scatterternary": [
           {
            "marker": {
             "colorbar": {
              "outlinewidth": 0,
              "ticks": ""
             }
            },
            "type": "scatterternary"
           }
          ],
          "surface": [
           {
            "colorbar": {
             "outlinewidth": 0,
             "ticks": ""
            },
            "colorscale": [
             [
              0,
              "#0d0887"
             ],
             [
              0.1111111111111111,
              "#46039f"
             ],
             [
              0.2222222222222222,
              "#7201a8"
             ],
             [
              0.3333333333333333,
              "#9c179e"
             ],
             [
              0.4444444444444444,
              "#bd3786"
             ],
             [
              0.5555555555555556,
              "#d8576b"
             ],
             [
              0.6666666666666666,
              "#ed7953"
             ],
             [
              0.7777777777777778,
              "#fb9f3a"
             ],
             [
              0.8888888888888888,
              "#fdca26"
             ],
             [
              1,
              "#f0f921"
             ]
            ],
            "type": "surface"
           }
          ],
          "table": [
           {
            "cells": {
             "fill": {
              "color": "#506784"
             },
             "line": {
              "color": "rgb(17,17,17)"
             }
            },
            "header": {
             "fill": {
              "color": "#2a3f5f"
             },
             "line": {
              "color": "rgb(17,17,17)"
             }
            },
            "type": "table"
           }
          ]
         },
         "layout": {
          "annotationdefaults": {
           "arrowcolor": "#f2f5fa",
           "arrowhead": 0,
           "arrowwidth": 1
          },
          "autotypenumbers": "strict",
          "coloraxis": {
           "colorbar": {
            "outlinewidth": 0,
            "ticks": ""
           }
          },
          "colorscale": {
           "diverging": [
            [
             0,
             "#8e0152"
            ],
            [
             0.1,
             "#c51b7d"
            ],
            [
             0.2,
             "#de77ae"
            ],
            [
             0.3,
             "#f1b6da"
            ],
            [
             0.4,
             "#fde0ef"
            ],
            [
             0.5,
             "#f7f7f7"
            ],
            [
             0.6,
             "#e6f5d0"
            ],
            [
             0.7,
             "#b8e186"
            ],
            [
             0.8,
             "#7fbc41"
            ],
            [
             0.9,
             "#4d9221"
            ],
            [
             1,
             "#276419"
            ]
           ],
           "sequential": [
            [
             0,
             "#0d0887"
            ],
            [
             0.1111111111111111,
             "#46039f"
            ],
            [
             0.2222222222222222,
             "#7201a8"
            ],
            [
             0.3333333333333333,
             "#9c179e"
            ],
            [
             0.4444444444444444,
             "#bd3786"
            ],
            [
             0.5555555555555556,
             "#d8576b"
            ],
            [
             0.6666666666666666,
             "#ed7953"
            ],
            [
             0.7777777777777778,
             "#fb9f3a"
            ],
            [
             0.8888888888888888,
             "#fdca26"
            ],
            [
             1,
             "#f0f921"
            ]
           ],
           "sequentialminus": [
            [
             0,
             "#0d0887"
            ],
            [
             0.1111111111111111,
             "#46039f"
            ],
            [
             0.2222222222222222,
             "#7201a8"
            ],
            [
             0.3333333333333333,
             "#9c179e"
            ],
            [
             0.4444444444444444,
             "#bd3786"
            ],
            [
             0.5555555555555556,
             "#d8576b"
            ],
            [
             0.6666666666666666,
             "#ed7953"
            ],
            [
             0.7777777777777778,
             "#fb9f3a"
            ],
            [
             0.8888888888888888,
             "#fdca26"
            ],
            [
             1,
             "#f0f921"
            ]
           ]
          },
          "colorway": [
           "#636efa",
           "#EF553B",
           "#00cc96",
           "#ab63fa",
           "#FFA15A",
           "#19d3f3",
           "#FF6692",
           "#B6E880",
           "#FF97FF",
           "#FECB52"
          ],
          "font": {
           "color": "#f2f5fa"
          },
          "geo": {
           "bgcolor": "rgb(17,17,17)",
           "lakecolor": "rgb(17,17,17)",
           "landcolor": "rgb(17,17,17)",
           "showlakes": true,
           "showland": true,
           "subunitcolor": "#506784"
          },
          "hoverlabel": {
           "align": "left"
          },
          "hovermode": "closest",
          "mapbox": {
           "style": "dark"
          },
          "paper_bgcolor": "rgb(17,17,17)",
          "plot_bgcolor": "rgb(17,17,17)",
          "polar": {
           "angularaxis": {
            "gridcolor": "#506784",
            "linecolor": "#506784",
            "ticks": ""
           },
           "bgcolor": "rgb(17,17,17)",
           "radialaxis": {
            "gridcolor": "#506784",
            "linecolor": "#506784",
            "ticks": ""
           }
          },
          "scene": {
           "xaxis": {
            "backgroundcolor": "rgb(17,17,17)",
            "gridcolor": "#506784",
            "gridwidth": 2,
            "linecolor": "#506784",
            "showbackground": true,
            "ticks": "",
            "zerolinecolor": "#C8D4E3"
           },
           "yaxis": {
            "backgroundcolor": "rgb(17,17,17)",
            "gridcolor": "#506784",
            "gridwidth": 2,
            "linecolor": "#506784",
            "showbackground": true,
            "ticks": "",
            "zerolinecolor": "#C8D4E3"
           },
           "zaxis": {
            "backgroundcolor": "rgb(17,17,17)",
            "gridcolor": "#506784",
            "gridwidth": 2,
            "linecolor": "#506784",
            "showbackground": true,
            "ticks": "",
            "zerolinecolor": "#C8D4E3"
           }
          },
          "shapedefaults": {
           "line": {
            "color": "#f2f5fa"
           }
          },
          "sliderdefaults": {
           "bgcolor": "#C8D4E3",
           "bordercolor": "rgb(17,17,17)",
           "borderwidth": 1,
           "tickwidth": 0
          },
          "ternary": {
           "aaxis": {
            "gridcolor": "#506784",
            "linecolor": "#506784",
            "ticks": ""
           },
           "baxis": {
            "gridcolor": "#506784",
            "linecolor": "#506784",
            "ticks": ""
           },
           "bgcolor": "rgb(17,17,17)",
           "caxis": {
            "gridcolor": "#506784",
            "linecolor": "#506784",
            "ticks": ""
           }
          },
          "title": {
           "x": 0.05
          },
          "updatemenudefaults": {
           "bgcolor": "#506784",
           "borderwidth": 0
          },
          "xaxis": {
           "automargin": true,
           "gridcolor": "#283442",
           "linecolor": "#506784",
           "ticks": "",
           "title": {
            "standoff": 15
           },
           "zerolinecolor": "#283442",
           "zerolinewidth": 2
          },
          "yaxis": {
           "automargin": true,
           "gridcolor": "#283442",
           "linecolor": "#506784",
           "ticks": "",
           "title": {
            "standoff": 15
           },
           "zerolinecolor": "#283442",
           "zerolinewidth": 2
          }
         }
        }
       }
      }
     },
     "metadata": {},
     "output_type": "display_data"
    }
   ],
   "source": [
    "# Các dòng là starter Pokemon qua các thế hệ\n",
    "starters =   ['Bulbasaur', 'Charmander', 'Squirtle', \n",
    "                'Chikorita', 'Cyndaquil', 'Totodile', \n",
    "                'Treecko', 'Torchic', 'Mudkip', \n",
    "                'Turtwig', 'Chimchar', 'Piplup',\n",
    "                'Snivy', 'Tepig', 'Oshawott', \n",
    "                'Chespin', 'Fennekin', 'Froakie', \n",
    "                'Rowlet', 'Litten', 'Popplio',\n",
    "                'Grookey', 'Scorbunny', 'Sobble',\n",
    "                'Sprigatito', 'Fuecoco', 'Quaxly']\n",
    "\n",
    "\n",
    "\n",
    "row = 9\n",
    "col = 3   \n",
    "idx = 0\n",
    "fig = make_subplots(rows = row, cols = col, specs = [[{\"type\": \"polar\"}]*col]*row,\n",
    "                   subplot_titles = tuple([pokemon for pokemon in starters]))\n",
    "\n",
    "color = ['green', 'red', 'blue']\n",
    "\n",
    "for i in range(row):\n",
    "    for j in range(col):\n",
    "        x = pokedex.query(\"Name == '{}'\".format(starters[idx])).iloc[:,14:20]\n",
    "        fig.add_trace(go.Scatterpolar(\n",
    "        r = x.values[0].tolist(),\n",
    "        theta = x.columns.tolist(),\n",
    "        fill = 'toself',\n",
    "        name = starters[idx], \n",
    "        fillcolor = color[j],\n",
    "        opacity = 0.5),  row = i + 1, col = j + 1)\n",
    "        idx += 1\n",
    "    \n",
    "fig.update_layout(height = 3000, showlegend = False, template = \"plotly_dark\")\n",
    "fig.show()"
   ]
  },
  {
   "cell_type": "markdown",
   "metadata": {},
   "source": [
    "### 7. Các song hệ nào xuất hiện nhiều nhất?"
   ]
  },
  {
   "cell_type": "code",
   "execution_count": null,
   "metadata": {},
   "outputs": [],
   "source": []
  }
 ],
 "metadata": {
  "kernelspec": {
   "display_name": "Python 3.10.0 64-bit",
   "language": "python",
   "name": "python3"
  },
  "language_info": {
   "codemirror_mode": {
    "name": "ipython",
    "version": 3
   },
   "file_extension": ".py",
   "mimetype": "text/x-python",
   "name": "python",
   "nbconvert_exporter": "python",
   "pygments_lexer": "ipython3",
   "version": "3.10.0"
  },
  "orig_nbformat": 4,
  "vscode": {
   "interpreter": {
    "hash": "76d7c06053c3456e5600312cec90888656fc0ed30c03d8425b9dac6e4fc8e014"
   }
  }
 },
 "nbformat": 4,
 "nbformat_minor": 2
}
