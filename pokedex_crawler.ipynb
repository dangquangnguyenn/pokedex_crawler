{
 "cells": [
  {
   "cell_type": "markdown",
   "metadata": {
    "id": "Du6rimrD4gbN"
   },
   "source": [
    "<h1><b>ĐỒ ÁN CUỐI KỲ NMKHDL</b></h1>\n",
    "<h2><b>POKEDEX</b></h2>\n",
    "\n",
    "Họ tên: Nguyễn Đăng Quang\n",
    "\n",
    "MSSV: 18120527\n",
    "\n"
   ]
  },
  {
   "cell_type": "markdown",
   "metadata": {},
   "source": [
    "# Giới thiệu sơ lược\n",
    "##### Có thể bạn chưa biết, Pocket Monsters viết tắt là Pokemon, một series game cũng như anime đình đám, series game Pokemon phát triển bởi GameFreak hiện vẫn đang làm mưa làm gió trên các hệ máy Nitendo và trên thị trường game toàn cầu. Nhân dịp gen9 (Scarlet & Violet) của game vừa ra mắt, chúng ta sẽ điểm lại các pokemon từ những thế hệ trước và thông số cũng như đặc tính của chúng thông qua Pokedex. Ở đây, chúng ta sẽ sử dụng \"https://pokemondb.net/pokedex/all\" là trang web chứa dữ liệu Pokedex, hay nói cách khác là danh sách của toàn bộ Pokemon ĐÃ xuất hiện xuyên suốt series game này. Let's go!"
   ]
  },
  {
   "cell_type": "markdown",
   "metadata": {},
   "source": [
    "# Install và import\n",
    "- bs4 (Beautiful Soup): Một thư viện Python dùng để phân tích các tài liệu HTML và XML. Nó tạo ra một cây phân tích cú pháp cho các trang được phân tích cú pháp có thể được sử dụng để trích xuất dữ liệu từ HTML, rất hữu ích cho web scrapping.\n",
    "- requests: Cho phép gửi các yêu cầu HTTP bằng Python."
   ]
  },
  {
   "cell_type": "code",
   "execution_count": null,
   "metadata": {
    "id": "7ZL9mrLkc3Dp"
   },
   "outputs": [],
   "source": [
    "%pip install bs4\n",
    "%pip install requests\n",
    "%pip install plotly"
   ]
  },
  {
   "cell_type": "code",
   "execution_count": null,
   "metadata": {},
   "outputs": [],
   "source": [
    "!cd"
   ]
  },
  {
   "cell_type": "code",
   "execution_count": null,
   "metadata": {
    "id": "Nah1kqOV74Wk"
   },
   "outputs": [],
   "source": [
    "import bs4\n",
    "import requests\n",
    "import pandas as pd\n",
    "import matplotlib.pyplot as plt\n",
    "import seaborn as sns\n",
    "import numpy as np\n",
    "\n",
    "# plotly packages\n",
    "import plotly.express as px\n",
    "import plotly.graph_objects as go\n",
    "from plotly.subplots import make_subplots"
   ]
  },
  {
   "cell_type": "markdown",
   "metadata": {},
   "source": [
    "# Thu thập và xử lý dữ liệu\n",
    "### 1. Lấy danh sách các id riêng biệt của từng Pokemon\n",
    "- **Lưu ý:** \n",
    "\n",
    "      - Có thể các Pokemon có rất nhiều dạng (vùng miền, mega evolution, mega X/mega Y, nguyên thủy (primal form), tấn công/phòng thủ,...), hình dạng Pokemon thay đổi nhưng id thì vẫn giữ nguyên, vì vậy sẽ xuất hiện trường hợp một id lặp lại nhiều lần, chúng ta chỉ xét hình dạng cơ bản của chúng nên chỉ cần lấy 1 id cho mỗi Pokemon thôi. "
   ]
  },
  {
   "cell_type": "code",
   "execution_count": null,
   "metadata": {},
   "outputs": [],
   "source": [
    "url = 'https://pokemondb.net/pokedex/all'\n",
    "\n",
    "source = requests.get(url).text\n",
    "soup = bs4.BeautifulSoup(source,'html.parser')\n",
    "\n",
    "# Thu thập id của toàn bộ pokemon\n",
    "pokemon_id = soup.findAll('span', {'class': 'infocard-cell-data'})\n",
    "\n",
    "id = []\n",
    "\n",
    "for i in range(len(pokemon_id)):\n",
    "    id.append(pokemon_id[i].text)\n",
    "    id[i] = int(id[i])\n",
    "\n",
    "id = list(set(id))      # Sắp xếp và xóa các id bị trùng"
   ]
  },
  {
   "cell_type": "markdown",
   "metadata": {},
   "source": [
    "### 2. Danh sách các url của từng Pokemon\n",
    "- Chúng ta có thể dùng id hoặc tên của Pokemon để làm subdirectory của url tương ứng với Pokemon đó. \n",
    "\n",
    "##### Ví dụ: Pokemon có tên là Bulbasaur, id là 001:\n",
    "\n",
    "https://pokemondb.net/pokedex/bulbasaur\n",
    "\n",
    "https://pokemondb.net/pokedex/001 hay https://pokemondb.net/pokedex/1"
   ]
  },
  {
   "cell_type": "code",
   "execution_count": null,
   "metadata": {},
   "outputs": [],
   "source": [
    "# Lấy danh sách urls cho web scrapping\n",
    "urls = []\n",
    "n = len(id)\n",
    "\n",
    "for i in range(n):\n",
    "    urls.append('https://pokemondb.net/pokedex/' + str(id[i]))"
   ]
  },
  {
   "cell_type": "markdown",
   "metadata": {},
   "source": [
    "### 3. Thu thập dữ liệu\n",
    "#### 3.1. Thông tin\n",
    "- Lưu ý: ID của Pokemon sẽ được thêm vào sau cùng sau đó đặt ID làm cột index, ở đây chúng ta chỉ xét các thuộc tính như: tên, hệ, loài,...\n",
    "- Sẽ có thêm các cơ sở dữ liệu riêng để mô tả tác dụng của các đặc tính cũng như đặc tính ẩn và tương khắc hệ của chúng\n",
    "- Các thông tin của một Pokemon sẽ bao gồm:\n",
    "\n",
    "            - name: Tên\n",
    "\n",
    "            - types_list: Hệ của Pokemon, mỗi con sẽ mang 1 hệ hoặc song hệ\n",
    "\n",
    "            - species: Loài\n",
    "\n",
    "            - height: Chiều cao\n",
    "\n",
    "            - weight: Cân nặng\n",
    "\n",
    "            - ability: Đặc tính\n",
    "\n",
    "            - hid_ability (hidden ability): Đặc tính ẩn\n",
    "\n",
    "            - catch_rate: Tỉ lệ bắt trúng bằng Poke Ball, bị ảnh hưởng bởi rất nhiều yếu tố:\n",
    "                    * HP hiện tại\n",
    "                    * Loại bóng (Poke Ball, Great Ball', Ultra Ball,...), Master Ball có tỷ lệ thu phục là 100% với tất cả Pokemon\n",
    "                    * Trạng thái hiện tại (Choáng, phỏng, nhiễm độc, ngủ, tê liệt,...)\n",
    "        \n",
    "            - base_fs (base friendship): Chỉ số thân thiện cơ bản, một số Pokemon có chỉ số thân thiện là 0, bọn này có vẻ không ưa con người cho lắm\n",
    "\n",
    "            - base_exp: Số lượng exp cần thiết để lên 1 level bất kỳ được tính theo hàm mũ. Mỗi loại có công thức khác nhau và khá phức tạp:\n",
    "                    * Ví dụ 1 công thức đơn giản nhất cho mọi người:\n",
    "                        Loại 1 000 000: exp = n^3 \n",
    "                        n là level cần lên.\n",
    "                        -> Để lên lv3 Pokemon loại này cần tổng cộng là 27exp trừ số exp hiện có sẽ ra số exp cần phải luyện thêm\n",
    "            \n",
    "            - growth_rate: Tốc độ tăng trưởng:\n",
    "                    * Erratic: 600.000 exp ở level 100\n",
    "                    * Fast: 800.000 điểm kinh nghiệm ở cấp 100\n",
    "                    * Medium Fast: 1.000.000 điểm kinh nghiệm ở cấp 100\n",
    "                    * Medium Slow: 1.059.860 điểm kinh nghiệm ở cấp 100\n",
    "                    * Slow: 1.250.000 điểm kinh nghiệm ở cấp 100\n",
    "                    * Fluctuating: 1.640.000 exp ở cấp 100:\n",
    "        \n",
    "            - genders: Giới tính theo tỷ lệ\n",
    "\n",
    "            - Base Stats: Chỉ số cơ bản, bao gồm: \n",
    "                    * hp (Health Point): Sinh mệnh\n",
    "                    * atk (Attack): Tấn công\n",
    "                    * defn (Defense): Phòng thủ, giáp (Vì def là khai báo hàm nên không dùng để khai báo biến cho Defense được :v)\n",
    "                    * sp_atk (Special Attack): Tấn công đặc biệt, sát thương phép\n",
    "                    * sp_def (Special Defense): Phòng thủ đặc biệt, kháng phép\n",
    "                    * spd (Speed): Tốc độ (tương tự như các game xoay tua, Pokemon tốc độ cao hơn sẽ được đánh trước)\n",
    "                    \n",
    "            - total: Tổng base stats\n"
   ]
  },
  {
   "cell_type": "markdown",
   "metadata": {},
   "source": [
    "- Hàm get_pokemon_info(soup) giúp lấy ra thông tin của một Pokemon có ID chỉ định. Sau đó sẽ dùng vòng lặp để lấy thông tin toàn bộ Pokemon trong Pokedex"
   ]
  },
  {
   "cell_type": "code",
   "execution_count": null,
   "metadata": {},
   "outputs": [],
   "source": [
    "# Thu thập dữ liệu nào\n",
    "def get_pokemon_info(soup):\n",
    "    # name\n",
    "    name = soup.find('h1').text\n",
    "\n",
    "    # types\n",
    "    types_list = soup.find_all('td')[1].text.replace('\\n', '')      # 'type1 type2 '\n",
    "    types_list = types_list[:-1].split(' ')                         # 'type1 type2'\n",
    "\n",
    "    # type1, type2\n",
    "    type1 = types_list[0]\n",
    "    \n",
    "    if (len(types_list) == 2):   # Pokemon mang song hệ\n",
    "        type2 = types_list[1]\n",
    "    else: \n",
    "        type2 = ''              # Pokemon mang 1 hệ\n",
    "\n",
    "    # species\n",
    "    species = soup.find_all('td')[2].text\n",
    "\n",
    "    # height\n",
    "    height = soup.find_all('td')[3].text.replace('\\xa0', '')\n",
    "\n",
    "    # weight\n",
    "    weight = soup.find_all('td')[4].text.replace('\\xa0', '')\n",
    "\n",
    "    # ability\n",
    "    ability = soup.find_all('span', {'class': 'text-muted'})[0].text.replace('1. ', '')\n",
    "\n",
    "    # extra ability\n",
    "    if '2. ' in soup.findAll(class_='text-muted')[1].text:\n",
    "        ex_ability = soup.findAll(class_='text-muted')[1].text.replace('2. ', '')\n",
    "    else: \n",
    "        ex_ability = ''\n",
    "        \n",
    "    \n",
    "    # hidden ability\n",
    "    hid_ability = soup.find_all('small', {'class': 'text-muted'})[0].text.replace(' (hidden ability)', '')\n",
    "    if '(' in hid_ability:  # Pokemon không có hidden ability nên bị đọc nhầm sang khu vực xuất hiện\n",
    "        hid_ability = ''\n",
    "\n",
    "    # catch_rate\n",
    "    catch_rate = soup.find_all('td')[8].text.replace('\\n', '')\n",
    "\n",
    "    # base friendship \n",
    "    base_fs = soup.find_all('td')[9].text.replace('\\n', '')\n",
    "\n",
    "    # base exp\n",
    "    base_exp = soup.find_all('td')[10].text.replace('\\n', '')\n",
    "\n",
    "    # growth_rate\n",
    "    growth_rate = soup.find_all('td')[11].text.replace('\\n', '')\n",
    "\n",
    "    # genders\n",
    "    genders = soup.find_all('td')[13].text.replace('\\n', '')\n",
    "\n",
    "    # base stats (base, min, max): health point, attack, defense, special attack, special defense, speed, total (base)\n",
    "    hp = int(soup.find_all('td')[15].text.replace('\\n', ''))\n",
    "\n",
    "    atk = int(soup.find_all('td')[19].text.replace('\\n', ''))\n",
    "\n",
    "    defn = int(soup.find_all('td')[23].text.replace('\\n', ''))\n",
    "\n",
    "    sp_atk = int(soup.find_all('td')[27].text.replace('\\n', ''))\n",
    "    \n",
    "    sp_def = int(soup.find_all('td')[31].text.replace('\\n', ''))\n",
    "\n",
    "    spd =  int(soup.find_all('td')[35].text.replace('\\n', ''))\n",
    "\n",
    "    total = int(soup.find_all('td')[39].text)\n",
    "\n",
    "    return name, type1, type2, species, height, weight, ability, ex_ability, hid_ability, catch_rate, base_fs, base_exp, growth_rate, genders, hp, atk, defn, sp_atk, sp_def, spd, total"
   ]
  },
  {
   "cell_type": "markdown",
   "metadata": {},
   "source": [
    "#### 3.2. Tương khắc hệ\n",
    "- Tương khắc hệ (Type Defenses) của một Pokemon là khả năng chịu đòn của một Pokemon trước những đòn tấn công mang hệ khác. Các Pokemon Trainer sẽ dựa vào tương khắc hệ này của chúng nhằm chọn ra Pokemon có ưu thế về hệ (Type Advantages) tốt nhất để đối đầu với Pokemon của đối thủ.\n",
    "\n",
    "        Ví dụ: Bulbasaur mang song hệ là Grass/Poison:\n",
    "                - Fire -> Grass/Poison = 2 <=> Đòn đánh hệ Fire sẽ gây gấp đôi sát thương lên Pokemon này\n",
    "                - Grass -> Grass/Poison = 1/4   <=> Đòn đánh hệ Grass sẽ gây 1/4 sát thương lên Pokemon này\n",
    "\n",
    "- Hàm type_defense(soup) sẽ trả về tương khắc hệ của Pokemon có url tương ứng. "
   ]
  },
  {
   "cell_type": "code",
   "execution_count": null,
   "metadata": {},
   "outputs": [],
   "source": [
    "def type_defense(soup):\n",
    "    type_defenses = []\n",
    "\n",
    "    for i in range(40, 58):\n",
    "        type_defenses.append(soup.findAll('td')[i].text)\n",
    "\n",
    "    return type_defenses"
   ]
  },
  {
   "cell_type": "markdown",
   "metadata": {},
   "source": [
    "#### 3.3. Đặc tính\n",
    "- Đặc tính (Ability) và đặc tính ẩn (Hidden Ability): Là những đặc tính được trao cho mỗi Pokémon để có thể hỗ trợ chúng trong trận chiến, chúng ta sẽ lấy thông tin mô tả ngắn gọn toàn bộ đặc tính ở trang \"https://pokemondb.net/ability\".\n",
    "- Một vài lợi ích đi kèm như: Thay đổi thời tiết, cường hóa tuyệt chiêu hoặc chỉ số, miễn nhiễm sát thương, giảm tấn công,...\n",
    " \n",
    "        - Ví dụ: \n",
    "             * 'Intimidate' giảm chỉ số Attack của đối phương\n",
    "             * 'Levitate' là trạng thái lơ lửng của Pokemon cho phép chúng miễn nhiễm với các đòn tấn công hệ Đất (Ground)\n",
    "                \n",
    "- Theo \"https://pokemondb.net/ability\", đặc tính và đặc tính ẩn đều gộp chung lại thành một danh sách được gọi là \"The ability list\".\n",
    "- Danh sách này chứa:\n",
    "\n",
    "                - Name: Tên đặc tính và đặc tính ẩn\n",
    "                - Pokémon: Số lượng Pokemon sở hữu đặc tính đó\n",
    "                - Description: Mô tả ngắn gọn về dặc tính đó\n",
    "                - Gen: Thế hệ mà đặc tính đó được giới thiệu lần đầu\n",
    "\n",
    "- Chúng ta chỉ cần quan tâm Name và Description.\n",
    "- Hàm get_abilities_description(soup) trả về kết quả mô tả ngắn gọn về các Ability và Hidden Ability tương tứng.\n",
    "- Lưu ý: \n",
    "\n",
    "        - Một vài Pokemon KHÔNG sở hữu Hidden Ability vì thế nội dung mô tả sẽ để trống\n",
    "        - Hàm này chỉ trả về tên và mô tả các đặc tính ĐÃ ĐƯỢC GIỚI THIỆU XUYÊN SUỐT SERIES GAME POKEMON chứ không phải của từng Pokemon."
   ]
  },
  {
   "cell_type": "code",
   "execution_count": null,
   "metadata": {},
   "outputs": [],
   "source": [
    "def get_abilities_description():\n",
    "    source = requests.get('https://pokemondb.net/ability').text\n",
    "    soup = bs4.BeautifulSoup(source,'html.parser')\n",
    "    \n",
    "    n1 = len(soup.findAll('tr')) - 1\n",
    "    ability = []\n",
    "    ability_des = []\n",
    "\n",
    "    for i in range(n1):\n",
    "        ability.append(soup.find_all('a', {'class': 'ent-name'})[i].text)\n",
    "        ability_des.append(soup.find_all('td', {'class': 'cell-med-text'})[i].text)\n",
    "\n",
    "    # blanked values\n",
    "    ability.append('')\n",
    "    ability_des.append('')\n",
    "    return {k: v for k, v in zip(ability, ability_des)}"
   ]
  },
  {
   "cell_type": "markdown",
   "metadata": {},
   "source": [
    "#### 3.4. Bắt đầu lấy thông tin, tương khắc hệ, đặc tính của từng Pokemon"
   ]
  },
  {
   "cell_type": "code",
   "execution_count": null,
   "metadata": {},
   "outputs": [],
   "source": [
    "data = []      # Thông tin\n",
    "type_def = []  # Tương khắc hệ\n",
    "\n",
    "for url in urls:\n",
    "    source = requests.get(url).text\n",
    "    soup = bs4.BeautifulSoup(source,'html.parser')\n",
    "    # Lấy thông tin của từng Pokemon\n",
    "    data.append(get_pokemon_info(soup))\n",
    "\n",
    "    # Tương khắc hệ của từng Pokemon\n",
    "    type_def.append(type_defense(soup))\n",
    "\n",
    "# Mô tả đặc tính\n",
    "abilities = get_abilities_description()"
   ]
  },
  {
   "cell_type": "markdown",
   "metadata": {},
   "source": [
    "#### 3.4.1. Cơ sở dữ liệu thông tin Pokemon\n",
    "- Sau khi đã có danh sách thông tin của toàn bộ Pokemon trong Pokedex, khởi tạo một cơ sở dữ liệu để lưu trữ\n",
    "- Index ở đây sẽ là ID của từng Pokemon, bắt đầu từ 1."
   ]
  },
  {
   "cell_type": "code",
   "execution_count": null,
   "metadata": {},
   "outputs": [],
   "source": [
    "pokedex = pd.DataFrame(data = data, columns=['Name', 'Type 1', 'Type 2', 'Species', 'Height', 'Weight', 'Ability', 'Extra Ability', 'Hidden Ability',\n",
    "                                             'Catch Rate', 'Base Friendship', 'Base Exp', 'Growth Rate', 'Gender',\n",
    "                                             'HP', 'Attack', 'Defense', 'Sp. Atk', 'Sp. Def', 'Speed', 'Total'], index = id)\n",
    "pokedex"
   ]
  },
  {
   "cell_type": "markdown",
   "metadata": {},
   "source": [
    "#### 3.4.2. Cơ sở dữ liệu tương khắc hệ\n",
    "- Tạo cơ sở dữ liệu để lưu trữ chỉ số tương khắc hệ.\n",
    "- Chuẩn hóa dữ liệu dòng và thêm cột 'Name' chứa tên các Pokemon."
   ]
  },
  {
   "cell_type": "code",
   "execution_count": null,
   "metadata": {},
   "outputs": [],
   "source": [
    "# Tạo csdl chứa tương khắc hệ\n",
    "type_defenses = pd.DataFrame(data = type_def, columns = ['NORMAL', 'FIRE', 'WATER', 'ELECTRIC', 'GRASS', 'ICE', \n",
    "                                        'FIGHTING', 'POISON', 'GROUND', 'FLYING', 'SPYCHIC', 'BUG',\n",
    "                                        'ROCK', 'GHOST', 'DRAGON', 'DARK', 'STEEL', 'FAIRY'], index = id)\n",
    "\n",
    "# Thay đổi giá trị các dòng cho dễ nhìn\n",
    "wrong = ['', '½', '¼', '1½', '⅛']\n",
    "right = ['1', '0.5', '0.25', '1.5', 1/3]\n",
    "\n",
    "for i, j in zip(wrong, right):\n",
    "    type_defenses = type_defenses.replace(i ,j)\n",
    "\n",
    "# Thêm tên vào cơ dở dữ liệu\n",
    "type_defenses.insert(0, 'Name', pokedex['Name'])\n",
    "type_defenses.insert(1, 'Type 1', pokedex['Type 1'])\n",
    "type_defenses.insert(2, 'Type 2', pokedex['Type 2'])\n",
    "\n",
    "type_defenses"
   ]
  },
  {
   "cell_type": "markdown",
   "metadata": {},
   "source": [
    "#### 3.4.3. Cơ sở dữ liệu mô tả các đặc tính\n",
    "- Ý tưởng thực hiện:\n",
    "\n",
    "                - B1: Trước tiên tạo database mới với tên, đặc tính, đặc tính ẩn Pokemon từ database cũ.\n",
    "                - B2: Tạo 3 list là abi_des, ex_abi_des và hid_abi_des.\n",
    "                - B3: Vì đặc tính 'Sharpness' vẫn chưa cập nhập mô tả trên \"https://pokemondb.net/ability\". Ta sẽ cập nhập thủ công cho đặc tính này.\n",
    "                - B4: Chạy vòng lặp từ 1 đến n+1 ứng với id từ 1 -> 905  (n = 905)\n",
    "                - B5: Tạo các biến tạm để lưu giữ các Ability theo id\n",
    "                - B6: abilities[temp] trả về mô tả ngắn gọn Ability tương ứng của Pokemon đó, tương tự như temp2 và temp3 với EA và HA.\n",
    "                - B7: Tạo thêm 3 cột để chứa dữ liệu của 3 list.\n",
    "                - B8: In csdl ra màn hình để kiểm tra."
   ]
  },
  {
   "cell_type": "code",
   "execution_count": null,
   "metadata": {},
   "outputs": [],
   "source": [
    "# Tạo csdl chứa tên và đặc tính tương ứng của từng Pokemon\n",
    "abilities_info = pokedex[['Name', 'Ability', 'Extra Ability', 'Hidden Ability']]     # B1\n",
    "\n",
    "# B2\n",
    "abi_des = []        # ability description\n",
    "ex_abi_des = []     # extra ability description\n",
    "hid_abi_des = []    # hidden ability description\n",
    "\n",
    "# B3\n",
    "abilities['Sharpness'] = 'Powers up slicing moves'\n",
    "\n",
    "# B4\n",
    "for i in range(1, n+1):\n",
    "    # B5\n",
    "    temp = abilities_info['Ability'][i]\n",
    "    temp2 = abilities_info['Extra Ability'][i]\n",
    "    temp3 = abilities_info['Hidden Ability'][i]\n",
    "    \n",
    "    # B6\n",
    "    abi_des.append(abilities[temp])\n",
    "    ex_abi_des.append(abilities[temp2])\n",
    "    hid_abi_des.append(abilities[temp3])\n",
    "\n",
    "\n",
    "# B7\n",
    "abilities_info.insert(2, 'Ability Description', abi_des)\n",
    "abilities_info.insert(4, 'Extra Ability Description', ex_abi_des)\n",
    "abilities_info.insert(6, 'Hidden Ability Description', hid_abi_des)\n",
    "\n",
    "# B8\n",
    "abilities_info"
   ]
  },
  {
   "cell_type": "markdown",
   "metadata": {},
   "source": [
    "# Xuất dữ liệu đã đọc được vào các file csv"
   ]
  },
  {
   "cell_type": "code",
   "execution_count": null,
   "metadata": {},
   "outputs": [],
   "source": [
    "pokedex.to_csv('pokemon_db.csv', encoding='utf-8', index = True)\n",
    "type_defenses.to_csv('type_defenses.csv', encoding='utf-8', index = True)\n",
    "abilities_info.to_csv('abilities_description.csv', encoding='utf-8', index = True)"
   ]
  },
  {
   "cell_type": "markdown",
   "metadata": {},
   "source": [
    "# Q & A\n",
    "\n",
    "### 1. Các Pokemon phân bố theo hệ như thế nào? \n",
    "\n",
    "- Tất cả các Pokemon đều có 1 hoặc 2 hệ. Với các Pokemon có 1 hệ:"
   ]
  },
  {
   "cell_type": "code",
   "execution_count": null,
   "metadata": {},
   "outputs": [],
   "source": [
    "data = pokedex['Type 1'].value_counts()\n",
    "fig,ax = plt.subplots(figsize = (15,10))\n",
    "ax.bar(data.keys(), data.values)\n",
    "\n",
    "# xlabel, ylabel, suptitle\n",
    "ax.set_xlabel('Hệ', fontsize=15)\n",
    "ax.set_ylabel('Số lượng', fontsize=15)\n",
    "plt.suptitle('\\nSố lượng Pokemon theo hệ 1', fontsize=18)\n",
    "\n",
    "# bar labels\n",
    "for bars in ax.containers:\n",
    "    ax.bar_label(bars, fontsize=14)\n",
    "\n",
    "plt.show()"
   ]
  },
  {
   "cell_type": "markdown",
   "metadata": {},
   "source": [
    "- Với các Pokemon mang song hệ, hệ 2 của chúng phân bố như sau:"
   ]
  },
  {
   "cell_type": "code",
   "execution_count": null,
   "metadata": {},
   "outputs": [],
   "source": [
    "data1 = pokedex['Type 2'][pokedex['Type 2'] != ''].value_counts()\n",
    "\n",
    "fig,ax = plt.subplots(figsize = (15,10))\n",
    "ax.bar(data1.keys(), data1.values)\n",
    "\n",
    "# xlabel, ylabel, suptitle\n",
    "ax.set_xlabel('Hệ', fontsize=15)\n",
    "ax.set_ylabel('Số lượng', fontsize=15)\n",
    "plt.suptitle('\\nSố lượng Pokemon theo hệ 2', fontsize=18)\n",
    "\n",
    "# bar labels\n",
    "for bars in ax.containers:\n",
    "    ax.bar_label(bars, fontsize=14)\n",
    "\n",
    "plt.show()"
   ]
  },
  {
   "cell_type": "markdown",
   "metadata": {},
   "source": [
    "- Kết hợp cả 2 đồ thị lại, ta được:"
   ]
  },
  {
   "cell_type": "code",
   "execution_count": null,
   "metadata": {},
   "outputs": [],
   "source": [
    "type1 = pokedex[['Type 1', 'Name']]\\\n",
    "                .rename(columns={'Type 1': 'Type', 'Name': 'Number'}) \\\n",
    "                .groupby('Type')\\\n",
    "                .count()\n",
    "\n",
    "temp = pokedex[pokedex['Type 2'] != '']\n",
    "\n",
    "type2 = temp[['Type 2', 'Name']]\\\n",
    "                .rename(columns={'Type 2': 'Type','Name': 'Number'}) \\\n",
    "                .groupby('Type')\\\n",
    "                .count()\n",
    "\n",
    "xx = type1.index\n",
    "\n",
    "fig = plt.gcf()\n",
    "fig.set_size_inches(15, 10)\n",
    "plt.barh(xx, type1['Number'])\n",
    "plt.barh(xx, type2['Number'],  color = 'green')\n",
    "plt.title('Thống kê Pokemon theo cả 2 hệ', fontsize = 15)\n",
    "plt.legend('12')\n",
    "plt.show()"
   ]
  },
  {
   "cell_type": "code",
   "execution_count": null,
   "metadata": {},
   "outputs": [],
   "source": [
    "print('Số lượng Pokemon mang song hệ:', data1.sum(), '/' , data.sum())"
   ]
  },
  {
   "cell_type": "markdown",
   "metadata": {},
   "source": [
    "- Nhận xét:\n",
    "        \n",
    "        - Số lượng Pokemon mang song hệ chiếm gần 50% tổng số Pokemon ĐÃ xuất hiện\n",
    "        - Các hệ Water, Normal nhiều nhất ở hệ 1, nhưng lại ít xuất hiện hơn hẳn ở hệ 2.\n",
    "        - Flying thường sẽ là hệ 2 của các Pokemon.\n",
    "        - Một vài hệ có vẻ khá là hiếm ở Type 1, mặc dù đó là hệ phổ biến."
   ]
  },
  {
   "cell_type": "markdown",
   "metadata": {},
   "source": [
    "### 2. Pokemon mang hệ nào là tốt nhất? "
   ]
  },
  {
   "cell_type": "markdown",
   "metadata": {},
   "source": [
    "- Trừ các cột **Name, Type 1, Type 2** ra, chúng ta chỉ quan tâm chỉ số chống chịu của Pokemon với các hệ còn lại:"
   ]
  },
  {
   "cell_type": "code",
   "execution_count": null,
   "metadata": {},
   "outputs": [],
   "source": [
    "best_types_list = pd.DataFrame()\n",
    "\n",
    "cols = type_defenses.columns[3:]\n",
    "\n",
    "for col in cols:\n",
    "    best_types_list[col] = type_defenses[col].astype(float)\n",
    "\n",
    "best_types_list"
   ]
  },
  {
   "cell_type": "markdown",
   "metadata": {},
   "source": [
    "- Với `mean` càng cao thì sát thương gây ra cũng sẽ càng nhiều lên tất cả các hệ khác. Như vậy, top 5 hệ tốt nhất của chúng ta sẽ là:"
   ]
  },
  {
   "cell_type": "code",
   "execution_count": null,
   "metadata": {},
   "outputs": [],
   "source": [
    "print(best_types_list.mean().sort_values(ascending=False)[0:5].round(2))\n",
    "best_types_list.mean().sort_values(ascending=False)[0:5].plot(kind = 'bar', figsize = [8,5])"
   ]
  },
  {
   "cell_type": "markdown",
   "metadata": {},
   "source": [
    "### 3. Cân nặng có liên quan gì đến khả năng chịu đòn của Pokemon hay không?"
   ]
  },
  {
   "cell_type": "markdown",
   "metadata": {},
   "source": [
    "- Trước tiên Cân nặng của một Pokemon sẽ được tính theo `kg` và `lbs`, chúng ta sẽ quy về `kg` thông qua tiền xử lý:"
   ]
  },
  {
   "cell_type": "code",
   "execution_count": null,
   "metadata": {},
   "outputs": [],
   "source": [
    "pokemon_weight = []\n",
    "\n",
    "for i in range(1, n + 1):\n",
    "    pokemon_weight.append(pokedex['Weight'].str.split('kg')[i][0])\n",
    "\n",
    "pokemon_weight = list(map(float, pokemon_weight))\n",
    "\n",
    "pokemon_weight"
   ]
  },
  {
   "cell_type": "markdown",
   "metadata": {},
   "source": [
    "- Khả năng chịu đòn của một Pokemon được quyết định dựa trên 3 thuộc tính chủ yếu:\n",
    "\n",
    "        + Điểm sinh mệnh (HP)\n",
    "        + Phòng thủ hoặc giáp (Defense)\n",
    "        + Phòng thủ đặc biệt hay kháng phép (Special Defense):"
   ]
  },
  {
   "cell_type": "code",
   "execution_count": null,
   "metadata": {},
   "outputs": [],
   "source": [
    "# HP\n",
    "plt.figure(figsize = (15,10))\n",
    "\n",
    "sns.scatterplot(data = pokedex,\n",
    "                x = pokedex['HP'], \n",
    "                y = pokemon_weight, \n",
    "                marker = 'o',\n",
    "                s = 100). \\\n",
    "                set(xlabel = 'Pokemon HP', ylabel = 'Pokemon Weight', title = 'Weight - HP')\n",
    "\n",
    "m, b = np.polyfit(pokedex['HP'], pokemon_weight, 1)\n",
    "plt.plot(pokedex['HP'], m*pokedex['HP']+b)\n",
    "\n",
    "\n",
    "# DEFENSE\n",
    "plt.figure(figsize = (15,10))\n",
    "\n",
    "sns.scatterplot(data = pokedex,\n",
    "                x = pokedex['Defense'], \n",
    "                y = pokemon_weight, \n",
    "                marker = 'o',\n",
    "                s = 100). \\\n",
    "                set(xlabel = 'Pokemon Defense', ylabel = 'Pokemon Weight', title = 'Weight - Defense')\n",
    "\n",
    "m, b = np.polyfit(pokedex['Defense'], pokemon_weight, 1)\n",
    "plt.plot(pokedex['Defense'], m*pokedex['Defense']+b)\n",
    "\n",
    "\n",
    "# SPECIAL DEFENSE\n",
    "plt.figure(figsize = (15,10))\n",
    "\n",
    "sns.scatterplot(data = pokedex,\n",
    "                x = pokedex['Sp. Def'], \n",
    "                y = pokemon_weight, \n",
    "                marker = 'o',\n",
    "                s = 100). \\\n",
    "                set(xlabel = 'Pokemon Special Defense', ylabel = 'Pokemon Weight', title = 'Weight - Special Defense')\n",
    "\n",
    "m, b = np.polyfit(pokedex['Sp. Def'], pokemon_weight, 1)\n",
    "plt.plot(pokedex['Sp. Def'], m*pokedex['Sp. Def']+b)"
   ]
  },
  {
   "cell_type": "markdown",
   "metadata": {},
   "source": [
    "- Nhận xét: \n",
    "\n",
    "        + Xu hướng tăng dần chỉ số phòng ngự theo cân nặng của Pokemon là có cơ sở\n",
    "        + Các Pokemon \"nặng ký\" thì sẽ có khả năng chịu đòn càng tốt\n",
    "        + Như vậy để có một Pokemon chịu đòn tốt, hãy chọn mấy con Pokemon mập :v"
   ]
  },
  {
   "cell_type": "markdown",
   "metadata": {},
   "source": [
    "### 4. Nếu dựa trên tương khắc hệ có thể suy ra được hệ tốt nhất cho một Pokemon. Vậy dựa trên chỉ số sức mạnh thì các hệ nào sẽ đứng top? "
   ]
  },
  {
   "cell_type": "code",
   "execution_count": null,
   "metadata": {},
   "outputs": [],
   "source": [
    "strongest_types_list = pokedex[['Name', 'Type 1', 'Total']]. \\\n",
    "                        groupby('Type 1'). \\\n",
    "                        mean('Total'). \\\n",
    "                        sort_values('Total', ascending = False)\n",
    "\n",
    "print(round(strongest_types_list, 2))\n",
    "\n",
    "strongest_types_list[0:5].plot(kind = 'bar', figsize = [10,10])"
   ]
  },
  {
   "cell_type": "markdown",
   "metadata": {},
   "source": [
    "- Nhận xét:\n",
    "\n",
    "        + DRAGON là hệ mạnh nhất, không có gì để bàn cãi cả.\n",
    "        + FIRE và ROCK vừa là nằm trong top cả hệ tốt nhất và hệ mạnh nhất.\n",
    "\n",
    "- Lưu ý:` Tuy DRAGON là hệ mạnh nhất nhưng vẫn không nằm trong các hệ tốt nhất là vì bọn này có chỉ số rất khủng, tuy vậy hệ tốt nhất chúng ta xét là dựa trên tương khắc hệ chứ không phải tổng chỉ số.`"
   ]
  },
  {
   "cell_type": "markdown",
   "metadata": {},
   "source": [
    "### 5. Pokemon Á Thần, Huyền Bí và Huyền Thoại gồm những Pokemon nào?"
   ]
  },
  {
   "cell_type": "markdown",
   "metadata": {},
   "source": [
    "- Trước hết, các Pokemon **Huyền Thoại (legendary)** ĐÃ được giới thiệu bao gồm những cái tên sau đây:"
   ]
  },
  {
   "cell_type": "code",
   "execution_count": null,
   "metadata": {},
   "outputs": [],
   "source": [
    "legendaries = ['Articuno', 'Zapdos', 'Moltres', 'Mewtwo', 'Raikou', 'Entei', 'Suicune', 'Lugia', 'Ho-oh', 'Regice', \n",
    "'Registeel', 'Regirock', 'Latias', 'Latios', 'Groudon', 'Kyogre', 'Rayquaza', 'Azelf', 'Mesprit', 'Uxie', \n",
    "'Dialga', 'Palkia', 'Giratina', 'Cresselia', 'Heatran', 'Regigigas', 'Cobalion', 'Terrakion', 'Virizion', \n",
    "'Tornadus', 'Thundurus', 'Landorus', 'Reshiram', 'Zekrom', 'Kyurem', 'Xerneas', 'Yveltal', 'Zygarde', 'Type: Null', \n",
    "'Silvally', 'Tapu Koko', 'Tapu Lele', 'Tapu Bulu', 'Tapu Fini', 'Cosmog', 'Cosmoem', 'Solgaleo', 'Lunala', 'Necrozma', \n",
    "'Zacian', 'Zamazenta', 'Eternatus', 'Kubfu', 'Urshifu', 'Regieleki', 'Regidrago', 'Glastrier', 'Spectrier', 'Calyrex']\n",
    "\n",
    "pokedex['Legendary'] = pokedex['Name'].isin(legendaries)\n",
    "\n",
    "pokedex[pokedex['Legendary'] == True]"
   ]
  },
  {
   "cell_type": "markdown",
   "metadata": {},
   "source": [
    "- Các Pokemon **Huyền Bí (mythical)** ĐÃ được giới thiệu bao gồm những cái tên sau đây:"
   ]
  },
  {
   "cell_type": "code",
   "execution_count": null,
   "metadata": {},
   "outputs": [],
   "source": [
    "mythicals = ['Mew', 'Celebi', 'Jirachi', 'Deoxys', 'Phione', 'Manaphy', 'Darkrai', 'Shaymin', \n",
    "'Arceus', 'Victini', 'Keldeo', 'Meloetta', 'Genesect', 'Diancie', 'Hoopa', 'Volcanion', 'Magearna',\n",
    "'Marshadow', 'Zeraora', 'Meltan', 'Melmetal', 'Zarude']\n",
    "\n",
    "pokedex['Mythical'] = pokedex['Name'].isin(mythicals)\n",
    "\n",
    "pokedex[pokedex['Mythical'] == True]"
   ]
  },
  {
   "cell_type": "markdown",
   "metadata": {},
   "source": [
    "- Các Pokemon **Á Thần (pseudo-legendary)** được giới thiệu trong tiếng Anh là `The 600 club (câu lạc bộ 600)` ám chỉ các Pokemon KHÔNG phải là Pokemon Huyền Thoại, cũng chẳng phải Huyền Bí và có tổng chỉ số trên 600, trừ con `Slaking`:"
   ]
  },
  {
   "cell_type": "code",
   "execution_count": null,
   "metadata": {},
   "outputs": [],
   "source": [
    "pokedex[pokedex['Legendary'] == False][pokedex['Mythical'] == False][pokedex['Total'] >= 600][pokedex['Name'] != 'Slaking']"
   ]
  },
  {
   "cell_type": "code",
   "execution_count": null,
   "metadata": {},
   "outputs": [],
   "source": [
    "# Kiểm tra số lượng Pokemon huyền thoại, huyền bí trong Pokedex hiện tại có khớp với chiều dài danh sách không\n",
    "print(pokedex[pokedex['Legendary'] == True].shape[0] == len(legendaries))\n",
    "print(pokedex[pokedex['Mythical'] == True].shape[0] == len(mythicals))"
   ]
  },
  {
   "cell_type": "markdown",
   "metadata": {},
   "source": [
    "### 6. So sánh chỉ số tổng quát của các Pokemon starter qua từng thời kỳ (gen 1 -> gen 8)?"
   ]
  },
  {
   "cell_type": "code",
   "execution_count": 173,
   "metadata": {},
   "outputs": [
    {
     "data": {
      "application/vnd.plotly.v1+json": {
       "config": {
        "plotlyServerURL": "https://plot.ly"
       },
       "data": [
        {
         "fill": "toself",
         "fillcolor": "green",
         "name": "Bulbasaur",
         "opacity": 0.5,
         "r": [
          45,
          49,
          49,
          65,
          65,
          45
         ],
         "subplot": "polar",
         "theta": [
          "HP",
          "Attack",
          "Defense",
          "Sp. Atk",
          "Sp. Def",
          "Speed"
         ],
         "type": "scatterpolar"
        },
        {
         "fill": "toself",
         "fillcolor": "red",
         "name": "Charmander",
         "opacity": 0.5,
         "r": [
          39,
          52,
          43,
          60,
          50,
          65
         ],
         "subplot": "polar2",
         "theta": [
          "HP",
          "Attack",
          "Defense",
          "Sp. Atk",
          "Sp. Def",
          "Speed"
         ],
         "type": "scatterpolar"
        },
        {
         "fill": "toself",
         "fillcolor": "blue",
         "name": "Squirtle",
         "opacity": 0.5,
         "r": [
          44,
          48,
          65,
          50,
          64,
          43
         ],
         "subplot": "polar3",
         "theta": [
          "HP",
          "Attack",
          "Defense",
          "Sp. Atk",
          "Sp. Def",
          "Speed"
         ],
         "type": "scatterpolar"
        },
        {
         "fill": "toself",
         "fillcolor": "green",
         "name": "Chikorita",
         "opacity": 0.5,
         "r": [
          45,
          49,
          65,
          49,
          65,
          45
         ],
         "subplot": "polar4",
         "theta": [
          "HP",
          "Attack",
          "Defense",
          "Sp. Atk",
          "Sp. Def",
          "Speed"
         ],
         "type": "scatterpolar"
        },
        {
         "fill": "toself",
         "fillcolor": "red",
         "name": "Cyndaquil",
         "opacity": 0.5,
         "r": [
          39,
          52,
          43,
          60,
          50,
          65
         ],
         "subplot": "polar5",
         "theta": [
          "HP",
          "Attack",
          "Defense",
          "Sp. Atk",
          "Sp. Def",
          "Speed"
         ],
         "type": "scatterpolar"
        },
        {
         "fill": "toself",
         "fillcolor": "blue",
         "name": "Totodile",
         "opacity": 0.5,
         "r": [
          50,
          65,
          64,
          44,
          48,
          43
         ],
         "subplot": "polar6",
         "theta": [
          "HP",
          "Attack",
          "Defense",
          "Sp. Atk",
          "Sp. Def",
          "Speed"
         ],
         "type": "scatterpolar"
        },
        {
         "fill": "toself",
         "fillcolor": "green",
         "name": "Treecko",
         "opacity": 0.5,
         "r": [
          40,
          45,
          35,
          65,
          55,
          70
         ],
         "subplot": "polar7",
         "theta": [
          "HP",
          "Attack",
          "Defense",
          "Sp. Atk",
          "Sp. Def",
          "Speed"
         ],
         "type": "scatterpolar"
        },
        {
         "fill": "toself",
         "fillcolor": "red",
         "name": "Torchic",
         "opacity": 0.5,
         "r": [
          45,
          60,
          40,
          70,
          50,
          45
         ],
         "subplot": "polar8",
         "theta": [
          "HP",
          "Attack",
          "Defense",
          "Sp. Atk",
          "Sp. Def",
          "Speed"
         ],
         "type": "scatterpolar"
        },
        {
         "fill": "toself",
         "fillcolor": "blue",
         "name": "Mudkip",
         "opacity": 0.5,
         "r": [
          50,
          70,
          50,
          50,
          50,
          40
         ],
         "subplot": "polar9",
         "theta": [
          "HP",
          "Attack",
          "Defense",
          "Sp. Atk",
          "Sp. Def",
          "Speed"
         ],
         "type": "scatterpolar"
        },
        {
         "fill": "toself",
         "fillcolor": "green",
         "name": "Turtwig",
         "opacity": 0.5,
         "r": [
          55,
          68,
          64,
          45,
          55,
          31
         ],
         "subplot": "polar10",
         "theta": [
          "HP",
          "Attack",
          "Defense",
          "Sp. Atk",
          "Sp. Def",
          "Speed"
         ],
         "type": "scatterpolar"
        },
        {
         "fill": "toself",
         "fillcolor": "red",
         "name": "Chimchar",
         "opacity": 0.5,
         "r": [
          44,
          58,
          44,
          58,
          44,
          61
         ],
         "subplot": "polar11",
         "theta": [
          "HP",
          "Attack",
          "Defense",
          "Sp. Atk",
          "Sp. Def",
          "Speed"
         ],
         "type": "scatterpolar"
        },
        {
         "fill": "toself",
         "fillcolor": "blue",
         "name": "Piplup",
         "opacity": 0.5,
         "r": [
          53,
          51,
          53,
          61,
          56,
          40
         ],
         "subplot": "polar12",
         "theta": [
          "HP",
          "Attack",
          "Defense",
          "Sp. Atk",
          "Sp. Def",
          "Speed"
         ],
         "type": "scatterpolar"
        },
        {
         "fill": "toself",
         "fillcolor": "green",
         "name": "Snivy",
         "opacity": 0.5,
         "r": [
          45,
          45,
          55,
          45,
          55,
          63
         ],
         "subplot": "polar13",
         "theta": [
          "HP",
          "Attack",
          "Defense",
          "Sp. Atk",
          "Sp. Def",
          "Speed"
         ],
         "type": "scatterpolar"
        },
        {
         "fill": "toself",
         "fillcolor": "red",
         "name": "Tepig",
         "opacity": 0.5,
         "r": [
          65,
          63,
          45,
          45,
          45,
          45
         ],
         "subplot": "polar14",
         "theta": [
          "HP",
          "Attack",
          "Defense",
          "Sp. Atk",
          "Sp. Def",
          "Speed"
         ],
         "type": "scatterpolar"
        },
        {
         "fill": "toself",
         "fillcolor": "blue",
         "name": "Oshawott",
         "opacity": 0.5,
         "r": [
          55,
          55,
          45,
          63,
          45,
          45
         ],
         "subplot": "polar15",
         "theta": [
          "HP",
          "Attack",
          "Defense",
          "Sp. Atk",
          "Sp. Def",
          "Speed"
         ],
         "type": "scatterpolar"
        },
        {
         "fill": "toself",
         "fillcolor": "green",
         "name": "Chespin",
         "opacity": 0.5,
         "r": [
          56,
          61,
          65,
          48,
          45,
          38
         ],
         "subplot": "polar16",
         "theta": [
          "HP",
          "Attack",
          "Defense",
          "Sp. Atk",
          "Sp. Def",
          "Speed"
         ],
         "type": "scatterpolar"
        },
        {
         "fill": "toself",
         "fillcolor": "red",
         "name": "Fennekin",
         "opacity": 0.5,
         "r": [
          40,
          45,
          40,
          62,
          60,
          60
         ],
         "subplot": "polar17",
         "theta": [
          "HP",
          "Attack",
          "Defense",
          "Sp. Atk",
          "Sp. Def",
          "Speed"
         ],
         "type": "scatterpolar"
        },
        {
         "fill": "toself",
         "fillcolor": "blue",
         "name": "Froakie",
         "opacity": 0.5,
         "r": [
          41,
          56,
          40,
          62,
          44,
          71
         ],
         "subplot": "polar18",
         "theta": [
          "HP",
          "Attack",
          "Defense",
          "Sp. Atk",
          "Sp. Def",
          "Speed"
         ],
         "type": "scatterpolar"
        },
        {
         "fill": "toself",
         "fillcolor": "green",
         "name": "Rowlet",
         "opacity": 0.5,
         "r": [
          68,
          55,
          55,
          50,
          50,
          42
         ],
         "subplot": "polar19",
         "theta": [
          "HP",
          "Attack",
          "Defense",
          "Sp. Atk",
          "Sp. Def",
          "Speed"
         ],
         "type": "scatterpolar"
        },
        {
         "fill": "toself",
         "fillcolor": "red",
         "name": "Litten",
         "opacity": 0.5,
         "r": [
          45,
          65,
          40,
          60,
          40,
          70
         ],
         "subplot": "polar20",
         "theta": [
          "HP",
          "Attack",
          "Defense",
          "Sp. Atk",
          "Sp. Def",
          "Speed"
         ],
         "type": "scatterpolar"
        },
        {
         "fill": "toself",
         "fillcolor": "blue",
         "name": "Popplio",
         "opacity": 0.5,
         "r": [
          50,
          54,
          54,
          66,
          56,
          40
         ],
         "subplot": "polar21",
         "theta": [
          "HP",
          "Attack",
          "Defense",
          "Sp. Atk",
          "Sp. Def",
          "Speed"
         ],
         "type": "scatterpolar"
        },
        {
         "fill": "toself",
         "fillcolor": "green",
         "name": "Grookey",
         "opacity": 0.5,
         "r": [
          50,
          65,
          50,
          40,
          40,
          65
         ],
         "subplot": "polar22",
         "theta": [
          "HP",
          "Attack",
          "Defense",
          "Sp. Atk",
          "Sp. Def",
          "Speed"
         ],
         "type": "scatterpolar"
        },
        {
         "fill": "toself",
         "fillcolor": "red",
         "name": "Scorbunny",
         "opacity": 0.5,
         "r": [
          50,
          71,
          40,
          40,
          40,
          69
         ],
         "subplot": "polar23",
         "theta": [
          "HP",
          "Attack",
          "Defense",
          "Sp. Atk",
          "Sp. Def",
          "Speed"
         ],
         "type": "scatterpolar"
        },
        {
         "fill": "toself",
         "fillcolor": "blue",
         "name": "Sobble",
         "opacity": 0.5,
         "r": [
          50,
          40,
          40,
          70,
          40,
          70
         ],
         "subplot": "polar24",
         "theta": [
          "HP",
          "Attack",
          "Defense",
          "Sp. Atk",
          "Sp. Def",
          "Speed"
         ],
         "type": "scatterpolar"
        }
       ],
       "layout": {
        "annotations": [
         {
          "font": {
           "size": 16
          },
          "showarrow": false,
          "text": "Bulbasaur",
          "x": 0.14444444444444446,
          "xanchor": "center",
          "xref": "paper",
          "y": 1,
          "yanchor": "bottom",
          "yref": "paper"
         },
         {
          "font": {
           "size": 16
          },
          "showarrow": false,
          "text": "Charmander",
          "x": 0.5,
          "xanchor": "center",
          "xref": "paper",
          "y": 1,
          "yanchor": "bottom",
          "yref": "paper"
         },
         {
          "font": {
           "size": 16
          },
          "showarrow": false,
          "text": "Squirtle",
          "x": 0.8555555555555556,
          "xanchor": "center",
          "xref": "paper",
          "y": 1,
          "yanchor": "bottom",
          "yref": "paper"
         },
         {
          "font": {
           "size": 16
          },
          "showarrow": false,
          "text": "Chikorita",
          "x": 0.14444444444444446,
          "xanchor": "center",
          "xref": "paper",
          "y": 0.8671875,
          "yanchor": "bottom",
          "yref": "paper"
         },
         {
          "font": {
           "size": 16
          },
          "showarrow": false,
          "text": "Cyndaquil",
          "x": 0.5,
          "xanchor": "center",
          "xref": "paper",
          "y": 0.8671875,
          "yanchor": "bottom",
          "yref": "paper"
         },
         {
          "font": {
           "size": 16
          },
          "showarrow": false,
          "text": "Totodile",
          "x": 0.8555555555555556,
          "xanchor": "center",
          "xref": "paper",
          "y": 0.8671875,
          "yanchor": "bottom",
          "yref": "paper"
         },
         {
          "font": {
           "size": 16
          },
          "showarrow": false,
          "text": "Treecko",
          "x": 0.14444444444444446,
          "xanchor": "center",
          "xref": "paper",
          "y": 0.734375,
          "yanchor": "bottom",
          "yref": "paper"
         },
         {
          "font": {
           "size": 16
          },
          "showarrow": false,
          "text": "Torchic",
          "x": 0.5,
          "xanchor": "center",
          "xref": "paper",
          "y": 0.734375,
          "yanchor": "bottom",
          "yref": "paper"
         },
         {
          "font": {
           "size": 16
          },
          "showarrow": false,
          "text": "Mudkip",
          "x": 0.8555555555555556,
          "xanchor": "center",
          "xref": "paper",
          "y": 0.734375,
          "yanchor": "bottom",
          "yref": "paper"
         },
         {
          "font": {
           "size": 16
          },
          "showarrow": false,
          "text": "Turtwig",
          "x": 0.14444444444444446,
          "xanchor": "center",
          "xref": "paper",
          "y": 0.6015625,
          "yanchor": "bottom",
          "yref": "paper"
         },
         {
          "font": {
           "size": 16
          },
          "showarrow": false,
          "text": "Chimchar",
          "x": 0.5,
          "xanchor": "center",
          "xref": "paper",
          "y": 0.6015625,
          "yanchor": "bottom",
          "yref": "paper"
         },
         {
          "font": {
           "size": 16
          },
          "showarrow": false,
          "text": "Piplup",
          "x": 0.8555555555555556,
          "xanchor": "center",
          "xref": "paper",
          "y": 0.6015625,
          "yanchor": "bottom",
          "yref": "paper"
         },
         {
          "font": {
           "size": 16
          },
          "showarrow": false,
          "text": "Snivy",
          "x": 0.14444444444444446,
          "xanchor": "center",
          "xref": "paper",
          "y": 0.46875,
          "yanchor": "bottom",
          "yref": "paper"
         },
         {
          "font": {
           "size": 16
          },
          "showarrow": false,
          "text": "Tepig",
          "x": 0.5,
          "xanchor": "center",
          "xref": "paper",
          "y": 0.46875,
          "yanchor": "bottom",
          "yref": "paper"
         },
         {
          "font": {
           "size": 16
          },
          "showarrow": false,
          "text": "Oshawott",
          "x": 0.8555555555555556,
          "xanchor": "center",
          "xref": "paper",
          "y": 0.46875,
          "yanchor": "bottom",
          "yref": "paper"
         },
         {
          "font": {
           "size": 16
          },
          "showarrow": false,
          "text": "Chespin",
          "x": 0.14444444444444446,
          "xanchor": "center",
          "xref": "paper",
          "y": 0.3359375,
          "yanchor": "bottom",
          "yref": "paper"
         },
         {
          "font": {
           "size": 16
          },
          "showarrow": false,
          "text": "Fennekin",
          "x": 0.5,
          "xanchor": "center",
          "xref": "paper",
          "y": 0.3359375,
          "yanchor": "bottom",
          "yref": "paper"
         },
         {
          "font": {
           "size": 16
          },
          "showarrow": false,
          "text": "Froakie",
          "x": 0.8555555555555556,
          "xanchor": "center",
          "xref": "paper",
          "y": 0.3359375,
          "yanchor": "bottom",
          "yref": "paper"
         },
         {
          "font": {
           "size": 16
          },
          "showarrow": false,
          "text": "Rowlet",
          "x": 0.14444444444444446,
          "xanchor": "center",
          "xref": "paper",
          "y": 0.203125,
          "yanchor": "bottom",
          "yref": "paper"
         },
         {
          "font": {
           "size": 16
          },
          "showarrow": false,
          "text": "Litten",
          "x": 0.5,
          "xanchor": "center",
          "xref": "paper",
          "y": 0.203125,
          "yanchor": "bottom",
          "yref": "paper"
         },
         {
          "font": {
           "size": 16
          },
          "showarrow": false,
          "text": "Popplio",
          "x": 0.8555555555555556,
          "xanchor": "center",
          "xref": "paper",
          "y": 0.203125,
          "yanchor": "bottom",
          "yref": "paper"
         },
         {
          "font": {
           "size": 16
          },
          "showarrow": false,
          "text": "Grookey",
          "x": 0.14444444444444446,
          "xanchor": "center",
          "xref": "paper",
          "y": 0.0703125,
          "yanchor": "bottom",
          "yref": "paper"
         },
         {
          "font": {
           "size": 16
          },
          "showarrow": false,
          "text": "Scorbunny",
          "x": 0.5,
          "xanchor": "center",
          "xref": "paper",
          "y": 0.0703125,
          "yanchor": "bottom",
          "yref": "paper"
         },
         {
          "font": {
           "size": 16
          },
          "showarrow": false,
          "text": "Sobble",
          "x": 0.8555555555555556,
          "xanchor": "center",
          "xref": "paper",
          "y": 0.0703125,
          "yanchor": "bottom",
          "yref": "paper"
         }
        ],
        "height": 3000,
        "polar": {
         "domain": {
          "x": [
           0,
           0.2888888888888889
          ],
          "y": [
           0.9296875,
           1
          ]
         }
        },
        "polar10": {
         "domain": {
          "x": [
           0,
           0.2888888888888889
          ],
          "y": [
           0.53125,
           0.6015625
          ]
         }
        },
        "polar11": {
         "domain": {
          "x": [
           0.35555555555555557,
           0.6444444444444445
          ],
          "y": [
           0.53125,
           0.6015625
          ]
         }
        },
        "polar12": {
         "domain": {
          "x": [
           0.7111111111111111,
           1
          ],
          "y": [
           0.53125,
           0.6015625
          ]
         }
        },
        "polar13": {
         "domain": {
          "x": [
           0,
           0.2888888888888889
          ],
          "y": [
           0.3984375,
           0.46875
          ]
         }
        },
        "polar14": {
         "domain": {
          "x": [
           0.35555555555555557,
           0.6444444444444445
          ],
          "y": [
           0.3984375,
           0.46875
          ]
         }
        },
        "polar15": {
         "domain": {
          "x": [
           0.7111111111111111,
           1
          ],
          "y": [
           0.3984375,
           0.46875
          ]
         }
        },
        "polar16": {
         "domain": {
          "x": [
           0,
           0.2888888888888889
          ],
          "y": [
           0.265625,
           0.3359375
          ]
         }
        },
        "polar17": {
         "domain": {
          "x": [
           0.35555555555555557,
           0.6444444444444445
          ],
          "y": [
           0.265625,
           0.3359375
          ]
         }
        },
        "polar18": {
         "domain": {
          "x": [
           0.7111111111111111,
           1
          ],
          "y": [
           0.265625,
           0.3359375
          ]
         }
        },
        "polar19": {
         "domain": {
          "x": [
           0,
           0.2888888888888889
          ],
          "y": [
           0.1328125,
           0.203125
          ]
         }
        },
        "polar2": {
         "domain": {
          "x": [
           0.35555555555555557,
           0.6444444444444445
          ],
          "y": [
           0.9296875,
           1
          ]
         }
        },
        "polar20": {
         "domain": {
          "x": [
           0.35555555555555557,
           0.6444444444444445
          ],
          "y": [
           0.1328125,
           0.203125
          ]
         }
        },
        "polar21": {
         "domain": {
          "x": [
           0.7111111111111111,
           1
          ],
          "y": [
           0.1328125,
           0.203125
          ]
         }
        },
        "polar22": {
         "domain": {
          "x": [
           0,
           0.2888888888888889
          ],
          "y": [
           0,
           0.0703125
          ]
         }
        },
        "polar23": {
         "domain": {
          "x": [
           0.35555555555555557,
           0.6444444444444445
          ],
          "y": [
           0,
           0.0703125
          ]
         }
        },
        "polar24": {
         "domain": {
          "x": [
           0.7111111111111111,
           1
          ],
          "y": [
           0,
           0.0703125
          ]
         }
        },
        "polar3": {
         "domain": {
          "x": [
           0.7111111111111111,
           1
          ],
          "y": [
           0.9296875,
           1
          ]
         }
        },
        "polar4": {
         "domain": {
          "x": [
           0,
           0.2888888888888889
          ],
          "y": [
           0.796875,
           0.8671875
          ]
         }
        },
        "polar5": {
         "domain": {
          "x": [
           0.35555555555555557,
           0.6444444444444445
          ],
          "y": [
           0.796875,
           0.8671875
          ]
         }
        },
        "polar6": {
         "domain": {
          "x": [
           0.7111111111111111,
           1
          ],
          "y": [
           0.796875,
           0.8671875
          ]
         }
        },
        "polar7": {
         "domain": {
          "x": [
           0,
           0.2888888888888889
          ],
          "y": [
           0.6640625,
           0.734375
          ]
         }
        },
        "polar8": {
         "domain": {
          "x": [
           0.35555555555555557,
           0.6444444444444445
          ],
          "y": [
           0.6640625,
           0.734375
          ]
         }
        },
        "polar9": {
         "domain": {
          "x": [
           0.7111111111111111,
           1
          ],
          "y": [
           0.6640625,
           0.734375
          ]
         }
        },
        "showlegend": false,
        "template": {
         "data": {
          "bar": [
           {
            "error_x": {
             "color": "#f2f5fa"
            },
            "error_y": {
             "color": "#f2f5fa"
            },
            "marker": {
             "line": {
              "color": "rgb(17,17,17)",
              "width": 0.5
             },
             "pattern": {
              "fillmode": "overlay",
              "size": 10,
              "solidity": 0.2
             }
            },
            "type": "bar"
           }
          ],
          "barpolar": [
           {
            "marker": {
             "line": {
              "color": "rgb(17,17,17)",
              "width": 0.5
             },
             "pattern": {
              "fillmode": "overlay",
              "size": 10,
              "solidity": 0.2
             }
            },
            "type": "barpolar"
           }
          ],
          "carpet": [
           {
            "aaxis": {
             "endlinecolor": "#A2B1C6",
             "gridcolor": "#506784",
             "linecolor": "#506784",
             "minorgridcolor": "#506784",
             "startlinecolor": "#A2B1C6"
            },
            "baxis": {
             "endlinecolor": "#A2B1C6",
             "gridcolor": "#506784",
             "linecolor": "#506784",
             "minorgridcolor": "#506784",
             "startlinecolor": "#A2B1C6"
            },
            "type": "carpet"
           }
          ],
          "choropleth": [
           {
            "colorbar": {
             "outlinewidth": 0,
             "ticks": ""
            },
            "type": "choropleth"
           }
          ],
          "contour": [
           {
            "colorbar": {
             "outlinewidth": 0,
             "ticks": ""
            },
            "colorscale": [
             [
              0,
              "#0d0887"
             ],
             [
              0.1111111111111111,
              "#46039f"
             ],
             [
              0.2222222222222222,
              "#7201a8"
             ],
             [
              0.3333333333333333,
              "#9c179e"
             ],
             [
              0.4444444444444444,
              "#bd3786"
             ],
             [
              0.5555555555555556,
              "#d8576b"
             ],
             [
              0.6666666666666666,
              "#ed7953"
             ],
             [
              0.7777777777777778,
              "#fb9f3a"
             ],
             [
              0.8888888888888888,
              "#fdca26"
             ],
             [
              1,
              "#f0f921"
             ]
            ],
            "type": "contour"
           }
          ],
          "contourcarpet": [
           {
            "colorbar": {
             "outlinewidth": 0,
             "ticks": ""
            },
            "type": "contourcarpet"
           }
          ],
          "heatmap": [
           {
            "colorbar": {
             "outlinewidth": 0,
             "ticks": ""
            },
            "colorscale": [
             [
              0,
              "#0d0887"
             ],
             [
              0.1111111111111111,
              "#46039f"
             ],
             [
              0.2222222222222222,
              "#7201a8"
             ],
             [
              0.3333333333333333,
              "#9c179e"
             ],
             [
              0.4444444444444444,
              "#bd3786"
             ],
             [
              0.5555555555555556,
              "#d8576b"
             ],
             [
              0.6666666666666666,
              "#ed7953"
             ],
             [
              0.7777777777777778,
              "#fb9f3a"
             ],
             [
              0.8888888888888888,
              "#fdca26"
             ],
             [
              1,
              "#f0f921"
             ]
            ],
            "type": "heatmap"
           }
          ],
          "heatmapgl": [
           {
            "colorbar": {
             "outlinewidth": 0,
             "ticks": ""
            },
            "colorscale": [
             [
              0,
              "#0d0887"
             ],
             [
              0.1111111111111111,
              "#46039f"
             ],
             [
              0.2222222222222222,
              "#7201a8"
             ],
             [
              0.3333333333333333,
              "#9c179e"
             ],
             [
              0.4444444444444444,
              "#bd3786"
             ],
             [
              0.5555555555555556,
              "#d8576b"
             ],
             [
              0.6666666666666666,
              "#ed7953"
             ],
             [
              0.7777777777777778,
              "#fb9f3a"
             ],
             [
              0.8888888888888888,
              "#fdca26"
             ],
             [
              1,
              "#f0f921"
             ]
            ],
            "type": "heatmapgl"
           }
          ],
          "histogram": [
           {
            "marker": {
             "pattern": {
              "fillmode": "overlay",
              "size": 10,
              "solidity": 0.2
             }
            },
            "type": "histogram"
           }
          ],
          "histogram2d": [
           {
            "colorbar": {
             "outlinewidth": 0,
             "ticks": ""
            },
            "colorscale": [
             [
              0,
              "#0d0887"
             ],
             [
              0.1111111111111111,
              "#46039f"
             ],
             [
              0.2222222222222222,
              "#7201a8"
             ],
             [
              0.3333333333333333,
              "#9c179e"
             ],
             [
              0.4444444444444444,
              "#bd3786"
             ],
             [
              0.5555555555555556,
              "#d8576b"
             ],
             [
              0.6666666666666666,
              "#ed7953"
             ],
             [
              0.7777777777777778,
              "#fb9f3a"
             ],
             [
              0.8888888888888888,
              "#fdca26"
             ],
             [
              1,
              "#f0f921"
             ]
            ],
            "type": "histogram2d"
           }
          ],
          "histogram2dcontour": [
           {
            "colorbar": {
             "outlinewidth": 0,
             "ticks": ""
            },
            "colorscale": [
             [
              0,
              "#0d0887"
             ],
             [
              0.1111111111111111,
              "#46039f"
             ],
             [
              0.2222222222222222,
              "#7201a8"
             ],
             [
              0.3333333333333333,
              "#9c179e"
             ],
             [
              0.4444444444444444,
              "#bd3786"
             ],
             [
              0.5555555555555556,
              "#d8576b"
             ],
             [
              0.6666666666666666,
              "#ed7953"
             ],
             [
              0.7777777777777778,
              "#fb9f3a"
             ],
             [
              0.8888888888888888,
              "#fdca26"
             ],
             [
              1,
              "#f0f921"
             ]
            ],
            "type": "histogram2dcontour"
           }
          ],
          "mesh3d": [
           {
            "colorbar": {
             "outlinewidth": 0,
             "ticks": ""
            },
            "type": "mesh3d"
           }
          ],
          "parcoords": [
           {
            "line": {
             "colorbar": {
              "outlinewidth": 0,
              "ticks": ""
             }
            },
            "type": "parcoords"
           }
          ],
          "pie": [
           {
            "automargin": true,
            "type": "pie"
           }
          ],
          "scatter": [
           {
            "marker": {
             "line": {
              "color": "#283442"
             }
            },
            "type": "scatter"
           }
          ],
          "scatter3d": [
           {
            "line": {
             "colorbar": {
              "outlinewidth": 0,
              "ticks": ""
             }
            },
            "marker": {
             "colorbar": {
              "outlinewidth": 0,
              "ticks": ""
             }
            },
            "type": "scatter3d"
           }
          ],
          "scattercarpet": [
           {
            "marker": {
             "colorbar": {
              "outlinewidth": 0,
              "ticks": ""
             }
            },
            "type": "scattercarpet"
           }
          ],
          "scattergeo": [
           {
            "marker": {
             "colorbar": {
              "outlinewidth": 0,
              "ticks": ""
             }
            },
            "type": "scattergeo"
           }
          ],
          "scattergl": [
           {
            "marker": {
             "line": {
              "color": "#283442"
             }
            },
            "type": "scattergl"
           }
          ],
          "scattermapbox": [
           {
            "marker": {
             "colorbar": {
              "outlinewidth": 0,
              "ticks": ""
             }
            },
            "type": "scattermapbox"
           }
          ],
          "scatterpolar": [
           {
            "marker": {
             "colorbar": {
              "outlinewidth": 0,
              "ticks": ""
             }
            },
            "type": "scatterpolar"
           }
          ],
          "scatterpolargl": [
           {
            "marker": {
             "colorbar": {
              "outlinewidth": 0,
              "ticks": ""
             }
            },
            "type": "scatterpolargl"
           }
          ],
          "scatterternary": [
           {
            "marker": {
             "colorbar": {
              "outlinewidth": 0,
              "ticks": ""
             }
            },
            "type": "scatterternary"
           }
          ],
          "surface": [
           {
            "colorbar": {
             "outlinewidth": 0,
             "ticks": ""
            },
            "colorscale": [
             [
              0,
              "#0d0887"
             ],
             [
              0.1111111111111111,
              "#46039f"
             ],
             [
              0.2222222222222222,
              "#7201a8"
             ],
             [
              0.3333333333333333,
              "#9c179e"
             ],
             [
              0.4444444444444444,
              "#bd3786"
             ],
             [
              0.5555555555555556,
              "#d8576b"
             ],
             [
              0.6666666666666666,
              "#ed7953"
             ],
             [
              0.7777777777777778,
              "#fb9f3a"
             ],
             [
              0.8888888888888888,
              "#fdca26"
             ],
             [
              1,
              "#f0f921"
             ]
            ],
            "type": "surface"
           }
          ],
          "table": [
           {
            "cells": {
             "fill": {
              "color": "#506784"
             },
             "line": {
              "color": "rgb(17,17,17)"
             }
            },
            "header": {
             "fill": {
              "color": "#2a3f5f"
             },
             "line": {
              "color": "rgb(17,17,17)"
             }
            },
            "type": "table"
           }
          ]
         },
         "layout": {
          "annotationdefaults": {
           "arrowcolor": "#f2f5fa",
           "arrowhead": 0,
           "arrowwidth": 1
          },
          "autotypenumbers": "strict",
          "coloraxis": {
           "colorbar": {
            "outlinewidth": 0,
            "ticks": ""
           }
          },
          "colorscale": {
           "diverging": [
            [
             0,
             "#8e0152"
            ],
            [
             0.1,
             "#c51b7d"
            ],
            [
             0.2,
             "#de77ae"
            ],
            [
             0.3,
             "#f1b6da"
            ],
            [
             0.4,
             "#fde0ef"
            ],
            [
             0.5,
             "#f7f7f7"
            ],
            [
             0.6,
             "#e6f5d0"
            ],
            [
             0.7,
             "#b8e186"
            ],
            [
             0.8,
             "#7fbc41"
            ],
            [
             0.9,
             "#4d9221"
            ],
            [
             1,
             "#276419"
            ]
           ],
           "sequential": [
            [
             0,
             "#0d0887"
            ],
            [
             0.1111111111111111,
             "#46039f"
            ],
            [
             0.2222222222222222,
             "#7201a8"
            ],
            [
             0.3333333333333333,
             "#9c179e"
            ],
            [
             0.4444444444444444,
             "#bd3786"
            ],
            [
             0.5555555555555556,
             "#d8576b"
            ],
            [
             0.6666666666666666,
             "#ed7953"
            ],
            [
             0.7777777777777778,
             "#fb9f3a"
            ],
            [
             0.8888888888888888,
             "#fdca26"
            ],
            [
             1,
             "#f0f921"
            ]
           ],
           "sequentialminus": [
            [
             0,
             "#0d0887"
            ],
            [
             0.1111111111111111,
             "#46039f"
            ],
            [
             0.2222222222222222,
             "#7201a8"
            ],
            [
             0.3333333333333333,
             "#9c179e"
            ],
            [
             0.4444444444444444,
             "#bd3786"
            ],
            [
             0.5555555555555556,
             "#d8576b"
            ],
            [
             0.6666666666666666,
             "#ed7953"
            ],
            [
             0.7777777777777778,
             "#fb9f3a"
            ],
            [
             0.8888888888888888,
             "#fdca26"
            ],
            [
             1,
             "#f0f921"
            ]
           ]
          },
          "colorway": [
           "#636efa",
           "#EF553B",
           "#00cc96",
           "#ab63fa",
           "#FFA15A",
           "#19d3f3",
           "#FF6692",
           "#B6E880",
           "#FF97FF",
           "#FECB52"
          ],
          "font": {
           "color": "#f2f5fa"
          },
          "geo": {
           "bgcolor": "rgb(17,17,17)",
           "lakecolor": "rgb(17,17,17)",
           "landcolor": "rgb(17,17,17)",
           "showlakes": true,
           "showland": true,
           "subunitcolor": "#506784"
          },
          "hoverlabel": {
           "align": "left"
          },
          "hovermode": "closest",
          "mapbox": {
           "style": "dark"
          },
          "paper_bgcolor": "rgb(17,17,17)",
          "plot_bgcolor": "rgb(17,17,17)",
          "polar": {
           "angularaxis": {
            "gridcolor": "#506784",
            "linecolor": "#506784",
            "ticks": ""
           },
           "bgcolor": "rgb(17,17,17)",
           "radialaxis": {
            "gridcolor": "#506784",
            "linecolor": "#506784",
            "ticks": ""
           }
          },
          "scene": {
           "xaxis": {
            "backgroundcolor": "rgb(17,17,17)",
            "gridcolor": "#506784",
            "gridwidth": 2,
            "linecolor": "#506784",
            "showbackground": true,
            "ticks": "",
            "zerolinecolor": "#C8D4E3"
           },
           "yaxis": {
            "backgroundcolor": "rgb(17,17,17)",
            "gridcolor": "#506784",
            "gridwidth": 2,
            "linecolor": "#506784",
            "showbackground": true,
            "ticks": "",
            "zerolinecolor": "#C8D4E3"
           },
           "zaxis": {
            "backgroundcolor": "rgb(17,17,17)",
            "gridcolor": "#506784",
            "gridwidth": 2,
            "linecolor": "#506784",
            "showbackground": true,
            "ticks": "",
            "zerolinecolor": "#C8D4E3"
           }
          },
          "shapedefaults": {
           "line": {
            "color": "#f2f5fa"
           }
          },
          "sliderdefaults": {
           "bgcolor": "#C8D4E3",
           "bordercolor": "rgb(17,17,17)",
           "borderwidth": 1,
           "tickwidth": 0
          },
          "ternary": {
           "aaxis": {
            "gridcolor": "#506784",
            "linecolor": "#506784",
            "ticks": ""
           },
           "baxis": {
            "gridcolor": "#506784",
            "linecolor": "#506784",
            "ticks": ""
           },
           "bgcolor": "rgb(17,17,17)",
           "caxis": {
            "gridcolor": "#506784",
            "linecolor": "#506784",
            "ticks": ""
           }
          },
          "title": {
           "x": 0.05
          },
          "updatemenudefaults": {
           "bgcolor": "#506784",
           "borderwidth": 0
          },
          "xaxis": {
           "automargin": true,
           "gridcolor": "#283442",
           "linecolor": "#506784",
           "ticks": "",
           "title": {
            "standoff": 15
           },
           "zerolinecolor": "#283442",
           "zerolinewidth": 2
          },
          "yaxis": {
           "automargin": true,
           "gridcolor": "#283442",
           "linecolor": "#506784",
           "ticks": "",
           "title": {
            "standoff": 15
           },
           "zerolinecolor": "#283442",
           "zerolinewidth": 2
          }
         }
        }
       }
      }
     },
     "metadata": {},
     "output_type": "display_data"
    }
   ],
   "source": [
    "my_pokemons =   ['Bulbasaur', 'Charmander', 'Squirtle', \n",
    "                'Chikorita', 'Cyndaquil', 'Totodile', \n",
    "                'Treecko', 'Torchic', 'Mudkip', \n",
    "                'Turtwig', 'Chimchar', 'Piplup',\n",
    "                'Snivy', 'Tepig', 'Oshawott', \n",
    "                'Chespin', 'Fennekin', 'Froakie', \n",
    "                'Rowlet', 'Litten', 'Popplio',\n",
    "                'Grookey', 'Scorbunny', 'Sobble']\n",
    "\n",
    "\n",
    "\n",
    "row = 8\n",
    "col = 3   \n",
    "idx = 0\n",
    "fig = make_subplots(rows = row, cols = col, specs = [[{\"type\": \"polar\"}]*col]*row,\n",
    "                   subplot_titles = tuple([pokemon for pokemon in my_pokemons]))\n",
    "\n",
    "color = ['green', 'red', 'blue']\n",
    "\n",
    "for i in range(row):\n",
    "    for j in range(col):\n",
    "        x = pokedex.query(\"Name == '{}'\".format(my_pokemons[idx])).iloc[:,14:20]\n",
    "        fig.add_trace(go.Scatterpolar(\n",
    "        r = x.values[0].tolist(),\n",
    "        theta = x.columns.tolist(),\n",
    "        fill = 'toself',\n",
    "        name = my_pokemons[idx], \n",
    "        fillcolor = color[j],\n",
    "        opacity = 0.5),  row = i + 1, col = j + 1)\n",
    "        idx += 1\n",
    "    \n",
    "fig.update_layout(height = 3000, showlegend = False, template = \"plotly_dark\")\n",
    "fig.show()"
   ]
  },
  {
   "cell_type": "code",
   "execution_count": null,
   "metadata": {},
   "outputs": [],
   "source": []
  }
 ],
 "metadata": {
  "kernelspec": {
   "display_name": "Python 3.10.0 64-bit",
   "language": "python",
   "name": "python3"
  },
  "language_info": {
   "codemirror_mode": {
    "name": "ipython",
    "version": 3
   },
   "file_extension": ".py",
   "mimetype": "text/x-python",
   "name": "python",
   "nbconvert_exporter": "python",
   "pygments_lexer": "ipython3",
   "version": "3.10.0"
  },
  "orig_nbformat": 4,
  "vscode": {
   "interpreter": {
    "hash": "76d7c06053c3456e5600312cec90888656fc0ed30c03d8425b9dac6e4fc8e014"
   }
  }
 },
 "nbformat": 4,
 "nbformat_minor": 2
}
