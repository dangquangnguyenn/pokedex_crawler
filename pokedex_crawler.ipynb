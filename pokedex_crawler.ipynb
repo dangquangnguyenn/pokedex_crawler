{
 "cells": [
  {
   "cell_type": "markdown",
   "metadata": {
    "id": "Du6rimrD4gbN"
   },
   "source": [
    "<h1><b>ĐỒ ÁN CUỐI KỲ NMKHDL</b></h1>\n",
    "<h2><b>POKEDEX</b></h2>\n",
    "\n",
    "Họ tên: Nguyễn Đăng Quang\n",
    "\n",
    "MSSV: 18120527\n",
    "\n"
   ]
  },
  {
   "cell_type": "markdown",
   "metadata": {},
   "source": [
    "# Giới thiệu sơ lược\n",
    "##### Có thể bạn chưa biết, Pocket Monsters viết tắt là Pokemon, một series game cũng như anime đình đám, series game Pokemon phát triển bởi GameFreak hiện vẫn đang làm mưa làm gió trên các hệ máy Nitendo và trên thị trường game toàn cầu. Nhân dịp gen9 (Scarlet & Violet) của game vừa ra mắt, chúng ta sẽ điểm lại các pokemon từ những thế hệ trước và thông số cũng như đặc tính của chúng thông qua Pokedex. Ở đây, chúng ta sẽ sử dụng \"https://pokemondb.net/pokedex/all\" là trang web chứa dữ liệu Pokedex, hay nói cách khác là danh sách của toàn bộ Pokemon ĐÃ xuất hiện xuyên suốt series game này. Let's go!"
   ]
  },
  {
   "cell_type": "markdown",
   "metadata": {},
   "source": [
    "# Install và import\n",
    "- bs4 (Beautiful Soup): Một thư viện Python dùng để phân tích các tài liệu HTML và XML. Nó tạo ra một cây phân tích cú pháp cho các trang được phân tích cú pháp có thể được sử dụng để trích xuất dữ liệu từ HTML, rất hữu ích cho web scrapping.\n",
    "- requests: Cho phép gửi các yêu cầu HTTP bằng Python."
   ]
  },
  {
   "cell_type": "code",
   "execution_count": null,
   "metadata": {
    "id": "7ZL9mrLkc3Dp"
   },
   "outputs": [],
   "source": [
    "!pip install bs4\n",
    "!pip install requests"
   ]
  },
  {
   "cell_type": "code",
   "execution_count": null,
   "metadata": {
    "id": "Nah1kqOV74Wk"
   },
   "outputs": [],
   "source": [
    "import bs4\n",
    "import requests\n",
    "import pandas as pd"
   ]
  },
  {
   "cell_type": "markdown",
   "metadata": {},
   "source": [
    "# Thu thập và xử lý dữ liệu\n",
    "### 1. Lấy danh sách các id riêng biệt của từng Pokemon\n",
    "- Lưu ý: Có thể các Pokemon có rất nhiều dạng (vùng miền, mega evolution, mega X/mega Y, nguyên thủy (primal form), tấn công/phòng thủ,...), hình dạng Pokemon thay đổi nhưng id thì vẫn giữ nguyên, vì vậy sẽ xuất hiện trường hợp một id lặp lại nhiều lần, chúng ta chỉ xét hình dạng cơ bản của chúng nên chỉ cần lấy 1 id cho mỗi Pokemon thôi. "
   ]
  },
  {
   "cell_type": "code",
   "execution_count": null,
   "metadata": {},
   "outputs": [],
   "source": [
    "url = 'https://pokemondb.net/pokedex/all'\n",
    "\n",
    "source = requests.get(url).text\n",
    "soup = bs4.BeautifulSoup(source,'html.parser')\n",
    "\n",
    "# Thu thập id của toàn bộ pokemon\n",
    "pokemon_id = soup.findAll('span', {'class': 'infocard-cell-data'})\n",
    "\n",
    "id = []\n",
    "\n",
    "for i in range(len(pokemon_id)):\n",
    "    id.append(pokemon_id[i].text)\n",
    "    id[i] = int(id[i])\n",
    "\n",
    "id = list(set(id))      # Sắp xếp và xóa các id bị trùng"
   ]
  },
  {
   "cell_type": "markdown",
   "metadata": {},
   "source": [
    "### 2. Danh sách các url của từng Pokemon\n",
    "- Chúng ta có thể dùng id hoặc tên của Pokemon để làm subdirectory của url tương ứng với Pokemon đó. \n",
    "\n",
    "##### Ví dụ: Pokemon có tên là Bulbasaur, id là 001:\n",
    "\n",
    "https://pokemondb.net/pokedex/bulbasaur\n",
    "\n",
    "https://pokemondb.net/pokedex/001 hay https://pokemondb.net/pokedex/1"
   ]
  },
  {
   "cell_type": "code",
   "execution_count": null,
   "metadata": {},
   "outputs": [],
   "source": [
    "# Lấy danh sách urls cho web scrapping\n",
    "urls = []\n",
    "n = len(id)\n",
    "\n",
    "for i in range(n):\n",
    "    urls.append('https://pokemondb.net/pokedex/' + str(id[i]))"
   ]
  },
  {
   "cell_type": "markdown",
   "metadata": {},
   "source": [
    "### 3. Thu thập dữ liệu\n",
    "#### 3.1. Thông tin\n",
    "- Lưu ý: ID của Pokemon sẽ được thêm vào sau cùng sau đó đặt ID làm cột index, ở đây chúng ta chỉ xét các thuộc tính như: tên, hệ, loài,...\n",
    "- Sẽ có thêm các cơ sở dữ liệu riêng để mô tả chi tiết các đặc tính cũng như đặc tính ẩn và tương khắc hệ\n",
    "- Các thuộc tính của một Pokemon sẽ bao gồm:\n",
    "\n",
    "            - name: Tên\n",
    "\n",
    "            - types_list: Hệ của Pokemon, mỗi con sẽ mang 1 hệ hoặc song hệ\n",
    "\n",
    "            - species: Loài\n",
    "\n",
    "            - height: Chiều cao\n",
    "\n",
    "            - weight: Cân nặng\n",
    "\n",
    "            - ability: Đặc tính\n",
    "\n",
    "            - hid_ability (hidden ability): Đặc tính ẩn\n",
    "\n",
    "            - catch_rate: Tỉ lệ bắt trúng bằng Poke Ball, bị ảnh hưởng bởi rất nhiều yếu tố:\n",
    "                    * HP hiện tại\n",
    "                    * Loại bóng (Poke Ball, Great Ball, Ultra Ball,...), Master Ball có tỷ lệ thu phục là 100% với tất cả Pokemon\n",
    "                    * Trạng thái hiện tại (Choáng, phỏng, nhiễm độc, ngủ, tê liệt,...)\n",
    "        \n",
    "            - base_fs (base friendship): Chỉ số thân thiện cơ bản, một số Pokemon có chỉ số thân thiện là 0, bọn này có vẻ không ưa con người cho lắm\n",
    "\n",
    "            - base_exp: Số lượng exp cần thiết để lên 1 level bất kỳ được tính theo hàm mũ. Mỗi loại có công thức khác nhau và khá phức tạp:\n",
    "                    * Ví dụ 1 công thức đơn giản nhất cho mọi người:\n",
    "                        Loại 1 000 000: exp = n^3 \n",
    "                        n là level cần lên.\n",
    "                        -> Để lên lv3 Pokemon loại này cần tổng cộng là 27exp trừ số exp hiện có sẽ ra số exp cần phải luyện thêm\n",
    "            \n",
    "            - growth_rate: Tốc độ tăng trưởng:\n",
    "                    * Erratic: 600.000 exp ở level 100\n",
    "                    * Fast: 800.000 điểm kinh nghiệm ở cấp 100\n",
    "                    * Medium Fast: 1.000.000 điểm kinh nghiệm ở cấp 100\n",
    "                    * Medium Slow: 1.059.860 điểm kinh nghiệm ở cấp 100\n",
    "                    * Slow: 1.250.000 điểm kinh nghiệm ở cấp 100\n",
    "                    * Fluctuating: 1.640.000 exp ở cấp 100:\n",
    "        \n",
    "            - genders: Giới tính theo tỷ lệ\n",
    "\n",
    "            - Base Stats: Chỉ số cơ bản, bao gồm: \n",
    "                    * hp (Health Point): Sinh mệnh\n",
    "                    * atk (Attack): Tấn công\n",
    "                    * defn (Defense): Phòng thủ, giáp (Vì def là khai báo hàm nên không dùng để khai báo biến cho Defense được :v)\n",
    "                    * sp_atk (Special Attack): Tấn công đặc biệt, sát thương phép\n",
    "                    * sp_def (Special Defense): Phòng thủ đặc biệt, kháng phép\n",
    "                    * spd (Speed): Tốc độ (tương tự như các game xoay tua, Pokemon tốc độ cao hơn sẽ được đánh trước)\n",
    "                    \n",
    "            - total: Tổng base stats\n"
   ]
  },
  {
   "cell_type": "markdown",
   "metadata": {},
   "source": [
    "- Hàm get_pokemon_info(soup) giúp lấy ra thông tin của một Pokemon có ID chỉ định. Sau đó sẽ dùng vòng lặp để lấy thông tin toàn bộ Pokemon trong Pokedex"
   ]
  },
  {
   "cell_type": "code",
   "execution_count": null,
   "metadata": {},
   "outputs": [],
   "source": [
    "# Thu thập dữ liệu nào\n",
    "def get_pokemon_info(soup):\n",
    "    # name\n",
    "    name = soup.find('h1').text\n",
    "\n",
    "    # types\n",
    "    types_list = soup.find_all('td')[1].text.replace('\\n', '')\n",
    "    types_list = types_list[:-1].replace(' ', ' & ')        # type1 & type2\n",
    "\n",
    "    # species\n",
    "    species = soup.find_all('td')[2].text\n",
    "\n",
    "    # height\n",
    "    height = soup.find_all('td')[3].text.replace('\\xa0', '')\n",
    "\n",
    "    # weight\n",
    "    weight = soup.find_all('td')[4].text.replace('\\xa0', '')\n",
    "\n",
    "    # bility & hidden Ability\n",
    "    ability = soup.find_all('span', {'class': 'text-muted'})[0].text.replace('1. ', '')\n",
    "    hid_ability = soup.find_all('small', {'class': 'text-muted'})[0].text.replace(' (hidden ability)', '')\n",
    "    if '(' in hid_ability:  # Pokemon không có hidden ability nên bị đọc nhầm sang khu vực xuất hiện\n",
    "        hid_ability = ''\n",
    "\n",
    "    # catch_rate\n",
    "    catch_rate = soup.find_all('td')[8].text.replace('\\n', '')\n",
    "\n",
    "    # base friendship \n",
    "    base_fs = soup.find_all('td')[9].text.replace('\\n', '')\n",
    "\n",
    "    # base exp\n",
    "    base_exp = soup.find_all('td')[10].text.replace('\\n', '')\n",
    "\n",
    "    # growth_rate\n",
    "    growth_rate = soup.find_all('td')[11].text.replace('\\n', '')\n",
    "\n",
    "    # genders\n",
    "    genders = soup.find_all('td')[13].text.replace('\\n', '')\n",
    "\n",
    "    # base stats (base, min, max): health point, attack, defense, special attack, special defense, speed, total (base)\n",
    "    hp = int(soup.find_all('td')[15].text.replace('\\n', ''))\n",
    "\n",
    "    atk = int(soup.find_all('td')[19].text.replace('\\n', ''))\n",
    "\n",
    "    defn = int(soup.find_all('td')[23].text.replace('\\n', ''))\n",
    "\n",
    "    sp_atk = int(soup.find_all('td')[27].text.replace('\\n', ''))\n",
    "    \n",
    "    sp_def = int(soup.find_all('td')[31].text.replace('\\n', ''))\n",
    "\n",
    "    spd =  int(soup.find_all('td')[35].text.replace('\\n', ''))\n",
    "\n",
    "    total = int(soup.find_all('td')[39].text)\n",
    "\n",
    "    return name, types_list, species, height, weight, ability, hid_ability, catch_rate, base_fs, base_exp, growth_rate, genders, hp, atk, defn, sp_atk, sp_def, spd, total"
   ]
  },
  {
   "cell_type": "markdown",
   "metadata": {},
   "source": [
    "#### 3.2. Tương khắc hệ\n",
    "- Tương khắc hệ (Type Defenses) của một Pokemon là khả năng chịu đòn của một Pokemon trước những đòn tấn công mang hệ khác. Các Pokemon Trainer sẽ dựa vào tương khắc hệ này của chúng nhằm chọn ra Pokemon có ưu thế về hệ (Type Advantages) tốt nhất để đối đầu với Pokemon của đối thủ.\n",
    "\n",
    "        Ví dụ: Bulbasaur mang song hệ là Grass/Poison:\n",
    "                - Fire -> Grass/Poison = 2 <=> Đòn đánh hệ Fire sẽ gây gấp đôi sát thương lên Pokemon này\n",
    "                - Grass -> Grass/Poison = 1/4   <=> Đòn đánh hệ Grass sẽ gây 0.25 sát thương lên Pokemon này\n",
    "\n",
    "- Hàm Type_Defenses(soup) sẽ trả về tương khắc hệ của Pokemon có url tương ứng. "
   ]
  },
  {
   "cell_type": "code",
   "execution_count": null,
   "metadata": {},
   "outputs": [],
   "source": [
    "def type_defense(soup):\n",
    "    type_defenses = []\n",
    "\n",
    "    for i in range(40, 58):\n",
    "        type_defenses.append(soup.findAll('td')[i].text)\n",
    "\n",
    "    return type_defenses"
   ]
  },
  {
   "cell_type": "markdown",
   "metadata": {},
   "source": [
    "#### 3.3. Đặc tính\n",
    "- Đặc tính (Ability) và đặc tính ẩn (Hidden Ability)\n",
    "- Hàm get_abilities_description(soup) mô tả chi tiết về các đặc tính và đặc tính ẩn của từng Pokemon"
   ]
  },
  {
   "cell_type": "code",
   "execution_count": null,
   "metadata": {},
   "outputs": [],
   "source": [
    "def get_abilities_description(soup):\n",
    "    ab_des = []\n",
    "    hid_ab_des = []"
   ]
  },
  {
   "cell_type": "markdown",
   "metadata": {},
   "source": [
    "#### 3.4. Bắt đầu lấy thông tin, tương khắc hệ, đặc tính của từng Pokemon"
   ]
  },
  {
   "cell_type": "code",
   "execution_count": null,
   "metadata": {},
   "outputs": [],
   "source": [
    "type_defenses = []\n",
    "data = []\n",
    "ability = []\n",
    "hid_ability = []\n",
    "for url in urls:\n",
    "    source = requests.get(url).text\n",
    "    soup = bs4.BeautifulSoup(source,'html.parser')\n",
    "    # Lấy thông tin của từng Pokemon\n",
    "    data.append(get_pokemon_info(soup))\n",
    "\n",
    "    # Tương khắc hệ của từng Pokemon\n",
    "    type_defenses.append(type_defense(soup))\n",
    "    \n"
   ]
  },
  {
   "cell_type": "markdown",
   "metadata": {},
   "source": [
    "#### 3.4.1. Cơ sở dữ liệu thông tin Pokemon\n",
    "- Sau khi đã có danh sách thông tin của toàn bộ Pokemon trong Pokedex, khởi tạo một cơ sở dữ liệu để lưu trữ\n",
    "- Index ở đây sẽ là ID của từng Pokemon, bắt đầu từ 1."
   ]
  },
  {
   "cell_type": "code",
   "execution_count": null,
   "metadata": {},
   "outputs": [],
   "source": [
    "pokedex = pd.DataFrame(data = data, columns=['Name', 'Type', 'Species', 'Height', 'Weight', 'Ability', 'Hidden Ability',\n",
    "                                             'Catch Rate', 'Base Friendship', 'Base Exp', 'Growth Rate', 'Gender',\n",
    "                                             'HP', 'Attack', 'Defense', 'Sp. Atk', 'Sp. Def', 'Speed', 'Total'], index = id)\n",
    "pokedex"
   ]
  },
  {
   "cell_type": "markdown",
   "metadata": {},
   "source": [
    "#### 3.4.2. Cơ sở dữ liệu tương khắc hệ\n",
    "- Chuẩn hóa dữ liệu dòng"
   ]
  },
  {
   "cell_type": "code",
   "execution_count": null,
   "metadata": {},
   "outputs": [],
   "source": [
    "# replace values\n",
    "wrong = ['', '½', '¼']\n",
    "right = ['1', '0.5', '0.25']\n",
    "\n",
    "for i, j in zip(wrong, right):\n",
    "    "
   ]
  },
  {
   "cell_type": "markdown",
   "metadata": {},
   "source": [
    "## 4. Xuất dữ liệu đã đọc được vào các file csv"
   ]
  },
  {
   "cell_type": "code",
   "execution_count": null,
   "metadata": {},
   "outputs": [],
   "source": [
    "pokedex.to_csv('pokemon_db.csv', encoding='utf-8', index = True)\n",
    "type_defenses.to_csv('type_defenses.csv', encoding='utf-8', index = True)"
   ]
  }
 ],
 "metadata": {
  "kernelspec": {
   "display_name": "Python 3.10.0 64-bit",
   "language": "python",
   "name": "python3"
  },
  "language_info": {
   "codemirror_mode": {
    "name": "ipython",
    "version": 3
   },
   "file_extension": ".py",
   "mimetype": "text/x-python",
   "name": "python",
   "nbconvert_exporter": "python",
   "pygments_lexer": "ipython3",
   "version": "3.10.0"
  },
  "orig_nbformat": 4,
  "vscode": {
   "interpreter": {
    "hash": "76d7c06053c3456e5600312cec90888656fc0ed30c03d8425b9dac6e4fc8e014"
   }
  }
 },
 "nbformat": 4,
 "nbformat_minor": 2
}
